{
 "cells": [
  {
   "cell_type": "code",
   "execution_count": 41,
   "metadata": {},
   "outputs": [],
   "source": [
    "def game_core_v1(number):\n",
    "    '''Просто угадываем на random, никак не используя информацию о больше\n",
    "    или меньше. Функция принимает загаданное число и возвращает\n",
    "    число попыток.'''\n",
    "    # Счетчик попыток\n",
    "    count = 0\n",
    "\n",
    "    while True:\n",
    "        count += 1\n",
    "        predict = np.random.randint(1, 101)  # предполагаемое число\n",
    "        if number == predict:\n",
    "            return (count)  # выход из цикла, если угадали\n",
    "\n",
    "\n",
    "def game_core_v2(number):\n",
    "    '''Сначала устанавливаем любое random число, а потом уменьшаем или\n",
    "    увеличиваем его в зависимости от того, больше оно или меньше нужного.\n",
    "    Функция принимает загаданное число и возвращает число попыток.'''\n",
    "    # Счетчик попыток\n",
    "    count = 1\n",
    "    predict = np.random.randint(1, 101)\n",
    "\n",
    "    while number != predict:\n",
    "        count += 1\n",
    "        if number > predict:\n",
    "            predict += 1\n",
    "        elif number < predict:\n",
    "            predict -= 1\n",
    "    return (count)  # выход из цикла, если угадали\n",
    "\n",
    "\n",
    "def half_devision(number):\n",
    "    '''Начнем с 50 и далее в зависимости от того, меньше искомое число\n",
    "    или больше, будем брать половину от \"левого\" отрезка или \"правого\",\n",
    "    соответственно, постепенно сужая границы. Функция принимает загадан-\n",
    "    ное число и возвращает число попыток.'''\n",
    "    # Счетчик попыток\n",
    "    count = 1\n",
    "    \n",
    "    # Левая и правая граница для поиска (шире на 1, чем диапазон)\n",
    "    left_side = 0\n",
    "    right_side = 101\n",
    "\n",
    "    # Пытаемся угадать с первого раза -)\n",
    "    predict = 50\n",
    "\n",
    "    # Цикл повторяется, пока не будет угадано число\n",
    "    while number != predict:\n",
    "        # Если мы тут, значит не угадали. Увеличиваем счетчик на 1\n",
    "        count += 1\n",
    "        # Если искомое больше, левый край отрезка смещаем\n",
    "        if number>predict:\n",
    "            left_side = predict \n",
    "        # Если искомое меньше, правый край отрезка смещаем\n",
    "        elif number<predict:\n",
    "            right_side = predict\n",
    "        # Предсказываем число, взяв середину отрезка \n",
    "        predict = left_side + int((right_side-left_side)/2)\n",
    "        # Две строки для отладки. Раскомментируйте для отражения параметров\n",
    "        # print(f'{left_side} -left_side, {right_side} -right_side, \n",
    "        # {(right_side-left_side)/2} -пополам, {predict} -прогноз')\n",
    "    return (count)\n",
    "\n",
    "\n",
    "def score_game(game_core):\n",
    "    '''Запускаем игру 1000 раз, чтобы узнать, как быстро в среднем игра угадывает\n",
    "    число'''\n",
    "    count_ls = []\n",
    "    np.random.seed(1)  # фиксируем генератор случ. чисел для объективности\n",
    "    random_array = np.random.randint(1, 101, size=(1000))\n",
    "\n",
    "    for number in random_array:\n",
    "        count_ls.append(game_core(number))\n",
    "    score = int(np.mean(count_ls))\n",
    "    print(f\"Ваш алгоритм угадывает число в среднем за {score} попыток\")\n",
    "    return (score)"
   ]
  },
  {
   "cell_type": "code",
   "execution_count": 44,
   "metadata": {},
   "outputs": [
    {
     "name": "stdout",
     "output_type": "stream",
     "text": [
      "Ваш алгоритм угадывает число в среднем за 5 попыток\n"
     ]
    },
    {
     "data": {
      "text/plain": [
       "5"
      ]
     },
     "execution_count": 44,
     "metadata": {},
     "output_type": "execute_result"
    }
   ],
   "source": [
    "score_game(half_devision)"
   ]
  }
 ],
 "metadata": {
  "kernelspec": {
   "display_name": "Python 3",
   "language": "python",
   "name": "python3"
  },
  "language_info": {
   "codemirror_mode": {
    "name": "ipython",
    "version": 3
   },
   "file_extension": ".py",
   "mimetype": "text/x-python",
   "name": "python",
   "nbconvert_exporter": "python",
   "pygments_lexer": "ipython3",
   "version": "3.8.3"
  }
 },
 "nbformat": 4,
 "nbformat_minor": 4
}

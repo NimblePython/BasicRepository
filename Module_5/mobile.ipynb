{
 "cells": [
  {
   "cell_type": "code",
   "execution_count": 1,
   "metadata": {},
   "outputs": [],
   "source": [
    "import pandas as pd\n",
    "import numpy as np\n",
    "import matplotlib.pyplot as plt"
   ]
  },
  {
   "cell_type": "code",
   "execution_count": 209,
   "metadata": {},
   "outputs": [],
   "source": [
    "from sklearn.model_selection import train_test_split\n",
    "from sklearn.linear_model import LogisticRegression"
   ]
  },
  {
   "cell_type": "code",
   "execution_count": 168,
   "metadata": {},
   "outputs": [],
   "source": [
    "myData = pd.read_csv('train_mobile.xls', sep=';')"
   ]
  },
  {
   "cell_type": "code",
   "execution_count": 177,
   "metadata": {
    "scrolled": true
   },
   "outputs": [
    {
     "data": {
      "text/html": [
       "<div>\n",
       "<style scoped>\n",
       "    .dataframe tbody tr th:only-of-type {\n",
       "        vertical-align: middle;\n",
       "    }\n",
       "\n",
       "    .dataframe tbody tr th {\n",
       "        vertical-align: top;\n",
       "    }\n",
       "\n",
       "    .dataframe thead th {\n",
       "        text-align: right;\n",
       "    }\n",
       "</style>\n",
       "<table border=\"1\" class=\"dataframe\">\n",
       "  <thead>\n",
       "    <tr style=\"text-align: right;\">\n",
       "      <th></th>\n",
       "      <th>battery_power</th>\n",
       "      <th>blue</th>\n",
       "      <th>clock_speed</th>\n",
       "      <th>dual_sim</th>\n",
       "      <th>fc</th>\n",
       "      <th>four_g</th>\n",
       "      <th>int_memory</th>\n",
       "      <th>m_dep</th>\n",
       "      <th>mobile_wt</th>\n",
       "      <th>n_cores</th>\n",
       "      <th>...</th>\n",
       "      <th>px_height</th>\n",
       "      <th>px_width</th>\n",
       "      <th>ram</th>\n",
       "      <th>sc_h</th>\n",
       "      <th>sc_w</th>\n",
       "      <th>talk_time</th>\n",
       "      <th>three_g</th>\n",
       "      <th>touch_screen</th>\n",
       "      <th>wifi</th>\n",
       "      <th>price_range</th>\n",
       "    </tr>\n",
       "  </thead>\n",
       "  <tbody>\n",
       "    <tr>\n",
       "      <th>0</th>\n",
       "      <td>842</td>\n",
       "      <td>0</td>\n",
       "      <td>2.2</td>\n",
       "      <td>0</td>\n",
       "      <td>1</td>\n",
       "      <td>0</td>\n",
       "      <td>7</td>\n",
       "      <td>0.6</td>\n",
       "      <td>188</td>\n",
       "      <td>2</td>\n",
       "      <td>...</td>\n",
       "      <td>20</td>\n",
       "      <td>756</td>\n",
       "      <td>2549</td>\n",
       "      <td>9</td>\n",
       "      <td>7</td>\n",
       "      <td>19</td>\n",
       "      <td>0</td>\n",
       "      <td>0</td>\n",
       "      <td>1</td>\n",
       "      <td>0</td>\n",
       "    </tr>\n",
       "    <tr>\n",
       "      <th>1</th>\n",
       "      <td>1021</td>\n",
       "      <td>1</td>\n",
       "      <td>0.5</td>\n",
       "      <td>1</td>\n",
       "      <td>0</td>\n",
       "      <td>1</td>\n",
       "      <td>53</td>\n",
       "      <td>0.7</td>\n",
       "      <td>136</td>\n",
       "      <td>3</td>\n",
       "      <td>...</td>\n",
       "      <td>905</td>\n",
       "      <td>1988</td>\n",
       "      <td>2631</td>\n",
       "      <td>17</td>\n",
       "      <td>3</td>\n",
       "      <td>7</td>\n",
       "      <td>1</td>\n",
       "      <td>1</td>\n",
       "      <td>0</td>\n",
       "      <td>1</td>\n",
       "    </tr>\n",
       "    <tr>\n",
       "      <th>2</th>\n",
       "      <td>563</td>\n",
       "      <td>1</td>\n",
       "      <td>0.5</td>\n",
       "      <td>1</td>\n",
       "      <td>2</td>\n",
       "      <td>1</td>\n",
       "      <td>41</td>\n",
       "      <td>0.9</td>\n",
       "      <td>145</td>\n",
       "      <td>5</td>\n",
       "      <td>...</td>\n",
       "      <td>1263</td>\n",
       "      <td>1716</td>\n",
       "      <td>2603</td>\n",
       "      <td>11</td>\n",
       "      <td>2</td>\n",
       "      <td>9</td>\n",
       "      <td>1</td>\n",
       "      <td>1</td>\n",
       "      <td>0</td>\n",
       "      <td>1</td>\n",
       "    </tr>\n",
       "    <tr>\n",
       "      <th>3</th>\n",
       "      <td>615</td>\n",
       "      <td>1</td>\n",
       "      <td>2.5</td>\n",
       "      <td>0</td>\n",
       "      <td>0</td>\n",
       "      <td>0</td>\n",
       "      <td>10</td>\n",
       "      <td>0.8</td>\n",
       "      <td>131</td>\n",
       "      <td>6</td>\n",
       "      <td>...</td>\n",
       "      <td>1216</td>\n",
       "      <td>1786</td>\n",
       "      <td>2769</td>\n",
       "      <td>16</td>\n",
       "      <td>8</td>\n",
       "      <td>11</td>\n",
       "      <td>1</td>\n",
       "      <td>0</td>\n",
       "      <td>0</td>\n",
       "      <td>1</td>\n",
       "    </tr>\n",
       "    <tr>\n",
       "      <th>4</th>\n",
       "      <td>1821</td>\n",
       "      <td>1</td>\n",
       "      <td>1.2</td>\n",
       "      <td>0</td>\n",
       "      <td>13</td>\n",
       "      <td>1</td>\n",
       "      <td>44</td>\n",
       "      <td>0.6</td>\n",
       "      <td>141</td>\n",
       "      <td>2</td>\n",
       "      <td>...</td>\n",
       "      <td>1208</td>\n",
       "      <td>1212</td>\n",
       "      <td>1411</td>\n",
       "      <td>8</td>\n",
       "      <td>2</td>\n",
       "      <td>15</td>\n",
       "      <td>1</td>\n",
       "      <td>1</td>\n",
       "      <td>0</td>\n",
       "      <td>0</td>\n",
       "    </tr>\n",
       "    <tr>\n",
       "      <th>...</th>\n",
       "      <td>...</td>\n",
       "      <td>...</td>\n",
       "      <td>...</td>\n",
       "      <td>...</td>\n",
       "      <td>...</td>\n",
       "      <td>...</td>\n",
       "      <td>...</td>\n",
       "      <td>...</td>\n",
       "      <td>...</td>\n",
       "      <td>...</td>\n",
       "      <td>...</td>\n",
       "      <td>...</td>\n",
       "      <td>...</td>\n",
       "      <td>...</td>\n",
       "      <td>...</td>\n",
       "      <td>...</td>\n",
       "      <td>...</td>\n",
       "      <td>...</td>\n",
       "      <td>...</td>\n",
       "      <td>...</td>\n",
       "      <td>...</td>\n",
       "    </tr>\n",
       "    <tr>\n",
       "      <th>1995</th>\n",
       "      <td>794</td>\n",
       "      <td>1</td>\n",
       "      <td>0.5</td>\n",
       "      <td>1</td>\n",
       "      <td>0</td>\n",
       "      <td>1</td>\n",
       "      <td>2</td>\n",
       "      <td>0.8</td>\n",
       "      <td>106</td>\n",
       "      <td>6</td>\n",
       "      <td>...</td>\n",
       "      <td>1222</td>\n",
       "      <td>1890</td>\n",
       "      <td>668</td>\n",
       "      <td>13</td>\n",
       "      <td>4</td>\n",
       "      <td>19</td>\n",
       "      <td>1</td>\n",
       "      <td>1</td>\n",
       "      <td>0</td>\n",
       "      <td>0</td>\n",
       "    </tr>\n",
       "    <tr>\n",
       "      <th>1996</th>\n",
       "      <td>1965</td>\n",
       "      <td>1</td>\n",
       "      <td>2.6</td>\n",
       "      <td>1</td>\n",
       "      <td>0</td>\n",
       "      <td>0</td>\n",
       "      <td>39</td>\n",
       "      <td>0.2</td>\n",
       "      <td>187</td>\n",
       "      <td>4</td>\n",
       "      <td>...</td>\n",
       "      <td>915</td>\n",
       "      <td>1965</td>\n",
       "      <td>2032</td>\n",
       "      <td>11</td>\n",
       "      <td>10</td>\n",
       "      <td>16</td>\n",
       "      <td>1</td>\n",
       "      <td>1</td>\n",
       "      <td>1</td>\n",
       "      <td>1</td>\n",
       "    </tr>\n",
       "    <tr>\n",
       "      <th>1997</th>\n",
       "      <td>1911</td>\n",
       "      <td>0</td>\n",
       "      <td>0.9</td>\n",
       "      <td>1</td>\n",
       "      <td>1</td>\n",
       "      <td>1</td>\n",
       "      <td>36</td>\n",
       "      <td>0.7</td>\n",
       "      <td>108</td>\n",
       "      <td>8</td>\n",
       "      <td>...</td>\n",
       "      <td>868</td>\n",
       "      <td>1632</td>\n",
       "      <td>3057</td>\n",
       "      <td>9</td>\n",
       "      <td>1</td>\n",
       "      <td>5</td>\n",
       "      <td>1</td>\n",
       "      <td>1</td>\n",
       "      <td>0</td>\n",
       "      <td>1</td>\n",
       "    </tr>\n",
       "    <tr>\n",
       "      <th>1998</th>\n",
       "      <td>1512</td>\n",
       "      <td>0</td>\n",
       "      <td>0.9</td>\n",
       "      <td>0</td>\n",
       "      <td>4</td>\n",
       "      <td>1</td>\n",
       "      <td>46</td>\n",
       "      <td>0.1</td>\n",
       "      <td>145</td>\n",
       "      <td>5</td>\n",
       "      <td>...</td>\n",
       "      <td>336</td>\n",
       "      <td>670</td>\n",
       "      <td>869</td>\n",
       "      <td>18</td>\n",
       "      <td>10</td>\n",
       "      <td>19</td>\n",
       "      <td>1</td>\n",
       "      <td>1</td>\n",
       "      <td>1</td>\n",
       "      <td>0</td>\n",
       "    </tr>\n",
       "    <tr>\n",
       "      <th>1999</th>\n",
       "      <td>510</td>\n",
       "      <td>1</td>\n",
       "      <td>2.0</td>\n",
       "      <td>1</td>\n",
       "      <td>5</td>\n",
       "      <td>1</td>\n",
       "      <td>45</td>\n",
       "      <td>0.9</td>\n",
       "      <td>168</td>\n",
       "      <td>6</td>\n",
       "      <td>...</td>\n",
       "      <td>483</td>\n",
       "      <td>754</td>\n",
       "      <td>3919</td>\n",
       "      <td>19</td>\n",
       "      <td>4</td>\n",
       "      <td>2</td>\n",
       "      <td>1</td>\n",
       "      <td>1</td>\n",
       "      <td>1</td>\n",
       "      <td>1</td>\n",
       "    </tr>\n",
       "  </tbody>\n",
       "</table>\n",
       "<p>2000 rows × 21 columns</p>\n",
       "</div>"
      ],
      "text/plain": [
       "      battery_power  blue  clock_speed  dual_sim  fc  four_g  int_memory  \\\n",
       "0               842     0          2.2         0   1       0           7   \n",
       "1              1021     1          0.5         1   0       1          53   \n",
       "2               563     1          0.5         1   2       1          41   \n",
       "3               615     1          2.5         0   0       0          10   \n",
       "4              1821     1          1.2         0  13       1          44   \n",
       "...             ...   ...          ...       ...  ..     ...         ...   \n",
       "1995            794     1          0.5         1   0       1           2   \n",
       "1996           1965     1          2.6         1   0       0          39   \n",
       "1997           1911     0          0.9         1   1       1          36   \n",
       "1998           1512     0          0.9         0   4       1          46   \n",
       "1999            510     1          2.0         1   5       1          45   \n",
       "\n",
       "      m_dep  mobile_wt  n_cores  ...  px_height  px_width   ram  sc_h  sc_w  \\\n",
       "0       0.6        188        2  ...         20       756  2549     9     7   \n",
       "1       0.7        136        3  ...        905      1988  2631    17     3   \n",
       "2       0.9        145        5  ...       1263      1716  2603    11     2   \n",
       "3       0.8        131        6  ...       1216      1786  2769    16     8   \n",
       "4       0.6        141        2  ...       1208      1212  1411     8     2   \n",
       "...     ...        ...      ...  ...        ...       ...   ...   ...   ...   \n",
       "1995    0.8        106        6  ...       1222      1890   668    13     4   \n",
       "1996    0.2        187        4  ...        915      1965  2032    11    10   \n",
       "1997    0.7        108        8  ...        868      1632  3057     9     1   \n",
       "1998    0.1        145        5  ...        336       670   869    18    10   \n",
       "1999    0.9        168        6  ...        483       754  3919    19     4   \n",
       "\n",
       "      talk_time  three_g  touch_screen  wifi  price_range  \n",
       "0            19        0             0     1            0  \n",
       "1             7        1             1     0            1  \n",
       "2             9        1             1     0            1  \n",
       "3            11        1             0     0            1  \n",
       "4            15        1             1     0            0  \n",
       "...         ...      ...           ...   ...          ...  \n",
       "1995         19        1             1     0            0  \n",
       "1996         16        1             1     1            1  \n",
       "1997          5        1             1     0            1  \n",
       "1998         19        1             1     1            0  \n",
       "1999          2        1             1     1            1  \n",
       "\n",
       "[2000 rows x 21 columns]"
      ]
     },
     "execution_count": 177,
     "metadata": {},
     "output_type": "execute_result"
    }
   ],
   "source": [
    "myData"
   ]
  },
  {
   "cell_type": "code",
   "execution_count": 180,
   "metadata": {},
   "outputs": [
    {
     "data": {
      "text/plain": [
       "<AxesSubplot:>"
      ]
     },
     "execution_count": 180,
     "metadata": {},
     "output_type": "execute_result"
    },
    {
     "data": {
      "image/png": "[encoded data removed]",
      "text/plain": [
       "<Figure size 1440x1440 with 2 Axes>"
      ]
     },
     "metadata": {},
     "output_type": "display_data"
    }
   ],
   "source": [
    "import seaborn as sns\n",
    "sns.set(font_scale=1)\n",
    "plt.subplots(figsize=(20, 20))\n",
    "sns.heatmap(myData.corr()*100, square=True,\n",
    "              annot=True, linewidths=0.1, cmap=\"RdBu\")"
   ]
  },
  {
   "cell_type": "code",
   "execution_count": 217,
   "metadata": {},
   "outputs": [],
   "source": [
    "X = np.array(myData[['battery_power', 'px_height', 'px_width', 'ram', 'touch_screen']].values)\n",
    "y = np.array(myData[['price_range']].values)"
   ]
  },
  {
   "cell_type": "code",
   "execution_count": 216,
   "metadata": {},
   "outputs": [
    {
     "data": {
      "text/plain": [
       "array([[0],\n",
       "       [1],\n",
       "       [1],\n",
       "       ...,\n",
       "       [1],\n",
       "       [0],\n",
       "       [1]])"
      ]
     },
     "execution_count": 216,
     "metadata": {},
     "output_type": "execute_result"
    }
   ],
   "source": [
    "y"
   ]
  },
  {
   "cell_type": "code",
   "execution_count": 218,
   "metadata": {},
   "outputs": [
    {
     "name": "stderr",
     "output_type": "stream",
     "text": [
      "/Users/ruslansafarov/opt/anaconda3/lib/python3.8/site-packages/sklearn/utils/validation.py:72: DataConversionWarning: A column-vector y was passed when a 1d array was expected. Please change the shape of y to (n_samples, ), for example using ravel().\n",
      "  return f(**kwargs)\n"
     ]
    },
    {
     "data": {
      "text/plain": [
       "LogisticRegression()"
      ]
     },
     "execution_count": 218,
     "metadata": {},
     "output_type": "execute_result"
    }
   ],
   "source": [
    "X_train, X_test, y_train, y_test = train_test_split(X, y, test_size=0.2, random_state=31)\n",
    "model = LogisticRegression()\n",
    "model.fit(X_train, y_train)"
   ]
  },
  {
   "cell_type": "code",
   "execution_count": 220,
   "metadata": {},
   "outputs": [
    {
     "name": "stdout",
     "output_type": "stream",
     "text": [
      "0.9875\n",
      "0.9859154929577465\n",
      "0.9905660377358491\n",
      "0.9882352941176472\n"
     ]
    }
   ],
   "source": [
    "from sklearn.metrics import accuracy_score, precision_score, recall_score, f1_score\n",
    "\n",
    "# Готово! Теперь осталось только вычислить необходимые метрики:\n",
    "y_pred = model.predict(X_test)\n",
    "print(accuracy_score(y_test,y_pred))\n",
    "print(precision_score(y_test,y_pred))\n",
    "print(recall_score(y_test,y_pred))\n",
    "print(f1_score(y_test,y_pred))"
   ]
  },
  {
   "cell_type": "code",
   "execution_count": 182,
   "metadata": {},
   "outputs": [
    {
     "data": {
      "text/plain": [
       "array([[8.420e+02, 0.000e+00, 2.200e+00, ..., 0.000e+00, 0.000e+00,\n",
       "        1.000e+00],\n",
       "       [1.021e+03, 1.000e+00, 5.000e-01, ..., 1.000e+00, 1.000e+00,\n",
       "        0.000e+00],\n",
       "       [5.630e+02, 1.000e+00, 5.000e-01, ..., 1.000e+00, 1.000e+00,\n",
       "        0.000e+00],\n",
       "       ...,\n",
       "       [1.911e+03, 0.000e+00, 9.000e-01, ..., 1.000e+00, 1.000e+00,\n",
       "        0.000e+00],\n",
       "       [1.512e+03, 0.000e+00, 9.000e-01, ..., 1.000e+00, 1.000e+00,\n",
       "        1.000e+00],\n",
       "       [5.100e+02, 1.000e+00, 2.000e+00, ..., 1.000e+00, 1.000e+00,\n",
       "        1.000e+00]])"
      ]
     },
     "execution_count": 182,
     "metadata": {},
     "output_type": "execute_result"
    }
   ],
   "source": [
    "X"
   ]
  },
  {
   "cell_type": "code",
   "execution_count": 12,
   "metadata": {},
   "outputs": [],
   "source": [
    "X_train, X_test, y_train, y_test = train_test_split(X, y, test_size=0.3)"
   ]
  },
  {
   "cell_type": "code",
   "execution_count": 13,
   "metadata": {},
   "outputs": [
    {
     "data": {
      "text/plain": [
       "LinearRegression()"
      ]
     },
     "execution_count": 13,
     "metadata": {},
     "output_type": "execute_result"
    }
   ],
   "source": [
    "from sklearn.linear_model import LinearRegression\n",
    "myModel = LinearRegression()\n",
    "myModel.fit(X_train, y_train)"
   ]
  },
  {
   "cell_type": "code",
   "execution_count": 14,
   "metadata": {},
   "outputs": [
    {
     "data": {
      "text/plain": [
       "array([33.92220163, -1.64527391, 77.39356062, 26.01831818, 45.77802681,\n",
       "       61.58579372, 77.39356062, 81.34550235, 22.06637645, 33.92220163,\n",
       "       73.4416189 , 49.72996854, 33.92220163, 69.48967717, 61.58579372])"
      ]
     },
     "execution_count": 14,
     "metadata": {},
     "output_type": "execute_result"
    }
   ],
   "source": [
    "y_pred = myModel.predict(X_test)\n",
    "y_pred"
   ]
  },
  {
   "cell_type": "code",
   "execution_count": null,
   "metadata": {},
   "outputs": [],
   "source": [
    "from sklearn import metrics"
   ]
  },
  {
   "cell_type": "code",
   "execution_count": 22,
   "metadata": {},
   "outputs": [],
   "source": [
    "y_happy = [2, 3, -1, 4]\n",
    "y_happy_pred = [1, 3, 2, 5]"
   ]
  },
  {
   "cell_type": "code",
   "execution_count": 23,
   "metadata": {},
   "outputs": [],
   "source": [
    "MAE = metrics.mean_absolute_error(y_happy, y_happy_pred)"
   ]
  },
  {
   "cell_type": "code",
   "execution_count": 24,
   "metadata": {},
   "outputs": [],
   "source": [
    "MSE = metrics.mean_squared_error(y_happy, y_happy_pred)"
   ]
  },
  {
   "cell_type": "code",
   "execution_count": 25,
   "metadata": {},
   "outputs": [],
   "source": [
    "#Вычисляем коэффициент детерминации:\n",
    "R_2 = metrics.r2_score(y_happy, y_happy_pred)"
   ]
  },
  {
   "cell_type": "code",
   "execution_count": 26,
   "metadata": {},
   "outputs": [
    {
     "name": "stdout",
     "output_type": "stream",
     "text": [
      "1.25\n",
      "2.75\n",
      "0.2142857142857143\n"
     ]
    }
   ],
   "source": [
    "print(MAE)\n",
    "print(MSE)\n",
    "print(R_2)"
   ]
  },
  {
   "cell_type": "code",
   "execution_count": 91,
   "metadata": {},
   "outputs": [
    {
     "name": "stdout",
     "output_type": "stream",
     "text": [
      "1.0\n"
     ]
    }
   ],
   "source": [
    "y_pred = np.array([1, 3])\n",
    "y_true = np.array([1, 3])\n",
    "y_true_mean = np.mean(y_true)\n",
    "s_res = sum((y_true - y_pred)**2)\n",
    "s_tot = sum((y_true - y_true_mean)**2)\n",
    "r2 = 1 - s_res/s_tot\n",
    "print(round(r2, 2))"
   ]
  },
  {
   "cell_type": "code",
   "execution_count": 92,
   "metadata": {},
   "outputs": [],
   "source": [
    "R_2 = metrics.r2_score(y_true, y_pred)"
   ]
  },
  {
   "cell_type": "code",
   "execution_count": 93,
   "metadata": {},
   "outputs": [
    {
     "name": "stdout",
     "output_type": "stream",
     "text": [
      "1.0\n"
     ]
    }
   ],
   "source": [
    "print(R_2)"
   ]
  },
  {
   "cell_type": "markdown",
   "metadata": {},
   "source": [
    "# Задание 3A.5.1"
   ]
  },
  {
   "cell_type": "code",
   "execution_count": 14,
   "metadata": {},
   "outputs": [],
   "source": [
    "import pandas as pd\n",
    "import numpy as np\n",
    "import matplotlib.pyplot as plt\n",
    "%matplotlib inline"
   ]
  },
  {
   "cell_type": "code",
   "execution_count": 70,
   "metadata": {},
   "outputs": [],
   "source": [
    "data = pd.read_csv(\"data_flats.xls\", sep=\";\")"
   ]
  },
  {
   "cell_type": "code",
   "execution_count": 71,
   "metadata": {},
   "outputs": [
    {
     "data": {
      "text/html": [
       "<div>\n",
       "<style scoped>\n",
       "    .dataframe tbody tr th:only-of-type {\n",
       "        vertical-align: middle;\n",
       "    }\n",
       "\n",
       "    .dataframe tbody tr th {\n",
       "        vertical-align: top;\n",
       "    }\n",
       "\n",
       "    .dataframe thead th {\n",
       "        text-align: right;\n",
       "    }\n",
       "</style>\n",
       "<table border=\"1\" class=\"dataframe\">\n",
       "  <thead>\n",
       "    <tr style=\"text-align: right;\">\n",
       "      <th></th>\n",
       "      <th>id</th>\n",
       "      <th>full_sq</th>\n",
       "      <th>life_sq</th>\n",
       "      <th>floor</th>\n",
       "      <th>preschool_education_centers_raion</th>\n",
       "      <th>school_education_centers_raion</th>\n",
       "      <th>school_education_centers_top_20_raion</th>\n",
       "      <th>university_top_20_raion</th>\n",
       "      <th>sport_objects_raion</th>\n",
       "      <th>additional_education_raion</th>\n",
       "      <th>...</th>\n",
       "      <th>shopping_centers_raion</th>\n",
       "      <th>metro_km_walk</th>\n",
       "      <th>kindergarten_km</th>\n",
       "      <th>school_km</th>\n",
       "      <th>park_km</th>\n",
       "      <th>green_zone_km</th>\n",
       "      <th>mkad_km</th>\n",
       "      <th>bulvar_ring_km</th>\n",
       "      <th>kremlin_km</th>\n",
       "      <th>price_doc</th>\n",
       "    </tr>\n",
       "  </thead>\n",
       "  <tbody>\n",
       "    <tr>\n",
       "      <th>0</th>\n",
       "      <td>1</td>\n",
       "      <td>43</td>\n",
       "      <td>27.0</td>\n",
       "      <td>4.0</td>\n",
       "      <td>5</td>\n",
       "      <td>5</td>\n",
       "      <td>0</td>\n",
       "      <td>0</td>\n",
       "      <td>7</td>\n",
       "      <td>3</td>\n",
       "      <td>...</td>\n",
       "      <td>16</td>\n",
       "      <td>1.131260</td>\n",
       "      <td>0.145700</td>\n",
       "      <td>0.177975</td>\n",
       "      <td>2.158587</td>\n",
       "      <td>0.600973</td>\n",
       "      <td>1.422391</td>\n",
       "      <td>13.675657</td>\n",
       "      <td>15.156211</td>\n",
       "      <td>5850000</td>\n",
       "    </tr>\n",
       "    <tr>\n",
       "      <th>1</th>\n",
       "      <td>2</td>\n",
       "      <td>34</td>\n",
       "      <td>19.0</td>\n",
       "      <td>3.0</td>\n",
       "      <td>5</td>\n",
       "      <td>8</td>\n",
       "      <td>0</td>\n",
       "      <td>0</td>\n",
       "      <td>6</td>\n",
       "      <td>1</td>\n",
       "      <td>...</td>\n",
       "      <td>3</td>\n",
       "      <td>0.635053</td>\n",
       "      <td>0.147754</td>\n",
       "      <td>0.273345</td>\n",
       "      <td>0.550690</td>\n",
       "      <td>0.065321</td>\n",
       "      <td>9.503405</td>\n",
       "      <td>8.132640</td>\n",
       "      <td>8.698054</td>\n",
       "      <td>6000000</td>\n",
       "    </tr>\n",
       "    <tr>\n",
       "      <th>2</th>\n",
       "      <td>3</td>\n",
       "      <td>43</td>\n",
       "      <td>29.0</td>\n",
       "      <td>2.0</td>\n",
       "      <td>4</td>\n",
       "      <td>7</td>\n",
       "      <td>0</td>\n",
       "      <td>0</td>\n",
       "      <td>5</td>\n",
       "      <td>1</td>\n",
       "      <td>...</td>\n",
       "      <td>0</td>\n",
       "      <td>1.445960</td>\n",
       "      <td>0.049102</td>\n",
       "      <td>0.158072</td>\n",
       "      <td>0.374848</td>\n",
       "      <td>0.453172</td>\n",
       "      <td>5.604800</td>\n",
       "      <td>8.054252</td>\n",
       "      <td>9.067885</td>\n",
       "      <td>5700000</td>\n",
       "    </tr>\n",
       "    <tr>\n",
       "      <th>3</th>\n",
       "      <td>4</td>\n",
       "      <td>89</td>\n",
       "      <td>50.0</td>\n",
       "      <td>9.0</td>\n",
       "      <td>9</td>\n",
       "      <td>10</td>\n",
       "      <td>0</td>\n",
       "      <td>0</td>\n",
       "      <td>17</td>\n",
       "      <td>6</td>\n",
       "      <td>...</td>\n",
       "      <td>11</td>\n",
       "      <td>0.963802</td>\n",
       "      <td>0.179441</td>\n",
       "      <td>0.236455</td>\n",
       "      <td>0.078090</td>\n",
       "      <td>0.106125</td>\n",
       "      <td>2.677824</td>\n",
       "      <td>18.309433</td>\n",
       "      <td>19.487005</td>\n",
       "      <td>13100000</td>\n",
       "    </tr>\n",
       "    <tr>\n",
       "      <th>4</th>\n",
       "      <td>5</td>\n",
       "      <td>77</td>\n",
       "      <td>77.0</td>\n",
       "      <td>4.0</td>\n",
       "      <td>7</td>\n",
       "      <td>9</td>\n",
       "      <td>0</td>\n",
       "      <td>2</td>\n",
       "      <td>25</td>\n",
       "      <td>2</td>\n",
       "      <td>...</td>\n",
       "      <td>10</td>\n",
       "      <td>0.688859</td>\n",
       "      <td>0.247901</td>\n",
       "      <td>0.376838</td>\n",
       "      <td>0.258289</td>\n",
       "      <td>0.236214</td>\n",
       "      <td>11.616653</td>\n",
       "      <td>0.787593</td>\n",
       "      <td>2.578671</td>\n",
       "      <td>16331452</td>\n",
       "    </tr>\n",
       "  </tbody>\n",
       "</table>\n",
       "<p>5 rows × 21 columns</p>\n",
       "</div>"
      ],
      "text/plain": [
       "   id  full_sq  life_sq  floor  preschool_education_centers_raion  \\\n",
       "0   1       43     27.0    4.0                                  5   \n",
       "1   2       34     19.0    3.0                                  5   \n",
       "2   3       43     29.0    2.0                                  4   \n",
       "3   4       89     50.0    9.0                                  9   \n",
       "4   5       77     77.0    4.0                                  7   \n",
       "\n",
       "   school_education_centers_raion  school_education_centers_top_20_raion  \\\n",
       "0                               5                                      0   \n",
       "1                               8                                      0   \n",
       "2                               7                                      0   \n",
       "3                              10                                      0   \n",
       "4                               9                                      0   \n",
       "\n",
       "   university_top_20_raion  sport_objects_raion  additional_education_raion  \\\n",
       "0                        0                    7                           3   \n",
       "1                        0                    6                           1   \n",
       "2                        0                    5                           1   \n",
       "3                        0                   17                           6   \n",
       "4                        2                   25                           2   \n",
       "\n",
       "   ...  shopping_centers_raion  metro_km_walk  kindergarten_km  school_km  \\\n",
       "0  ...                      16       1.131260         0.145700   0.177975   \n",
       "1  ...                       3       0.635053         0.147754   0.273345   \n",
       "2  ...                       0       1.445960         0.049102   0.158072   \n",
       "3  ...                      11       0.963802         0.179441   0.236455   \n",
       "4  ...                      10       0.688859         0.247901   0.376838   \n",
       "\n",
       "    park_km  green_zone_km    mkad_km  bulvar_ring_km  kremlin_km  price_doc  \n",
       "0  2.158587       0.600973   1.422391       13.675657   15.156211    5850000  \n",
       "1  0.550690       0.065321   9.503405        8.132640    8.698054    6000000  \n",
       "2  0.374848       0.453172   5.604800        8.054252    9.067885    5700000  \n",
       "3  0.078090       0.106125   2.677824       18.309433   19.487005   13100000  \n",
       "4  0.258289       0.236214  11.616653        0.787593    2.578671   16331452  \n",
       "\n",
       "[5 rows x 21 columns]"
      ]
     },
     "execution_count": 71,
     "metadata": {},
     "output_type": "execute_result"
    }
   ],
   "source": [
    "data.head()"
   ]
  },
  {
   "cell_type": "code",
   "execution_count": 72,
   "metadata": {},
   "outputs": [
    {
     "name": "stdout",
     "output_type": "stream",
     "text": [
      "<class 'pandas.core.frame.DataFrame'>\n",
      "RangeIndex: 30469 entries, 0 to 30468\n",
      "Data columns (total 21 columns):\n",
      " #   Column                                 Non-Null Count  Dtype  \n",
      "---  ------                                 --------------  -----  \n",
      " 0   id                                     30469 non-null  int64  \n",
      " 1   full_sq                                30469 non-null  int64  \n",
      " 2   life_sq                                24086 non-null  float64\n",
      " 3   floor                                  30302 non-null  float64\n",
      " 4   preschool_education_centers_raion      30469 non-null  int64  \n",
      " 5   school_education_centers_raion         30469 non-null  int64  \n",
      " 6   school_education_centers_top_20_raion  30469 non-null  int64  \n",
      " 7   university_top_20_raion                30469 non-null  int64  \n",
      " 8   sport_objects_raion                    30469 non-null  int64  \n",
      " 9   additional_education_raion             30469 non-null  int64  \n",
      " 10  culture_objects_top_25_raion           30469 non-null  int64  \n",
      " 11  shopping_centers_raion                 30469 non-null  int64  \n",
      " 12  metro_km_walk                          30444 non-null  float64\n",
      " 13  kindergarten_km                        30469 non-null  float64\n",
      " 14  school_km                              30469 non-null  float64\n",
      " 15  park_km                                30469 non-null  float64\n",
      " 16  green_zone_km                          30469 non-null  float64\n",
      " 17  mkad_km                                30469 non-null  float64\n",
      " 18  bulvar_ring_km                         30469 non-null  float64\n",
      " 19  kremlin_km                             30469 non-null  float64\n",
      " 20  price_doc                              30469 non-null  int64  \n",
      "dtypes: float64(10), int64(11)\n",
      "memory usage: 4.9 MB\n"
     ]
    }
   ],
   "source": [
    "data.info()"
   ]
  },
  {
   "cell_type": "code",
   "execution_count": 73,
   "metadata": {},
   "outputs": [
    {
     "data": {
      "text/plain": [
       "id                                          0\n",
       "full_sq                                     0\n",
       "life_sq                                  6383\n",
       "floor                                     167\n",
       "preschool_education_centers_raion           0\n",
       "school_education_centers_raion              0\n",
       "school_education_centers_top_20_raion       0\n",
       "university_top_20_raion                     0\n",
       "sport_objects_raion                         0\n",
       "additional_education_raion                  0\n",
       "culture_objects_top_25_raion                0\n",
       "shopping_centers_raion                      0\n",
       "metro_km_walk                              25\n",
       "kindergarten_km                             0\n",
       "school_km                                   0\n",
       "park_km                                     0\n",
       "green_zone_km                               0\n",
       "mkad_km                                     0\n",
       "bulvar_ring_km                              0\n",
       "kremlin_km                                  0\n",
       "price_doc                                   0\n",
       "dtype: int64"
      ]
     },
     "execution_count": 73,
     "metadata": {},
     "output_type": "execute_result"
    }
   ],
   "source": [
    "data.isnull().sum()"
   ]
  },
  {
   "cell_type": "code",
   "execution_count": 74,
   "metadata": {},
   "outputs": [
    {
     "data": {
      "image/png": "[encoded data removed]",
      "text/plain": [
       "<Figure size 1440x864 with 1 Axes>"
      ]
     },
     "metadata": {},
     "output_type": "display_data"
    }
   ],
   "source": [
    "import seaborn as sns\n",
    "fig, ax = plt.subplots(figsize=(20,12))\n",
    "sns_heatmap = sns.heatmap(data.isnull(), yticklabels=False, cbar=False, cmap='viridis')"
   ]
  },
  {
   "cell_type": "code",
   "execution_count": 75,
   "metadata": {},
   "outputs": [
    {
     "data": {
      "text/plain": [
       "<AxesSubplot:>"
      ]
     },
     "execution_count": 75,
     "metadata": {},
     "output_type": "execute_result"
    },
    {
     "data": {
      "image/png": "[encoded data removed]",
      "text/plain": [
       "<Figure size 432x288 with 1 Axes>"
      ]
     },
     "metadata": {},
     "output_type": "display_data"
    }
   ],
   "source": [
    "data.price_doc.hist()"
   ]
  },
  {
   "cell_type": "markdown",
   "metadata": {},
   "source": [
    "У нашего распределения есть проблема — слишком сильный перепад. Много квартир в среднем сегменте, но очень мало дорогих квартир. На практике часто в таких случаях логорифмируют переменную, чтобы уменьшить перепады и сгладить хвост."
   ]
  },
  {
   "cell_type": "code",
   "execution_count": 76,
   "metadata": {},
   "outputs": [
    {
     "data": {
      "image/png": "[encoded data removed]",
      "text/plain": [
       "<Figure size 432x288 with 1 Axes>"
      ]
     },
     "metadata": {},
     "output_type": "display_data"
    }
   ],
   "source": [
    "data['price_doc'] = data['price_doc'].apply(lambda w: np.log(w + 1))\n",
    "data.price_doc.hist();"
   ]
  },
  {
   "cell_type": "markdown",
   "metadata": {},
   "source": [
    "Теперь займемся отбором признаков.  Для начала нам надо проверить, нет ли мультиколлинеарности — сильной взаимосвязи между независимыми признаками. Для этого построим матрицу корреляций для признаков:"
   ]
  },
  {
   "cell_type": "code",
   "execution_count": 77,
   "metadata": {},
   "outputs": [
    {
     "data": {
      "text/plain": [
       "<AxesSubplot:>"
      ]
     },
     "execution_count": 77,
     "metadata": {},
     "output_type": "execute_result"
    },
    {
     "data": {
      "image/png": "[encoded data removed]",
      "text/plain": [
       "<Figure size 864x864 with 2 Axes>"
      ]
     },
     "metadata": {},
     "output_type": "display_data"
    }
   ],
   "source": [
    "sns.set(font_scale=1)\n",
    "plt.subplots(figsize=(12, 12))\n",
    "sns.heatmap(data.corr(), square=True,\n",
    "              annot=True, fmt=\".1f\", linewidths=0.1, cmap=\"RdBu\")"
   ]
  },
  {
   "cell_type": "markdown",
   "metadata": {},
   "source": [
    "Смотрим, у каких пар признаков сильная взаимосвязь:\n",
    "\n",
    "Количество школ и количество детских садов. Довольно логично, так как в Москве детские сады обычно присоединены к школам. Оставляем школы, т.к. у этого признака больше взаимосвязь с целевой переменной.\n",
    "\n",
    "Расстояние до школ и расстояние до детских садов. По сути, это естественным образом вытекает из предыдущего пункта. Оставляем расстояние до школ.\n",
    "\n",
    "Расстояние до парка и до метро. Рассуждая аналогично предыдущим парам, оставляем расстояние до метро.\n",
    "\n",
    "Расстояние до Кремля и до бульварного кольца. У них коэффициент корреляции равен 1, и их корреляция с целевой переменной одинаковая. \n",
    "Поэтому можем убрать любой признак. Убираем расстояние до Кремля."
   ]
  },
  {
   "cell_type": "code",
   "execution_count": 78,
   "metadata": {},
   "outputs": [],
   "source": [
    "data = data.drop(['id','preschool_education_centers_raion', 'kindergarten_km', 'park_km', 'kremlin_km', 'life_sq'], axis=1)"
   ]
  },
  {
   "cell_type": "markdown",
   "metadata": {},
   "source": [
    "Итак, нам надо убрать пять признаков (четыре из-за мультиколлинеарности и жилую площадь, так как там много пропусков), остальные оставляем. Теперь наши данные готовы к построению регрессионной модели."
   ]
  },
  {
   "cell_type": "code",
   "execution_count": 79,
   "metadata": {},
   "outputs": [],
   "source": [
    "data = data.dropna(how='any')"
   ]
  },
  {
   "cell_type": "code",
   "execution_count": 80,
   "metadata": {},
   "outputs": [
    {
     "data": {
      "text/plain": [
       "full_sq                                  0\n",
       "floor                                    0\n",
       "school_education_centers_raion           0\n",
       "school_education_centers_top_20_raion    0\n",
       "university_top_20_raion                  0\n",
       "sport_objects_raion                      0\n",
       "additional_education_raion               0\n",
       "culture_objects_top_25_raion             0\n",
       "shopping_centers_raion                   0\n",
       "metro_km_walk                            0\n",
       "school_km                                0\n",
       "green_zone_km                            0\n",
       "mkad_km                                  0\n",
       "bulvar_ring_km                           0\n",
       "price_doc                                0\n",
       "dtype: int64"
      ]
     },
     "execution_count": 80,
     "metadata": {},
     "output_type": "execute_result"
    }
   ],
   "source": [
    "data.isnull().sum()"
   ]
  },
  {
   "cell_type": "code",
   "execution_count": 81,
   "metadata": {},
   "outputs": [
    {
     "data": {
      "text/html": [
       "<div>\n",
       "<style scoped>\n",
       "    .dataframe tbody tr th:only-of-type {\n",
       "        vertical-align: middle;\n",
       "    }\n",
       "\n",
       "    .dataframe tbody tr th {\n",
       "        vertical-align: top;\n",
       "    }\n",
       "\n",
       "    .dataframe thead th {\n",
       "        text-align: right;\n",
       "    }\n",
       "</style>\n",
       "<table border=\"1\" class=\"dataframe\">\n",
       "  <thead>\n",
       "    <tr style=\"text-align: right;\">\n",
       "      <th></th>\n",
       "      <th>full_sq</th>\n",
       "      <th>floor</th>\n",
       "      <th>school_education_centers_raion</th>\n",
       "      <th>school_education_centers_top_20_raion</th>\n",
       "      <th>university_top_20_raion</th>\n",
       "      <th>sport_objects_raion</th>\n",
       "      <th>additional_education_raion</th>\n",
       "      <th>culture_objects_top_25_raion</th>\n",
       "      <th>shopping_centers_raion</th>\n",
       "      <th>metro_km_walk</th>\n",
       "      <th>school_km</th>\n",
       "      <th>green_zone_km</th>\n",
       "      <th>mkad_km</th>\n",
       "      <th>bulvar_ring_km</th>\n",
       "      <th>price_doc</th>\n",
       "    </tr>\n",
       "  </thead>\n",
       "  <tbody>\n",
       "    <tr>\n",
       "      <th>0</th>\n",
       "      <td>43</td>\n",
       "      <td>4.0</td>\n",
       "      <td>5</td>\n",
       "      <td>0</td>\n",
       "      <td>0</td>\n",
       "      <td>7</td>\n",
       "      <td>3</td>\n",
       "      <td>0</td>\n",
       "      <td>16</td>\n",
       "      <td>1.131260</td>\n",
       "      <td>0.177975</td>\n",
       "      <td>0.600973</td>\n",
       "      <td>1.422391</td>\n",
       "      <td>13.675657</td>\n",
       "      <td>15.581952</td>\n",
       "    </tr>\n",
       "    <tr>\n",
       "      <th>1</th>\n",
       "      <td>34</td>\n",
       "      <td>3.0</td>\n",
       "      <td>8</td>\n",
       "      <td>0</td>\n",
       "      <td>0</td>\n",
       "      <td>6</td>\n",
       "      <td>1</td>\n",
       "      <td>1</td>\n",
       "      <td>3</td>\n",
       "      <td>0.635053</td>\n",
       "      <td>0.273345</td>\n",
       "      <td>0.065321</td>\n",
       "      <td>9.503405</td>\n",
       "      <td>8.132640</td>\n",
       "      <td>15.607270</td>\n",
       "    </tr>\n",
       "    <tr>\n",
       "      <th>2</th>\n",
       "      <td>43</td>\n",
       "      <td>2.0</td>\n",
       "      <td>7</td>\n",
       "      <td>0</td>\n",
       "      <td>0</td>\n",
       "      <td>5</td>\n",
       "      <td>1</td>\n",
       "      <td>0</td>\n",
       "      <td>0</td>\n",
       "      <td>1.445960</td>\n",
       "      <td>0.158072</td>\n",
       "      <td>0.453172</td>\n",
       "      <td>5.604800</td>\n",
       "      <td>8.054252</td>\n",
       "      <td>15.555977</td>\n",
       "    </tr>\n",
       "    <tr>\n",
       "      <th>3</th>\n",
       "      <td>89</td>\n",
       "      <td>9.0</td>\n",
       "      <td>10</td>\n",
       "      <td>0</td>\n",
       "      <td>0</td>\n",
       "      <td>17</td>\n",
       "      <td>6</td>\n",
       "      <td>0</td>\n",
       "      <td>11</td>\n",
       "      <td>0.963802</td>\n",
       "      <td>0.236455</td>\n",
       "      <td>0.106125</td>\n",
       "      <td>2.677824</td>\n",
       "      <td>18.309433</td>\n",
       "      <td>16.388123</td>\n",
       "    </tr>\n",
       "    <tr>\n",
       "      <th>4</th>\n",
       "      <td>77</td>\n",
       "      <td>4.0</td>\n",
       "      <td>9</td>\n",
       "      <td>0</td>\n",
       "      <td>2</td>\n",
       "      <td>25</td>\n",
       "      <td>2</td>\n",
       "      <td>0</td>\n",
       "      <td>10</td>\n",
       "      <td>0.688859</td>\n",
       "      <td>0.376838</td>\n",
       "      <td>0.236214</td>\n",
       "      <td>11.616653</td>\n",
       "      <td>0.787593</td>\n",
       "      <td>16.608603</td>\n",
       "    </tr>\n",
       "    <tr>\n",
       "      <th>...</th>\n",
       "      <td>...</td>\n",
       "      <td>...</td>\n",
       "      <td>...</td>\n",
       "      <td>...</td>\n",
       "      <td>...</td>\n",
       "      <td>...</td>\n",
       "      <td>...</td>\n",
       "      <td>...</td>\n",
       "      <td>...</td>\n",
       "      <td>...</td>\n",
       "      <td>...</td>\n",
       "      <td>...</td>\n",
       "      <td>...</td>\n",
       "      <td>...</td>\n",
       "      <td>...</td>\n",
       "    </tr>\n",
       "    <tr>\n",
       "      <th>30464</th>\n",
       "      <td>44</td>\n",
       "      <td>7.0</td>\n",
       "      <td>4</td>\n",
       "      <td>0</td>\n",
       "      <td>0</td>\n",
       "      <td>10</td>\n",
       "      <td>3</td>\n",
       "      <td>0</td>\n",
       "      <td>9</td>\n",
       "      <td>0.679841</td>\n",
       "      <td>0.349899</td>\n",
       "      <td>0.139814</td>\n",
       "      <td>3.762408</td>\n",
       "      <td>11.118577</td>\n",
       "      <td>15.816991</td>\n",
       "    </tr>\n",
       "    <tr>\n",
       "      <th>30465</th>\n",
       "      <td>86</td>\n",
       "      <td>3.0</td>\n",
       "      <td>4</td>\n",
       "      <td>1</td>\n",
       "      <td>2</td>\n",
       "      <td>29</td>\n",
       "      <td>16</td>\n",
       "      <td>10</td>\n",
       "      <td>23</td>\n",
       "      <td>0.781217</td>\n",
       "      <td>0.362681</td>\n",
       "      <td>0.271861</td>\n",
       "      <td>13.100989</td>\n",
       "      <td>1.874868</td>\n",
       "      <td>17.034386</td>\n",
       "    </tr>\n",
       "    <tr>\n",
       "      <th>30466</th>\n",
       "      <td>45</td>\n",
       "      <td>10.0</td>\n",
       "      <td>0</td>\n",
       "      <td>0</td>\n",
       "      <td>0</td>\n",
       "      <td>0</td>\n",
       "      <td>0</td>\n",
       "      <td>0</td>\n",
       "      <td>1</td>\n",
       "      <td>1.722233</td>\n",
       "      <td>1.234235</td>\n",
       "      <td>0.427248</td>\n",
       "      <td>7.123215</td>\n",
       "      <td>21.038561</td>\n",
       "      <td>15.757264</td>\n",
       "    </tr>\n",
       "    <tr>\n",
       "      <th>30467</th>\n",
       "      <td>64</td>\n",
       "      <td>5.0</td>\n",
       "      <td>8</td>\n",
       "      <td>0</td>\n",
       "      <td>1</td>\n",
       "      <td>11</td>\n",
       "      <td>1</td>\n",
       "      <td>0</td>\n",
       "      <td>4</td>\n",
       "      <td>2.047312</td>\n",
       "      <td>0.130667</td>\n",
       "      <td>0.227547</td>\n",
       "      <td>2.327138</td>\n",
       "      <td>12.872535</td>\n",
       "      <td>16.418200</td>\n",
       "    </tr>\n",
       "    <tr>\n",
       "      <th>30468</th>\n",
       "      <td>43</td>\n",
       "      <td>1.0</td>\n",
       "      <td>4</td>\n",
       "      <td>0</td>\n",
       "      <td>0</td>\n",
       "      <td>7</td>\n",
       "      <td>1</td>\n",
       "      <td>0</td>\n",
       "      <td>5</td>\n",
       "      <td>0.454650</td>\n",
       "      <td>0.378950</td>\n",
       "      <td>0.559699</td>\n",
       "      <td>1.920884</td>\n",
       "      <td>10.228634</td>\n",
       "      <td>15.538277</td>\n",
       "    </tr>\n",
       "  </tbody>\n",
       "</table>\n",
       "<p>30277 rows × 15 columns</p>\n",
       "</div>"
      ],
      "text/plain": [
       "       full_sq  floor  school_education_centers_raion  \\\n",
       "0           43    4.0                               5   \n",
       "1           34    3.0                               8   \n",
       "2           43    2.0                               7   \n",
       "3           89    9.0                              10   \n",
       "4           77    4.0                               9   \n",
       "...        ...    ...                             ...   \n",
       "30464       44    7.0                               4   \n",
       "30465       86    3.0                               4   \n",
       "30466       45   10.0                               0   \n",
       "30467       64    5.0                               8   \n",
       "30468       43    1.0                               4   \n",
       "\n",
       "       school_education_centers_top_20_raion  university_top_20_raion  \\\n",
       "0                                          0                        0   \n",
       "1                                          0                        0   \n",
       "2                                          0                        0   \n",
       "3                                          0                        0   \n",
       "4                                          0                        2   \n",
       "...                                      ...                      ...   \n",
       "30464                                      0                        0   \n",
       "30465                                      1                        2   \n",
       "30466                                      0                        0   \n",
       "30467                                      0                        1   \n",
       "30468                                      0                        0   \n",
       "\n",
       "       sport_objects_raion  additional_education_raion  \\\n",
       "0                        7                           3   \n",
       "1                        6                           1   \n",
       "2                        5                           1   \n",
       "3                       17                           6   \n",
       "4                       25                           2   \n",
       "...                    ...                         ...   \n",
       "30464                   10                           3   \n",
       "30465                   29                          16   \n",
       "30466                    0                           0   \n",
       "30467                   11                           1   \n",
       "30468                    7                           1   \n",
       "\n",
       "       culture_objects_top_25_raion  shopping_centers_raion  metro_km_walk  \\\n",
       "0                                 0                      16       1.131260   \n",
       "1                                 1                       3       0.635053   \n",
       "2                                 0                       0       1.445960   \n",
       "3                                 0                      11       0.963802   \n",
       "4                                 0                      10       0.688859   \n",
       "...                             ...                     ...            ...   \n",
       "30464                             0                       9       0.679841   \n",
       "30465                            10                      23       0.781217   \n",
       "30466                             0                       1       1.722233   \n",
       "30467                             0                       4       2.047312   \n",
       "30468                             0                       5       0.454650   \n",
       "\n",
       "       school_km  green_zone_km    mkad_km  bulvar_ring_km  price_doc  \n",
       "0       0.177975       0.600973   1.422391       13.675657  15.581952  \n",
       "1       0.273345       0.065321   9.503405        8.132640  15.607270  \n",
       "2       0.158072       0.453172   5.604800        8.054252  15.555977  \n",
       "3       0.236455       0.106125   2.677824       18.309433  16.388123  \n",
       "4       0.376838       0.236214  11.616653        0.787593  16.608603  \n",
       "...          ...            ...        ...             ...        ...  \n",
       "30464   0.349899       0.139814   3.762408       11.118577  15.816991  \n",
       "30465   0.362681       0.271861  13.100989        1.874868  17.034386  \n",
       "30466   1.234235       0.427248   7.123215       21.038561  15.757264  \n",
       "30467   0.130667       0.227547   2.327138       12.872535  16.418200  \n",
       "30468   0.378950       0.559699   1.920884       10.228634  15.538277  \n",
       "\n",
       "[30277 rows x 15 columns]"
      ]
     },
     "execution_count": 81,
     "metadata": {},
     "output_type": "execute_result"
    }
   ],
   "source": [
    "data"
   ]
  },
  {
   "cell_type": "code",
   "execution_count": 82,
   "metadata": {},
   "outputs": [],
   "source": [
    "X = data.drop(['price_doc'], axis=1)\n",
    "y = data['price_doc']"
   ]
  },
  {
   "cell_type": "code",
   "execution_count": 83,
   "metadata": {},
   "outputs": [],
   "source": [
    "X_train, X_test, y_train, y_test = train_test_split(X, y, test_size=0.2, random_state=77)"
   ]
  },
  {
   "cell_type": "markdown",
   "metadata": {},
   "source": [
    "Нормализуем обучающую и тестовую выборки отдельно"
   ]
  },
  {
   "cell_type": "code",
   "execution_count": 84,
   "metadata": {},
   "outputs": [],
   "source": [
    "from sklearn.preprocessing import StandardScaler, RobustScaler\n",
    "scaler = RobustScaler()\n",
    "\n",
    "X_train_transformed = scaler.fit_transform(X_train)\n",
    "X_test_transformed = scaler.fit_transform(X_test)"
   ]
  },
  {
   "cell_type": "markdown",
   "metadata": {},
   "source": [
    "Обучаем классификатор"
   ]
  },
  {
   "cell_type": "code",
   "execution_count": 85,
   "metadata": {},
   "outputs": [],
   "source": [
    "reg = LinearRegression().fit(X_train_transformed, y_train)"
   ]
  },
  {
   "cell_type": "markdown",
   "metadata": {},
   "source": [
    "Делаем предсказание и считаем MSE"
   ]
  },
  {
   "cell_type": "code",
   "execution_count": 86,
   "metadata": {},
   "outputs": [
    {
     "ename": "NameError",
     "evalue": "name 'mse' is not defined",
     "output_type": "error",
     "traceback": [
      "\u001b[0;31m---------------------------------------------------------------------------\u001b[0m",
      "\u001b[0;31mNameError\u001b[0m                                 Traceback (most recent call last)",
      "\u001b[0;32m<ipython-input-86-b430fb3551ed>\u001b[0m in \u001b[0;36m<module>\u001b[0;34m\u001b[0m\n\u001b[1;32m      1\u001b[0m \u001b[0my_pred\u001b[0m \u001b[0;34m=\u001b[0m \u001b[0mreg\u001b[0m\u001b[0;34m.\u001b[0m\u001b[0mpredict\u001b[0m\u001b[0;34m(\u001b[0m\u001b[0mX_test_transformed\u001b[0m\u001b[0;34m)\u001b[0m\u001b[0;34m\u001b[0m\u001b[0;34m\u001b[0m\u001b[0m\n\u001b[0;32m----> 2\u001b[0;31m \u001b[0mMSE\u001b[0m \u001b[0;34m=\u001b[0m \u001b[0mnp\u001b[0m\u001b[0;34m.\u001b[0m\u001b[0mround\u001b[0m\u001b[0;34m(\u001b[0m\u001b[0mmse\u001b[0m\u001b[0;34m(\u001b[0m\u001b[0mnp\u001b[0m\u001b[0;34m.\u001b[0m\u001b[0mexp\u001b[0m\u001b[0;34m(\u001b[0m\u001b[0my_test\u001b[0m\u001b[0;34m)\u001b[0m\u001b[0;34m-\u001b[0m\u001b[0;36m1\u001b[0m\u001b[0;34m,\u001b[0m \u001b[0mnp\u001b[0m\u001b[0;34m.\u001b[0m\u001b[0mexp\u001b[0m\u001b[0;34m(\u001b[0m\u001b[0my_pred\u001b[0m\u001b[0;34m-\u001b[0m\u001b[0;36m1\u001b[0m\u001b[0;34m)\u001b[0m\u001b[0;34m)\u001b[0m\u001b[0;34m,\u001b[0m\u001b[0;36m0\u001b[0m\u001b[0;34m)\u001b[0m\u001b[0;34m\u001b[0m\u001b[0;34m\u001b[0m\u001b[0m\n\u001b[0m\u001b[1;32m      3\u001b[0m \u001b[0mprint\u001b[0m\u001b[0;34m(\u001b[0m\u001b[0;34mf'MSE = {MSE:.0f}'\u001b[0m\u001b[0;34m)\u001b[0m\u001b[0;34m\u001b[0m\u001b[0;34m\u001b[0m\u001b[0m\n",
      "\u001b[0;31mNameError\u001b[0m: name 'mse' is not defined"
     ]
    }
   ],
   "source": [
    "y_pred = reg.predict(X_test_transformed)\n",
    "MSE = np.round(mse(np.exp(y_test)-1, np.exp(y_pred)-1),0)\n",
    "print(f'MSE = {MSE:.0f}')"
   ]
  },
  {
   "cell_type": "code",
   "execution_count": 87,
   "metadata": {},
   "outputs": [],
   "source": [
    "MSE = metrics.mean_squared_error(np.exp(y_test)-1, np.exp(y_pred)-1)"
   ]
  },
  {
   "cell_type": "code",
   "execution_count": 90,
   "metadata": {},
   "outputs": [
    {
     "name": "stdout",
     "output_type": "stream",
     "text": [
      "MSE = 16647931507747\n"
     ]
    }
   ],
   "source": [
    "print(f'MSE = {MSE:.0f}')"
   ]
  },
  {
   "cell_type": "markdown",
   "metadata": {},
   "source": [
    "# Задание 3A.6.1"
   ]
  },
  {
   "cell_type": "code",
   "execution_count": 2,
   "metadata": {},
   "outputs": [],
   "source": [
    "from sklearn.datasets import load_boston"
   ]
  },
  {
   "cell_type": "code",
   "execution_count": 3,
   "metadata": {},
   "outputs": [],
   "source": [
    "data = load_boston()"
   ]
  },
  {
   "cell_type": "code",
   "execution_count": 4,
   "metadata": {},
   "outputs": [
    {
     "name": "stdout",
     "output_type": "stream",
     "text": [
      ".. _boston_dataset:\n",
      "\n",
      "Boston house prices dataset\n",
      "---------------------------\n",
      "\n",
      "**Data Set Characteristics:**  \n",
      "\n",
      "    :Number of Instances: 506 \n",
      "\n",
      "    :Number of Attributes: 13 numeric/categorical predictive. Median Value (attribute 14) is usually the target.\n",
      "\n",
      "    :Attribute Information (in order):\n",
      "        - CRIM     per capita crime rate by town\n",
      "        - ZN       proportion of residential land zoned for lots over 25,000 sq.ft.\n",
      "        - INDUS    proportion of non-retail business acres per town\n",
      "        - CHAS     Charles River dummy variable (= 1 if tract bounds river; 0 otherwise)\n",
      "        - NOX      nitric oxides concentration (parts per 10 million)\n",
      "        - RM       average number of rooms per dwelling\n",
      "        - AGE      proportion of owner-occupied units built prior to 1940\n",
      "        - DIS      weighted distances to five Boston employment centres\n",
      "        - RAD      index of accessibility to radial highways\n",
      "        - TAX      full-value property-tax rate per $10,000\n",
      "        - PTRATIO  pupil-teacher ratio by town\n",
      "        - B        1000(Bk - 0.63)^2 where Bk is the proportion of blacks by town\n",
      "        - LSTAT    % lower status of the population\n",
      "        - MEDV     Median value of owner-occupied homes in $1000's\n",
      "\n",
      "    :Missing Attribute Values: None\n",
      "\n",
      "    :Creator: Harrison, D. and Rubinfeld, D.L.\n",
      "\n",
      "This is a copy of UCI ML housing dataset.\n",
      "https://archive.ics.uci.edu/ml/machine-learning-databases/housing/\n",
      "\n",
      "\n",
      "This dataset was taken from the StatLib library which is maintained at Carnegie Mellon University.\n",
      "\n",
      "The Boston house-price data of Harrison, D. and Rubinfeld, D.L. 'Hedonic\n",
      "prices and the demand for clean air', J. Environ. Economics & Management,\n",
      "vol.5, 81-102, 1978.   Used in Belsley, Kuh & Welsch, 'Regression diagnostics\n",
      "...', Wiley, 1980.   N.B. Various transformations are used in the table on\n",
      "pages 244-261 of the latter.\n",
      "\n",
      "The Boston house-price data has been used in many machine learning papers that address regression\n",
      "problems.   \n",
      "     \n",
      ".. topic:: References\n",
      "\n",
      "   - Belsley, Kuh & Welsch, 'Regression diagnostics: Identifying Influential Data and Sources of Collinearity', Wiley, 1980. 244-261.\n",
      "   - Quinlan,R. (1993). Combining Instance-Based and Model-Based Learning. In Proceedings on the Tenth International Conference of Machine Learning, 236-243, University of Massachusetts, Amherst. Morgan Kaufmann.\n",
      "\n"
     ]
    }
   ],
   "source": [
    "print(data['DESCR'])"
   ]
  },
  {
   "cell_type": "code",
   "execution_count": 62,
   "metadata": {},
   "outputs": [],
   "source": [
    "def linreg_linear(X, y):\n",
    "    \n",
    "    theta = np.linalg.inv(X.T.dot(X)).dot(X.T).dot(y)\n",
    "    \n",
    "    #X_T = np.transpose(X)\n",
    "    #theta = (X_T@y)@((X@X_T)^(-1))\n",
    "    return theta"
   ]
  },
  {
   "cell_type": "code",
   "execution_count": 63,
   "metadata": {},
   "outputs": [],
   "source": [
    "# подготовить данные\n",
    "X, y = data['data'], data['target']\n",
    "X = np.hstack([np.ones(X.shape[0])[:, np.newaxis], X])"
   ]
  },
  {
   "cell_type": "code",
   "execution_count": 64,
   "metadata": {},
   "outputs": [],
   "source": [
    "# вычислить параметр theta\n",
    "theta = linreg_linear(X, y)"
   ]
  },
  {
   "cell_type": "code",
   "execution_count": 20,
   "metadata": {},
   "outputs": [],
   "source": [
    "a = np.array([[1,2],[3,4]])"
   ]
  },
  {
   "cell_type": "code",
   "execution_count": 21,
   "metadata": {},
   "outputs": [
    {
     "name": "stdout",
     "output_type": "stream",
     "text": [
      "[[1 2]\n",
      " [3 4]]\n"
     ]
    }
   ],
   "source": [
    "print(a)"
   ]
  },
  {
   "cell_type": "code",
   "execution_count": 27,
   "metadata": {},
   "outputs": [
    {
     "name": "stdout",
     "output_type": "stream",
     "text": [
      "[[1 3]\n",
      " [2 4]]\n"
     ]
    }
   ],
   "source": [
    "b = np.transpose(a)\n",
    "print(b)"
   ]
  },
  {
   "cell_type": "code",
   "execution_count": 24,
   "metadata": {},
   "outputs": [
    {
     "name": "stdout",
     "output_type": "stream",
     "text": [
      "[[1 2]\n",
      " [3 4]]\n"
     ]
    }
   ],
   "source": [
    "print(a)"
   ]
  },
  {
   "cell_type": "code",
   "execution_count": 29,
   "metadata": {},
   "outputs": [
    {
     "data": {
      "text/plain": [
       "array([[2, 4],\n",
       "       [6, 8]])"
      ]
     },
     "execution_count": 29,
     "metadata": {},
     "output_type": "execute_result"
    }
   ],
   "source": [
    "a*2"
   ]
  },
  {
   "cell_type": "code",
   "execution_count": 51,
   "metadata": {},
   "outputs": [
    {
     "ename": "NameError",
     "evalue": "name 'optimize' is not defined",
     "output_type": "error",
     "traceback": [
      "\u001b[0;31m---------------------------------------------------------------------------\u001b[0m",
      "\u001b[0;31mNameError\u001b[0m                                 Traceback (most recent call last)",
      "\u001b[0;32m<ipython-input-51-e2111998b9bf>\u001b[0m in \u001b[0;36m<module>\u001b[0;34m\u001b[0m\n\u001b[1;32m      1\u001b[0m \u001b[0;32mdef\u001b[0m \u001b[0mf\u001b[0m\u001b[0;34m(\u001b[0m\u001b[0mx\u001b[0m\u001b[0;34m,\u001b[0m\u001b[0my\u001b[0m\u001b[0;34m,\u001b[0m\u001b[0mz\u001b[0m\u001b[0;34m)\u001b[0m\u001b[0;34m:\u001b[0m\u001b[0;34m\u001b[0m\u001b[0;34m\u001b[0m\u001b[0m\n\u001b[1;32m      2\u001b[0m     \u001b[0;32mreturn\u001b[0m \u001b[0mx\u001b[0m\u001b[0;34m**\u001b[0m\u001b[0;36m3\u001b[0m \u001b[0;34m-\u001b[0m \u001b[0;36m2\u001b[0m\u001b[0;34m*\u001b[0m\u001b[0;34m(\u001b[0m\u001b[0mx\u001b[0m\u001b[0;34m**\u001b[0m\u001b[0;36m2\u001b[0m\u001b[0;34m)\u001b[0m \u001b[0;34m+\u001b[0m \u001b[0my\u001b[0m\u001b[0;34m**\u001b[0m\u001b[0;36m2\u001b[0m \u001b[0;34m+\u001b[0m \u001b[0mz\u001b[0m\u001b[0;34m**\u001b[0m\u001b[0;36m2\u001b[0m \u001b[0;34m-\u001b[0m\u001b[0;36m2\u001b[0m\u001b[0;34m*\u001b[0m\u001b[0mx\u001b[0m\u001b[0;34m*\u001b[0m\u001b[0my\u001b[0m \u001b[0;34m+\u001b[0m \u001b[0mx\u001b[0m\u001b[0;34m*\u001b[0m\u001b[0mz\u001b[0m \u001b[0;34m-\u001b[0m \u001b[0my\u001b[0m\u001b[0;34m*\u001b[0m\u001b[0mz\u001b[0m \u001b[0;34m+\u001b[0m\u001b[0;36m3\u001b[0m\u001b[0;34m*\u001b[0m\u001b[0mz\u001b[0m\u001b[0;34m\u001b[0m\u001b[0;34m\u001b[0m\u001b[0m\n\u001b[0;32m----> 3\u001b[0;31m \u001b[0moptimize\u001b[0m\u001b[0;34m.\u001b[0m\u001b[0mminimize\u001b[0m\u001b[0;34m(\u001b[0m\u001b[0;32mlambda\u001b[0m \u001b[0mx\u001b[0m\u001b[0;34m:\u001b[0m \u001b[0mf\u001b[0m\u001b[0;34m(\u001b[0m\u001b[0;34m*\u001b[0m\u001b[0mx\u001b[0m\u001b[0;34m)\u001b[0m\u001b[0;34m,\u001b[0m \u001b[0mx0\u001b[0m\u001b[0;34m=\u001b[0m\u001b[0;34m(\u001b[0m\u001b[0;36m0\u001b[0m\u001b[0;34m,\u001b[0m\u001b[0;36m0\u001b[0m\u001b[0;34m,\u001b[0m\u001b[0;36m0\u001b[0m\u001b[0;34m)\u001b[0m\u001b[0;34m)\u001b[0m\u001b[0;34m\u001b[0m\u001b[0;34m\u001b[0m\u001b[0m\n\u001b[0m",
      "\u001b[0;31mNameError\u001b[0m: name 'optimize' is not defined"
     ]
    }
   ],
   "source": [
    "def f(x,y,z):\n",
    "    return x**3 - 2*(x**2) + y**2 + z**2 -2*x*y + x*z - y*z +3*z\n",
    "optimize.minimize(lambda x: f(*x), x0=(0,0,0)) "
   ]
  },
  {
   "cell_type": "markdown",
   "metadata": {},
   "source": [
    "## Задание 8.2. Напишите следующую точку градиентного спуска с momentum"
   ]
  },
  {
   "cell_type": "code",
   "execution_count": 53,
   "metadata": {},
   "outputs": [
    {
     "name": "stdout",
     "output_type": "stream",
     "text": [
      "[ -5.  -12.   22.5]\n"
     ]
    }
   ],
   "source": [
    "def f(x, y, z):\n",
    "    return 2*x**2 - 4*x*z + 4*y**2 - 8*y*z + 9*z**2 +4*x + 8*y - 20*z\n",
    "def grad(x, y, z):\n",
    "    dx = 4*x - 4*z + 4\n",
    "    dy = 8*y - 8*z +8\n",
    "    dz = -4*x -8*y +18*z - 20\n",
    "    return (dx, dy, dz)\n",
    "x1=(1,2,-5)\n",
    "gamma = 0.25\n",
    "momentum = 1\n",
    "w = x1\n",
    "w_history = w\n",
    "f_history = f(*w)\n",
    "i = 0\n",
    "delta_w = np.array(x1) - np.zeros(3)\n",
    "while i<1:\n",
    "    f_history = f(*w)\n",
    "    delta_w = -gamma * np.array(grad(*w)) + momentum * delta_w\n",
    "    w = w + delta_w\n",
    "    x_history = np.vstack((w_history, w))\n",
    "    f_history = np.vstack((f_history, f(*w)))\n",
    "    i+=1 \n",
    "print(x_history[1])"
   ]
  },
  {
   "cell_type": "markdown",
   "metadata": {},
   "source": [
    "## Задание 9.4. Найдите следующий шаг метода Ньютона для функции x^2 + xy - 2x + 3y-1, если текущая точка x=0, y=1"
   ]
  },
  {
   "cell_type": "code",
   "execution_count": 55,
   "metadata": {},
   "outputs": [
    {
     "data": {
      "text/plain": [
       "array([-3.,  8.])"
      ]
     },
     "execution_count": 55,
     "metadata": {},
     "output_type": "execute_result"
    }
   ],
   "source": [
    "x0 = np.array([0,1])\n",
    "def grad(x,y):\n",
    "    dx = 2*x + y - 2\n",
    "    dy = x + 3\n",
    "    return np.array([dx,dy])\n",
    "def H_rev(x,y):\n",
    "    dxx = 2\n",
    "    dxy = 1\n",
    "    dyx = 1\n",
    "    dyy = 0\n",
    "    H = np.array([[dxx,dxy],[dyx, dyy]])\n",
    "    return np.linalg.inv(H)\n",
    "x1 = x0 - H_rev(*x0)@grad(*x0)\n",
    "x1"
   ]
  },
  {
   "cell_type": "markdown",
   "metadata": {},
   "source": [
    "# Задание 3A.7.1"
   ]
  },
  {
   "cell_type": "code",
   "execution_count": 65,
   "metadata": {},
   "outputs": [],
   "source": [
    "import numpy as np\n",
    "import pandas as pd\n",
    "from sklearn.datasets import load_boston\n",
    "from sklearn.metrics import mean_squared_error, f1_score, accuracy_score, roc_curve, roc_auc_score\n",
    "from sklearn.model_selection import train_test_split\n",
    "\n",
    "from matplotlib import pyplot as plt"
   ]
  },
  {
   "cell_type": "code",
   "execution_count": 66,
   "metadata": {},
   "outputs": [],
   "source": [
    "def print_regression_metrics(y_true, y_pred):\n",
    "    mse = mean_squared_error(y_true, y_pred)\n",
    "    rmse = np.sqrt(mse)\n",
    "    print(f'MSE = {mse:.2f}, RMSE = {rmse:.2f}')\n",
    "    \n",
    "def prepare_boston_data():\n",
    "    data = load_boston()\n",
    "    X, y = data['data'], data['target']\n",
    "    # Нормализовать даннные с помощью стандартной нормализации\n",
    "    X = (X - X.mean(axis=0)) / X.std(axis=0)\n",
    "    # Добавить фиктивный столбец единиц (bias линейной модели)\n",
    "    X = np.hstack([np.ones(X.shape[0])[:, np.newaxis], X])\n",
    "    \n",
    "    return X, y"
   ]
  },
  {
   "cell_type": "code",
   "execution_count": 67,
   "metadata": {},
   "outputs": [],
   "source": [
    "def train_validate(X, y):\n",
    "    # Разбить данные на train/valid\n",
    "    X_train, X_valid, y_train, y_valid = train_test_split(X, y, test_size=0.2, shuffle=True, random_state=1)\n",
    "\n",
    "    # Создать и обучить линейную регрессию\n",
    "    linreg_alg = LinRegAlgebra()\n",
    "    linreg_alg.fit(X_train, y_train)\n",
    "\n",
    "    # Сделать предсказания по валидционной выборке\n",
    "    y_pred = linreg_alg.predict(X_valid)\n",
    "\n",
    "    # Посчитать значение ошибок MSE и RMSE для валидационных данных\n",
    "    print_regression_metrics(y_valid, y_pred)"
   ]
  },
  {
   "cell_type": "code",
   "execution_count": 68,
   "metadata": {},
   "outputs": [],
   "source": [
    "class LinRegAlgebra():\n",
    "    def __init__(self):\n",
    "        self.theta = None\n",
    "    \n",
    "    def fit(self, X, y):\n",
    "        self.theta = np.linalg.inv(X.transpose().dot(X)).dot(X.transpose()).dot(y)\n",
    "    \n",
    "    def predict(self, X):\n",
    "        return X.dot(self.theta)"
   ]
  },
  {
   "cell_type": "code",
   "execution_count": 81,
   "metadata": {},
   "outputs": [],
   "source": [
    "class RegOptimizer():\n",
    "    def __init__(self, alpha, n_iters):\n",
    "        self.theta = None\n",
    "        self._alpha = alpha\n",
    "        self._n_iters = n_iters\n",
    "    \n",
    "    def gradient_step(self, theta, theta_grad):\n",
    "        return theta - self._alpha * theta_grad\n",
    "    \n",
    "    def grad_func(self, X, y, theta):\n",
    "        raise NotImplementedError()\n",
    "\n",
    "    def optimize(self, X, y, start_theta, n_iters):\n",
    "        theta = start_theta.copy()\n",
    "\n",
    "        for i in range(n_iters):\n",
    "            theta_grad = self.grad_func(X, y, theta)\n",
    "            theta = self.gradient_step(theta, theta_grad)\n",
    "            if max(abs(theta_grad)) < 0.01:  # условие остановки\n",
    "                print('step =', i)\n",
    "                break\n",
    "\n",
    "        return theta\n",
    "    \n",
    "    def fit(self, X, y):\n",
    "        m = X.shape[1]\n",
    "        start_theta = np.ones(m)\n",
    "        self.theta = self.optimize(X, y, start_theta, self._n_iters)\n",
    "        \n",
    "    def predict(self, X):\n",
    "        raise NotImplementedError()"
   ]
  },
  {
   "cell_type": "code",
   "execution_count": 82,
   "metadata": {},
   "outputs": [],
   "source": [
    "class LinReg(RegOptimizer):\n",
    "    def grad_func(self, X, y, theta):\n",
    "        n = X.shape[0]\n",
    "        grad = 1. / n * X.transpose().dot(X.dot(theta) - y)\n",
    "\n",
    "        return grad\n",
    "    \n",
    "    def predict(self, X):\n",
    "        if self.theta is None:\n",
    "            raise Exception('You should train the model first')\n",
    "        \n",
    "        y_pred = X.dot(self.theta)\n",
    "        \n",
    "        return y_pred"
   ]
  },
  {
   "cell_type": "code",
   "execution_count": 71,
   "metadata": {},
   "outputs": [],
   "source": [
    "X, y = prepare_boston_data()"
   ]
  },
  {
   "cell_type": "code",
   "execution_count": 74,
   "metadata": {},
   "outputs": [
    {
     "name": "stdout",
     "output_type": "stream",
     "text": [
      "MSE = 21.89, RMSE = 4.68\n"
     ]
    }
   ],
   "source": [
    "linreg_alg = LinRegAlgebra()\n",
    "linreg_alg.fit(X, y)\n",
    "y_pred = linreg_alg.predict(X)\n",
    "# Посчитаем размер ошибок RSE и MRSE для тренировочных данных\n",
    "print_regression_metrics(y, y_pred)"
   ]
  },
  {
   "cell_type": "code",
   "execution_count": 79,
   "metadata": {},
   "outputs": [
    {
     "name": "stdout",
     "output_type": "stream",
     "text": [
      "MSE = 21.89, RMSE = 4.68\n"
     ]
    }
   ],
   "source": [
    "linreg_crit = LinReg(0.2, 1000)\n",
    "linreg_crit.fit(X, y)\n",
    "y_pred = linreg_crit.predict(X)\n",
    "# Посчитаем размер ошибок RSE и MRSE для тренировочных данных\n",
    "print_regression_metrics(y, y_pred)"
   ]
  },
  {
   "cell_type": "code",
   "execution_count": 76,
   "metadata": {},
   "outputs": [
    {
     "name": "stdout",
     "output_type": "stream",
     "text": [
      "62.2 µs ± 3.05 µs per loop (mean ± std. dev. of 7 runs, 10000 loops each)\n"
     ]
    }
   ],
   "source": [
    "%timeit linreg_alg.fit(X, y)"
   ]
  },
  {
   "cell_type": "code",
   "execution_count": 77,
   "metadata": {},
   "outputs": [
    {
     "name": "stdout",
     "output_type": "stream",
     "text": [
      "21 ms ± 1.05 ms per loop (mean ± std. dev. of 7 runs, 10 loops each)\n"
     ]
    }
   ],
   "source": [
    "%timeit linreg_crit.fit(X, y)"
   ]
  },
  {
   "cell_type": "code",
   "execution_count": 83,
   "metadata": {},
   "outputs": [
    {
     "name": "stdout",
     "output_type": "stream",
     "text": [
      "step = 212\n"
     ]
    }
   ],
   "source": [
    "linreg_crit = LinReg(0.2, 1000)\n",
    "linreg_crit.fit(X, y)"
   ]
  },
  {
   "cell_type": "code",
   "execution_count": 98,
   "metadata": {},
   "outputs": [
    {
     "data": {
      "text/plain": [
       "array([ 4.09  ,  4.9671,  4.9671,  6.0622,  6.0622,  6.0622,  5.5605,\n",
       "        5.9505,  6.0821,  6.5921,  6.3467,  6.2267,  5.4509,  4.7075,\n",
       "        4.4619,  4.4986,  4.4986,  4.2579,  3.7965,  3.7965,  3.7979,\n",
       "        4.0123,  3.9769,  4.0952,  4.3996,  4.4546,  4.682 ,  4.4534,\n",
       "        4.4547,  4.239 ,  4.233 ,  4.175 ,  3.99  ,  3.7872,  3.7598,\n",
       "        3.3603,  3.3779,  3.9342,  3.8473,  5.4011,  5.4011,  5.7209,\n",
       "        5.7209,  5.7209,  5.7209,  5.1004,  5.1004,  5.6894,  5.87  ,\n",
       "        6.0877,  6.8147,  6.8147,  6.8147,  6.8147,  7.3197,  8.6966,\n",
       "        9.1876,  8.3248,  7.8148,  6.932 ,  7.2254,  6.8185,  7.2255,\n",
       "        7.9809,  9.2229,  6.6115,  6.6115,  6.498 ,  6.498 ,  6.498 ,\n",
       "        5.2873,  5.2873,  5.2873,  5.2873,  4.2515,  4.5026,  4.0522,\n",
       "        4.0905,  5.0141,  4.5026,  5.4007,  5.4007,  5.4007,  5.4007,\n",
       "        4.7794,  4.4377,  4.4272,  3.7476,  3.4217,  3.4145,  3.0923,\n",
       "        3.0921,  3.6659,  3.6659,  3.615 ,  3.4952,  3.4952,  3.4952,\n",
       "        3.4952,  3.4952,  2.7778,  2.8561,  2.7147,  2.7147,  2.421 ,\n",
       "        2.1069,  2.211 ,  2.1224,  2.4329,  2.5451,  2.7778,  2.6775,\n",
       "        2.3534,  2.548 ,  2.2565,  2.4631,  2.7301,  2.7474,  2.4775,\n",
       "        2.7592,  2.2577,  2.1974,  2.0869,  1.9444,  2.0063,  1.9929,\n",
       "        1.7572,  1.7883,  1.8125,  1.9799,  2.1185,  2.271 ,  2.3274,\n",
       "        2.4699,  2.346 ,  2.1107,  1.9669,  1.8498,  1.6686,  1.6687,\n",
       "        1.6119,  1.4394,  1.3216,  1.4118,  1.3459,  1.4191,  1.5166,\n",
       "        1.4608,  1.5296,  1.5257,  1.618 ,  1.5916,  1.6102,  1.6232,\n",
       "        1.7494,  1.7455,  1.7364,  1.8773,  1.7573,  1.7659,  1.7984,\n",
       "        1.9709,  2.0407,  2.162 ,  2.422 ,  2.2834,  2.0459,  2.4259,\n",
       "        2.1   ,  2.2625,  2.4259,  2.3887,  2.5961,  2.6463,  2.7019,\n",
       "        3.1323,  3.5549,  3.3175,  2.9153,  2.829 ,  2.741 ,  2.5979,\n",
       "        2.7006,  2.847 ,  2.9879,  3.2797,  3.1992,  3.7886,  4.5667,\n",
       "        4.5667,  6.4798,  6.4798,  6.4798,  6.2196,  6.2196,  5.6484,\n",
       "        7.309 ,  7.309 ,  7.309 ,  7.6534,  7.6534,  6.27  ,  6.27  ,\n",
       "        5.118 ,  5.118 ,  3.9454,  4.3549,  4.3549,  4.2392,  3.875 ,\n",
       "        3.8771,  3.665 ,  3.6526,  3.9454,  3.5875,  3.9454,  3.1121,\n",
       "        3.4211,  2.8893,  3.3633,  2.8617,  3.048 ,  3.2721,  3.2721,\n",
       "        2.8944,  2.8944,  3.2157,  3.2157,  3.3751,  3.3751,  3.6715,\n",
       "        3.6715,  3.8384,  3.6519,  3.6519,  3.6519,  4.148 ,  4.148 ,\n",
       "        6.1899,  6.1899,  6.3361,  6.3361,  7.0355,  7.0355,  7.9549,\n",
       "        7.9549,  8.0555,  8.0555,  7.8265,  7.8265,  7.3967,  7.3967,\n",
       "        8.9067,  8.9067,  9.2203,  9.2203,  6.3361,  1.801 ,  1.8946,\n",
       "        2.0107,  2.1121,  2.1398,  2.2885,  2.0788,  1.9301,  1.9865,\n",
       "        2.1329,  2.4216,  2.872 ,  3.9175,  4.429 ,  4.429 ,  3.9175,\n",
       "        4.3665,  4.0776,  4.2673,  4.7872,  4.8628,  4.1403,  4.1007,\n",
       "        4.6947,  5.2447,  5.2119,  5.885 ,  7.3073,  7.3073,  9.0892,\n",
       "        7.3172,  7.3172,  7.3172,  5.1167,  5.1167,  5.1167,  5.5027,\n",
       "        5.5027,  5.9604,  5.9604,  6.32  ,  7.8278,  7.8278,  7.8278,\n",
       "        5.4917,  5.4917,  5.4917,  4.022 ,  3.37  ,  3.0992,  3.1827,\n",
       "        3.3175,  3.1025,  2.5194,  2.6403,  2.834 ,  3.2628,  3.6023,\n",
       "        3.945 ,  3.9986,  4.0317,  3.5325,  4.0019,  4.5404,  4.5404,\n",
       "        4.7211,  4.7211,  4.7211,  5.4159,  5.4159,  5.4159,  5.2146,\n",
       "        5.2146,  5.8736,  6.6407,  6.6407,  6.4584,  6.4584,  5.9853,\n",
       "        5.2311,  5.615 ,  4.8122,  4.8122,  4.8122,  7.0379,  6.2669,\n",
       "        5.7321,  6.4654,  8.0136,  8.0136,  8.5353,  8.344 ,  8.7921,\n",
       "        8.7921, 10.7103, 10.7103, 12.1265, 10.5857, 10.5857,  2.1222,\n",
       "        2.5052,  2.7227,  2.5091,  2.5182,  2.2955,  2.1036,  1.9047,\n",
       "        1.9047,  1.6132,  1.7523,  1.5106,  1.3325,  1.3567,  1.2024,\n",
       "        1.1691,  1.1296,  1.1742,  1.137 ,  1.3163,  1.3449,  1.358 ,\n",
       "        1.3861,  1.3861,  1.4165,  1.5192,  1.5804,  1.5331,  1.4395,\n",
       "        1.4261,  1.4672,  1.5184,  1.5895,  1.7281,  1.9265,  2.1678,\n",
       "        1.77  ,  1.7912,  1.7821,  1.7257,  1.6768,  1.6334,  1.4896,\n",
       "        1.5004,  1.5888,  1.5741,  1.639 ,  1.7028,  1.6074,  1.4254,\n",
       "        1.1781,  1.2852,  1.4547,  1.4655,  1.413 ,  1.5275,  1.5539,\n",
       "        1.5894,  1.6582,  1.8347,  1.8195,  1.6475,  1.8026,  1.794 ,\n",
       "        1.8589,  1.8746,  1.9512,  2.0218,  2.0635,  1.9096,  1.9976,\n",
       "        1.8629,  1.9356,  1.9682,  2.0527,  2.0882,  2.2004,  2.3158,\n",
       "        2.2222,  2.1247,  2.0026,  1.9142,  1.8206,  1.8172,  1.8662,\n",
       "        2.0651,  2.0048,  1.9784,  1.8956,  1.9879,  2.072 ,  2.198 ,\n",
       "        2.2616,  2.185 ,  2.3236,  2.3552,  2.3682,  2.4527,  2.4961,\n",
       "        2.4358,  2.5806,  2.7792,  2.7831,  2.7175,  2.5975,  2.5671,\n",
       "        2.7344,  2.8016,  2.9634,  3.0665,  2.8715,  2.5403,  2.9084,\n",
       "        2.8237,  3.0334,  3.0993,  2.8965,  2.5329,  2.4298,  2.206 ,\n",
       "        2.3053,  2.1007,  2.1705,  1.9512,  3.4242,  3.3317,  3.4106,\n",
       "        4.0983,  3.724 ,  3.9917,  3.5459,  3.1523,  1.8209,  1.7554,\n",
       "        1.8226,  1.8681,  2.1099,  2.3817,  2.3817,  2.7986,  2.7986,\n",
       "        2.8927,  2.4091,  2.3999,  2.4982,  2.4786,  2.2875,  2.1675,\n",
       "        2.3889,  2.505 ])"
      ]
     },
     "execution_count": 98,
     "metadata": {},
     "output_type": "execute_result"
    }
   ],
   "source": [
    "data['data'][:,7]"
   ]
  },
  {
   "cell_type": "code",
   "execution_count": 100,
   "metadata": {},
   "outputs": [
    {
     "data": {
      "text/plain": [
       "array(['CRIM', 'ZN', 'INDUS', 'CHAS', 'NOX', 'RM', 'AGE', 'DIS', 'RAD',\n",
       "       'TAX', 'PTRATIO', 'B', 'LSTAT'], dtype='<U7')"
      ]
     },
     "execution_count": 100,
     "metadata": {},
     "output_type": "execute_result"
    }
   ],
   "source": [
    "data['feature_names']"
   ]
  },
  {
   "cell_type": "code",
   "execution_count": 107,
   "metadata": {},
   "outputs": [
    {
     "ename": "ValueError",
     "evalue": "all the input arrays must have same number of dimensions, but the array at index 0 has 1 dimension(s) and the array at index 1 has 2 dimension(s)",
     "output_type": "error",
     "traceback": [
      "\u001b[0;31m---------------------------------------------------------------------------\u001b[0m",
      "\u001b[0;31mValueError\u001b[0m                                Traceback (most recent call last)",
      "\u001b[0;32m<ipython-input-107-351be77b09eb>\u001b[0m in \u001b[0;36m<module>\u001b[0;34m\u001b[0m\n\u001b[1;32m      6\u001b[0m \u001b[0;31m# Добавление столбца в массив numpy\u001b[0m\u001b[0;34m\u001b[0m\u001b[0;34m\u001b[0m\u001b[0;34m\u001b[0m\u001b[0m\n\u001b[1;32m      7\u001b[0m \u001b[0;34m\u001b[0m\u001b[0m\n\u001b[0;32m----> 8\u001b[0;31m \u001b[0mdata2\u001b[0m \u001b[0;34m=\u001b[0m \u001b[0mnp\u001b[0m\u001b[0;34m.\u001b[0m\u001b[0mhstack\u001b[0m\u001b[0;34m(\u001b[0m\u001b[0;34m(\u001b[0m\u001b[0mdata\u001b[0m\u001b[0;34m,\u001b[0m \u001b[0mnp\u001b[0m\u001b[0;34m.\u001b[0m\u001b[0matleast_2d\u001b[0m\u001b[0;34m(\u001b[0m\u001b[0mcolumn_to_be_added\u001b[0m\u001b[0;34m)\u001b[0m\u001b[0;34m.\u001b[0m\u001b[0mT\u001b[0m\u001b[0;34m)\u001b[0m\u001b[0;34m)\u001b[0m\u001b[0;34m\u001b[0m\u001b[0;34m\u001b[0m\u001b[0m\n\u001b[0m",
      "\u001b[0;32m<__array_function__ internals>\u001b[0m in \u001b[0;36mhstack\u001b[0;34m(*args, **kwargs)\u001b[0m\n",
      "\u001b[0;32m~/opt/anaconda3/lib/python3.8/site-packages/numpy/core/shape_base.py\u001b[0m in \u001b[0;36mhstack\u001b[0;34m(tup)\u001b[0m\n\u001b[1;32m    342\u001b[0m     \u001b[0;31m# As a special case, dimension 0 of 1-dimensional arrays is \"horizontal\"\u001b[0m\u001b[0;34m\u001b[0m\u001b[0;34m\u001b[0m\u001b[0;34m\u001b[0m\u001b[0m\n\u001b[1;32m    343\u001b[0m     \u001b[0;32mif\u001b[0m \u001b[0marrs\u001b[0m \u001b[0;32mand\u001b[0m \u001b[0marrs\u001b[0m\u001b[0;34m[\u001b[0m\u001b[0;36m0\u001b[0m\u001b[0;34m]\u001b[0m\u001b[0;34m.\u001b[0m\u001b[0mndim\u001b[0m \u001b[0;34m==\u001b[0m \u001b[0;36m1\u001b[0m\u001b[0;34m:\u001b[0m\u001b[0;34m\u001b[0m\u001b[0;34m\u001b[0m\u001b[0m\n\u001b[0;32m--> 344\u001b[0;31m         \u001b[0;32mreturn\u001b[0m \u001b[0m_nx\u001b[0m\u001b[0;34m.\u001b[0m\u001b[0mconcatenate\u001b[0m\u001b[0;34m(\u001b[0m\u001b[0marrs\u001b[0m\u001b[0;34m,\u001b[0m \u001b[0;36m0\u001b[0m\u001b[0;34m)\u001b[0m\u001b[0;34m\u001b[0m\u001b[0;34m\u001b[0m\u001b[0m\n\u001b[0m\u001b[1;32m    345\u001b[0m     \u001b[0;32melse\u001b[0m\u001b[0;34m:\u001b[0m\u001b[0;34m\u001b[0m\u001b[0;34m\u001b[0m\u001b[0m\n\u001b[1;32m    346\u001b[0m         \u001b[0;32mreturn\u001b[0m \u001b[0m_nx\u001b[0m\u001b[0;34m.\u001b[0m\u001b[0mconcatenate\u001b[0m\u001b[0;34m(\u001b[0m\u001b[0marrs\u001b[0m\u001b[0;34m,\u001b[0m \u001b[0;36m1\u001b[0m\u001b[0;34m)\u001b[0m\u001b[0;34m\u001b[0m\u001b[0;34m\u001b[0m\u001b[0m\n",
      "\u001b[0;32m<__array_function__ internals>\u001b[0m in \u001b[0;36mconcatenate\u001b[0;34m(*args, **kwargs)\u001b[0m\n",
      "\u001b[0;31mValueError\u001b[0m: all the input arrays must have same number of dimensions, but the array at index 0 has 1 dimension(s) and the array at index 1 has 2 dimension(s)"
     ]
    }
   ],
   "source": [
    "# Массив, который будет добавлен как столбец\n",
    "\n",
    "column_to_be_added = data['data'][:,7]**2\n",
    "\n",
    "  \n",
    "# Добавление столбца в массив numpy\n",
    "\n",
    "data2 = np.hstack((data, np.atleast_2d(column_to_be_added).T))"
   ]
  },
  {
   "cell_type": "code",
   "execution_count": 110,
   "metadata": {},
   "outputs": [
    {
     "data": {
      "text/plain": [
       "(506, 1)"
      ]
     },
     "execution_count": 110,
     "metadata": {},
     "output_type": "execute_result"
    }
   ],
   "source": [
    "np.atleast_2d(column_to_be_added).T.shape"
   ]
  },
  {
   "cell_type": "code",
   "execution_count": 102,
   "metadata": {},
   "outputs": [
    {
     "data": {
      "text/plain": [
       "array([ 16.7281    ,  24.67208241,  24.67208241,  36.75026884,\n",
       "        36.75026884,  36.75026884,  30.91916025,  35.40845025,\n",
       "        36.99194041,  43.45578241,  40.28060089,  38.77179289,\n",
       "        29.71231081,  22.16055625,  19.90855161,  20.23740196,\n",
       "        20.23740196,  18.12971241,  14.41341225,  14.41341225,\n",
       "        14.42404441,  16.09855129,  15.81573361,  16.77066304,\n",
       "        19.35648016,  19.84346116,  21.921124  ,  19.83277156,\n",
       "        19.84435209,  17.969121  ,  17.918289  ,  17.430625  ,\n",
       "        15.9201    ,  14.34288384,  14.13609604,  11.29161609,\n",
       "        11.41020841,  15.47792964,  14.80171729,  29.17188121,\n",
       "        29.17188121,  32.72869681,  32.72869681,  32.72869681,\n",
       "        32.72869681,  26.01408016,  26.01408016,  32.36927236,\n",
       "        34.4569    ,  37.06009129,  46.44013609,  46.44013609,\n",
       "        46.44013609,  46.44013609,  53.57800809,  75.63085156,\n",
       "        84.41199376,  69.30229504,  61.07109904,  48.052624  ,\n",
       "        52.20640516,  46.49194225,  52.20785025,  63.69476481,\n",
       "        85.06188441,  43.71193225,  43.71193225,  42.224004  ,\n",
       "        42.224004  ,  42.224004  ,  27.95554129,  27.95554129,\n",
       "        27.95554129,  27.95554129,  18.07525225,  20.27340676,\n",
       "        16.42032484,  16.73219025,  25.14119881,  20.27340676,\n",
       "        29.16756049,  29.16756049,  29.16756049,  29.16756049,\n",
       "        22.84266436,  19.69318129,  19.60009984,  14.04450576,\n",
       "        11.70803089,  11.65881025,   9.56231929,   9.56108241,\n",
       "        13.43882281,  13.43882281,  13.068225  ,  12.21642304,\n",
       "        12.21642304,  12.21642304,  12.21642304,  12.21642304,\n",
       "         7.71617284,   8.15730721,   7.36959609,   7.36959609,\n",
       "         5.861241  ,   4.43902761,   4.888521  ,   4.50458176,\n",
       "         5.91900241,   6.47753401,   7.71617284,   7.16900625,\n",
       "         5.53849156,   6.492304  ,   5.09179225,   6.06686161,\n",
       "         7.45344601,   7.54820676,   6.13800625,   7.61318464,\n",
       "         5.09720929,   4.82856676,   4.35515161,   3.78069136,\n",
       "         4.02523969,   3.97165041,   3.08775184,   3.19801689,\n",
       "         3.28515625,   3.92000401,   4.48804225,   5.157441  ,\n",
       "         5.41679076,   6.10040601,   5.503716  ,   4.45505449,\n",
       "         3.86869561,   3.42176004,   2.78422596,   2.78455969,\n",
       "         2.59822161,   2.07187236,   1.74662656,   1.99317924,\n",
       "         1.81144681,   2.01384481,   2.30007556,   2.13393664,\n",
       "         2.33967616,   2.32776049,   2.617924  ,   2.53319056,\n",
       "         2.59274404,   2.63477824,   3.06040036,   3.04677025,\n",
       "         3.01508496,   3.52425529,   3.08810329,   3.11840281,\n",
       "         3.23424256,   3.88444681,   4.16445649,   4.674244  ,\n",
       "         5.866084  ,   5.21391556,   4.18570681,   5.88499081,\n",
       "         4.41      ,   5.11890625,   5.88499081,   5.70588769,\n",
       "         6.73973521,   7.00290369,   7.30026361,   9.81130329,\n",
       "        12.63731401,  11.00580625,   8.49897409,   8.003241  ,\n",
       "         7.513081  ,   6.74908441,   7.29324036,   8.105409  ,\n",
       "         8.92754641,  10.75643209,  10.23488064,  14.35348996,\n",
       "        20.85474889,  20.85474889,  41.98780804,  41.98780804,\n",
       "        41.98780804,  38.68342416,  38.68342416,  31.90442256,\n",
       "        53.421481  ,  53.421481  ,  53.421481  ,  58.57453156,\n",
       "        58.57453156,  39.3129    ,  39.3129    ,  26.193924  ,\n",
       "        26.193924  ,  15.56618116,  18.96515401,  18.96515401,\n",
       "        17.97081664,  15.015625  ,  15.03190441,  13.432225  ,\n",
       "        13.34148676,  15.56618116,  12.87015625,  15.56618116,\n",
       "         9.68516641,  11.70392521,   8.34805449,  11.31178689,\n",
       "         8.18932689,   9.290304  ,  10.70663841,  10.70663841,\n",
       "         8.37755136,   8.37755136,  10.34072649,  10.34072649,\n",
       "        11.39130001,  11.39130001,  13.47991225,  13.47991225,\n",
       "        14.73331456,  13.33637361,  13.33637361,  13.33637361,\n",
       "        17.205904  ,  17.205904  ,  38.31486201,  38.31486201,\n",
       "        40.14616321,  40.14616321,  49.49826025,  49.49826025,\n",
       "        63.28043401,  63.28043401,  64.89108025,  64.89108025,\n",
       "        61.25410225,  61.25410225,  54.71117089,  54.71117089,\n",
       "        79.32930489,  79.32930489,  85.01393209,  85.01393209,\n",
       "        40.14616321,   3.243601  ,   3.58950916,   4.04291449,\n",
       "         4.46096641,   4.57874404,   5.23723225,   4.32140944,\n",
       "         3.72528601,   3.94618225,   4.54926241,   5.86414656,\n",
       "         8.248384  ,  15.34680625,  19.616041  ,  19.616041  ,\n",
       "        15.34680625,  19.06632225,  16.62682176,  18.20984929,\n",
       "        22.91728384,  23.64682384,  17.14208409,  16.81574049,\n",
       "        22.04020809,  27.50687809,  27.16390161,  34.633225  ,\n",
       "        53.39663329,  53.39663329,  82.61355664,  53.54141584,\n",
       "        53.54141584,  53.54141584,  26.18061889,  26.18061889,\n",
       "        26.18061889,  30.27970729,  30.27970729,  35.52636816,\n",
       "        35.52636816,  39.9424    ,  61.27445284,  61.27445284,\n",
       "        61.27445284,  30.15876889,  30.15876889,  30.15876889,\n",
       "        16.176484  ,  11.3569    ,   9.60504064,  10.12957929,\n",
       "        11.00580625,   9.62550625,   6.34737636,   6.97118409,\n",
       "         8.031556  ,  10.64586384,  12.97656529,  15.563025  ,\n",
       "        15.98880196,  16.25460489,  12.47855625,  16.01520361,\n",
       "        20.61523216,  20.61523216,  22.28878521,  22.28878521,\n",
       "        22.28878521,  29.33197281,  29.33197281,  29.33197281,\n",
       "        27.19205316,  27.19205316,  34.49917696,  44.09889649,\n",
       "        44.09889649,  41.71093056,  41.71093056,  35.82381609,\n",
       "        27.36440721,  31.528225  ,  23.15726884,  23.15726884,\n",
       "        23.15726884,  49.53203641,  39.27403561,  32.85697041,\n",
       "        41.80139716,  64.21778496,  64.21778496,  72.85134609,\n",
       "        69.622336  ,  77.30102241,  77.30102241, 114.71052609,\n",
       "       114.71052609, 147.05200225, 112.05704449, 112.05704449,\n",
       "         4.50373284,   6.27602704,   7.41309529,   6.29558281,\n",
       "         6.34133124,   5.26932025,   4.42513296,   3.62788209,\n",
       "         3.62788209,   2.60241424,   3.07055529,   2.28191236,\n",
       "         1.77555625,   1.84063489,   1.44576576,   1.36679481,\n",
       "         1.27599616,   1.37874564,   1.292769  ,   1.73264569,\n",
       "         1.80875601,   1.844164  ,   1.92127321,   1.92127321,\n",
       "         2.00647225,   2.30796864,   2.49766416,   2.35039561,\n",
       "         2.07216025,   2.03376121,   2.15267584,   2.30553856,\n",
       "         2.52651025,   2.98632961,   3.71140225,   4.69935684,\n",
       "         3.1329    ,   3.20839744,   3.17588041,   2.97804049,\n",
       "         2.81165824,   2.66799556,   2.21890816,   2.25120016,\n",
       "         2.52428544,   2.47779081,   2.686321  ,   2.89952784,\n",
       "         2.58373476,   2.03176516,   1.38791961,   1.65173904,\n",
       "         2.11615209,   2.14769025,   1.996569  ,   2.33325625,\n",
       "         2.41460521,   2.52619236,   2.74962724,   3.36612409,\n",
       "         3.31058025,   2.71425625,   3.24936676,   3.218436  ,\n",
       "         3.45550921,   3.51412516,   3.80718144,   4.08767524,\n",
       "         4.25803225,   3.64657216,   3.99040576,   3.47039641,\n",
       "         3.74654736,   3.87381124,   4.21357729,   4.36057924,\n",
       "         4.84176016,   5.36292964,   4.93817284,   4.51435009,\n",
       "         4.01040676,   3.66416164,   3.31458436,   3.30221584,\n",
       "         3.48270244,   4.26463801,   4.01922304,   3.91406656,\n",
       "         3.59329936,   3.95174641,   4.293184  ,   4.831204  ,\n",
       "         5.11483456,   4.774225  ,   5.39911696,   5.54696704,\n",
       "         5.60837124,   6.01573729,   6.23051521,   5.93312164,\n",
       "         6.65949636,   7.72395264,   7.74564561,   7.38480625,\n",
       "         6.74700625,   6.59000241,   7.47694336,   7.84896256,\n",
       "         8.78173956,   9.40342225,   8.24551225,   6.45312409,\n",
       "         8.45879056,   7.97328169,   9.20151556,   9.60566049,\n",
       "         8.38971225,   6.41558241,   5.90392804,   4.866436  ,\n",
       "         5.31440809,   4.41294049,   4.71107025,   3.80718144,\n",
       "        11.72514564,  11.10022489,  11.63219236,  16.79606289,\n",
       "        13.868176  ,  15.93366889,  12.57340681,   9.93699529,\n",
       "         3.31567681,   3.08142916,   3.32187076,   3.48979761,\n",
       "         4.45167801,   5.67249489,   5.67249489,   7.83216196,\n",
       "         7.83216196,   8.36771329,   5.80376281,   5.75952001,\n",
       "         6.24100324,   6.14345796,   5.23265625,   4.69805625,\n",
       "         5.70684321,   6.275025  ])"
      ]
     },
     "execution_count": 102,
     "metadata": {},
     "output_type": "execute_result"
    }
   ],
   "source": [
    "column_to_be_added"
   ]
  },
  {
   "cell_type": "markdown",
   "metadata": {},
   "source": [
    "# Задание 4.3.1\n",
    "\n",
    "Загрузите данные train.csv, разделите выборку на обучающую и тестовую части в соотношении 70% на 30% без перемешивания. Найдите среднее значение для признака payment_amount и запишите его в переменную result. Обратите внимание, что среднее нужно считать по тестовой выборке."
   ]
  },
  {
   "cell_type": "code",
   "execution_count": 140,
   "metadata": {},
   "outputs": [
    {
     "name": "stdout",
     "output_type": "stream",
     "text": [
      "34.13839024130401\n"
     ]
    }
   ],
   "source": [
    "from sklearn.model_selection import train_test_split\n",
    "vis_data = pd.read_csv(\"./train1.csv\", encoding = 'ISO-8859-1', low_memory = False)\n",
    "# Напишите ваш код ниже\n",
    "train, valid = train_test_split(vis_data, test_size=0.3, shuffle=False)\n",
    "result = valid['payment_amount'].mean()\n",
    "print(result)\n",
    "#/train.shape[0]"
   ]
  },
  {
   "cell_type": "code",
   "execution_count": 130,
   "metadata": {
    "scrolled": true
   },
   "outputs": [
    {
     "data": {
      "text/html": [
       "<div>\n",
       "<style scoped>\n",
       "    .dataframe tbody tr th:only-of-type {\n",
       "        vertical-align: middle;\n",
       "    }\n",
       "\n",
       "    .dataframe tbody tr th {\n",
       "        vertical-align: top;\n",
       "    }\n",
       "\n",
       "    .dataframe thead th {\n",
       "        text-align: right;\n",
       "    }\n",
       "</style>\n",
       "<table border=\"1\" class=\"dataframe\">\n",
       "  <thead>\n",
       "    <tr style=\"text-align: right;\">\n",
       "      <th></th>\n",
       "      <th>ticket_id</th>\n",
       "      <th>agency_name</th>\n",
       "      <th>inspector_name</th>\n",
       "      <th>violator_name</th>\n",
       "      <th>violation_street_number</th>\n",
       "      <th>violation_street_name</th>\n",
       "      <th>violation_zip_code</th>\n",
       "      <th>mailing_address_str_number</th>\n",
       "      <th>mailing_address_str_name</th>\n",
       "      <th>city</th>\n",
       "      <th>...</th>\n",
       "      <th>clean_up_cost</th>\n",
       "      <th>judgment_amount</th>\n",
       "      <th>payment_amount</th>\n",
       "      <th>balance_due</th>\n",
       "      <th>payment_date</th>\n",
       "      <th>payment_status</th>\n",
       "      <th>collection_status</th>\n",
       "      <th>grafitti_status</th>\n",
       "      <th>compliance_detail</th>\n",
       "      <th>compliance</th>\n",
       "    </tr>\n",
       "  </thead>\n",
       "  <tbody>\n",
       "    <tr>\n",
       "      <th>0</th>\n",
       "      <td>22056</td>\n",
       "      <td>Buildings, Safety Engineering &amp; Env Department</td>\n",
       "      <td>Sims, Martinzie</td>\n",
       "      <td>INVESTMENT INC., MIDWEST MORTGAGE</td>\n",
       "      <td>2900.0</td>\n",
       "      <td>TYLER</td>\n",
       "      <td>NaN</td>\n",
       "      <td>3.0</td>\n",
       "      <td>S. WICKER</td>\n",
       "      <td>CHICAGO</td>\n",
       "      <td>...</td>\n",
       "      <td>0.0</td>\n",
       "      <td>305.0</td>\n",
       "      <td>0.0</td>\n",
       "      <td>305.0</td>\n",
       "      <td>NaN</td>\n",
       "      <td>NO PAYMENT APPLIED</td>\n",
       "      <td>NaN</td>\n",
       "      <td>NaN</td>\n",
       "      <td>non-compliant by no payment</td>\n",
       "      <td>0.0</td>\n",
       "    </tr>\n",
       "    <tr>\n",
       "      <th>1</th>\n",
       "      <td>27586</td>\n",
       "      <td>Buildings, Safety Engineering &amp; Env Department</td>\n",
       "      <td>Williams, Darrin</td>\n",
       "      <td>Michigan, Covenant House</td>\n",
       "      <td>4311.0</td>\n",
       "      <td>CENTRAL</td>\n",
       "      <td>NaN</td>\n",
       "      <td>2959.0</td>\n",
       "      <td>Martin Luther King</td>\n",
       "      <td>Detroit</td>\n",
       "      <td>...</td>\n",
       "      <td>0.0</td>\n",
       "      <td>855.0</td>\n",
       "      <td>780.0</td>\n",
       "      <td>75.0</td>\n",
       "      <td>2005-06-02 00:00:00</td>\n",
       "      <td>PAID IN FULL</td>\n",
       "      <td>NaN</td>\n",
       "      <td>NaN</td>\n",
       "      <td>compliant by late payment within 1 month</td>\n",
       "      <td>1.0</td>\n",
       "    </tr>\n",
       "    <tr>\n",
       "      <th>2</th>\n",
       "      <td>22062</td>\n",
       "      <td>Buildings, Safety Engineering &amp; Env Department</td>\n",
       "      <td>Sims, Martinzie</td>\n",
       "      <td>SANDERS, DERRON</td>\n",
       "      <td>1449.0</td>\n",
       "      <td>LONGFELLOW</td>\n",
       "      <td>NaN</td>\n",
       "      <td>23658.0</td>\n",
       "      <td>P.O. BOX</td>\n",
       "      <td>DETROIT</td>\n",
       "      <td>...</td>\n",
       "      <td>0.0</td>\n",
       "      <td>0.0</td>\n",
       "      <td>0.0</td>\n",
       "      <td>0.0</td>\n",
       "      <td>NaN</td>\n",
       "      <td>NO PAYMENT APPLIED</td>\n",
       "      <td>NaN</td>\n",
       "      <td>NaN</td>\n",
       "      <td>not responsible by disposition</td>\n",
       "      <td>NaN</td>\n",
       "    </tr>\n",
       "    <tr>\n",
       "      <th>3</th>\n",
       "      <td>22084</td>\n",
       "      <td>Buildings, Safety Engineering &amp; Env Department</td>\n",
       "      <td>Sims, Martinzie</td>\n",
       "      <td>MOROSI, MIKE</td>\n",
       "      <td>1441.0</td>\n",
       "      <td>LONGFELLOW</td>\n",
       "      <td>NaN</td>\n",
       "      <td>5.0</td>\n",
       "      <td>ST. CLAIR</td>\n",
       "      <td>DETROIT</td>\n",
       "      <td>...</td>\n",
       "      <td>0.0</td>\n",
       "      <td>0.0</td>\n",
       "      <td>0.0</td>\n",
       "      <td>0.0</td>\n",
       "      <td>NaN</td>\n",
       "      <td>NO PAYMENT APPLIED</td>\n",
       "      <td>NaN</td>\n",
       "      <td>NaN</td>\n",
       "      <td>not responsible by disposition</td>\n",
       "      <td>NaN</td>\n",
       "    </tr>\n",
       "    <tr>\n",
       "      <th>4</th>\n",
       "      <td>22093</td>\n",
       "      <td>Buildings, Safety Engineering &amp; Env Department</td>\n",
       "      <td>Sims, Martinzie</td>\n",
       "      <td>NATHANIEL, NEAL</td>\n",
       "      <td>2449.0</td>\n",
       "      <td>CHURCHILL</td>\n",
       "      <td>NaN</td>\n",
       "      <td>7449.0</td>\n",
       "      <td>CHURCHILL</td>\n",
       "      <td>DETROIT</td>\n",
       "      <td>...</td>\n",
       "      <td>0.0</td>\n",
       "      <td>0.0</td>\n",
       "      <td>0.0</td>\n",
       "      <td>0.0</td>\n",
       "      <td>NaN</td>\n",
       "      <td>NO PAYMENT APPLIED</td>\n",
       "      <td>NaN</td>\n",
       "      <td>NaN</td>\n",
       "      <td>not responsible by disposition</td>\n",
       "      <td>NaN</td>\n",
       "    </tr>\n",
       "    <tr>\n",
       "      <th>...</th>\n",
       "      <td>...</td>\n",
       "      <td>...</td>\n",
       "      <td>...</td>\n",
       "      <td>...</td>\n",
       "      <td>...</td>\n",
       "      <td>...</td>\n",
       "      <td>...</td>\n",
       "      <td>...</td>\n",
       "      <td>...</td>\n",
       "      <td>...</td>\n",
       "      <td>...</td>\n",
       "      <td>...</td>\n",
       "      <td>...</td>\n",
       "      <td>...</td>\n",
       "      <td>...</td>\n",
       "      <td>...</td>\n",
       "      <td>...</td>\n",
       "      <td>...</td>\n",
       "      <td>...</td>\n",
       "      <td>...</td>\n",
       "      <td>...</td>\n",
       "    </tr>\n",
       "    <tr>\n",
       "      <th>250301</th>\n",
       "      <td>325555</td>\n",
       "      <td>Buildings, Safety Engineering &amp; Env Department</td>\n",
       "      <td>Bush, Wesley</td>\n",
       "      <td>WESTGATE TERRACE APARTMENTS LLC</td>\n",
       "      <td>10701.0</td>\n",
       "      <td>SANTA MARIA</td>\n",
       "      <td>NaN</td>\n",
       "      <td>1715.0</td>\n",
       "      <td>MEYERS</td>\n",
       "      <td>DETROIT</td>\n",
       "      <td>...</td>\n",
       "      <td>0.0</td>\n",
       "      <td>0.0</td>\n",
       "      <td>0.0</td>\n",
       "      <td>0.0</td>\n",
       "      <td>NaN</td>\n",
       "      <td>NO PAYMENT APPLIED</td>\n",
       "      <td>NaN</td>\n",
       "      <td>NaN</td>\n",
       "      <td>not responsible by disposition</td>\n",
       "      <td>NaN</td>\n",
       "    </tr>\n",
       "    <tr>\n",
       "      <th>250302</th>\n",
       "      <td>325557</td>\n",
       "      <td>Buildings, Safety Engineering &amp; Env Department</td>\n",
       "      <td>Bush, Wesley</td>\n",
       "      <td>WESTGATE TERRACE APARTMENTS LLC</td>\n",
       "      <td>10701.0</td>\n",
       "      <td>MEYERS RD</td>\n",
       "      <td>NaN</td>\n",
       "      <td>1715.0</td>\n",
       "      <td>MEYERS</td>\n",
       "      <td>DETROIT</td>\n",
       "      <td>...</td>\n",
       "      <td>0.0</td>\n",
       "      <td>0.0</td>\n",
       "      <td>0.0</td>\n",
       "      <td>0.0</td>\n",
       "      <td>NaN</td>\n",
       "      <td>NO PAYMENT APPLIED</td>\n",
       "      <td>NaN</td>\n",
       "      <td>NaN</td>\n",
       "      <td>not responsible by disposition</td>\n",
       "      <td>NaN</td>\n",
       "    </tr>\n",
       "    <tr>\n",
       "      <th>250303</th>\n",
       "      <td>325562</td>\n",
       "      <td>Buildings, Safety Engineering &amp; Env Department</td>\n",
       "      <td>Bush, Wesley</td>\n",
       "      <td>WESTGATE TERRACE APARTMENTS LLC</td>\n",
       "      <td>10701.0</td>\n",
       "      <td>MEYERS RD</td>\n",
       "      <td>NaN</td>\n",
       "      <td>1715.0</td>\n",
       "      <td>MEYERS</td>\n",
       "      <td>DETROIT</td>\n",
       "      <td>...</td>\n",
       "      <td>0.0</td>\n",
       "      <td>0.0</td>\n",
       "      <td>0.0</td>\n",
       "      <td>0.0</td>\n",
       "      <td>NaN</td>\n",
       "      <td>NO PAYMENT APPLIED</td>\n",
       "      <td>NaN</td>\n",
       "      <td>NaN</td>\n",
       "      <td>not responsible by disposition</td>\n",
       "      <td>NaN</td>\n",
       "    </tr>\n",
       "    <tr>\n",
       "      <th>250304</th>\n",
       "      <td>325559</td>\n",
       "      <td>Buildings, Safety Engineering &amp; Env Department</td>\n",
       "      <td>Bush, Wesley</td>\n",
       "      <td>WESTGATE TERRACE APARTMENTS LLC</td>\n",
       "      <td>10701.0</td>\n",
       "      <td>MEYERS RD</td>\n",
       "      <td>NaN</td>\n",
       "      <td>1715.0</td>\n",
       "      <td>MEYERS</td>\n",
       "      <td>DETROIT</td>\n",
       "      <td>...</td>\n",
       "      <td>0.0</td>\n",
       "      <td>0.0</td>\n",
       "      <td>0.0</td>\n",
       "      <td>0.0</td>\n",
       "      <td>NaN</td>\n",
       "      <td>NO PAYMENT APPLIED</td>\n",
       "      <td>NaN</td>\n",
       "      <td>NaN</td>\n",
       "      <td>not responsible by disposition</td>\n",
       "      <td>NaN</td>\n",
       "    </tr>\n",
       "    <tr>\n",
       "      <th>250305</th>\n",
       "      <td>325561</td>\n",
       "      <td>Buildings, Safety Engineering &amp; Env Department</td>\n",
       "      <td>Bush, Wesley</td>\n",
       "      <td>WESTGATE TERRACE APARTMENTS LLC</td>\n",
       "      <td>10701.0</td>\n",
       "      <td>MEYERS RD</td>\n",
       "      <td>NaN</td>\n",
       "      <td>1715.0</td>\n",
       "      <td>MEYERS</td>\n",
       "      <td>DETROIT</td>\n",
       "      <td>...</td>\n",
       "      <td>0.0</td>\n",
       "      <td>0.0</td>\n",
       "      <td>0.0</td>\n",
       "      <td>0.0</td>\n",
       "      <td>NaN</td>\n",
       "      <td>NO PAYMENT APPLIED</td>\n",
       "      <td>NaN</td>\n",
       "      <td>NaN</td>\n",
       "      <td>not responsible by disposition</td>\n",
       "      <td>NaN</td>\n",
       "    </tr>\n",
       "  </tbody>\n",
       "</table>\n",
       "<p>250306 rows × 34 columns</p>\n",
       "</div>"
      ],
      "text/plain": [
       "        ticket_id                                     agency_name  \\\n",
       "0           22056  Buildings, Safety Engineering & Env Department   \n",
       "1           27586  Buildings, Safety Engineering & Env Department   \n",
       "2           22062  Buildings, Safety Engineering & Env Department   \n",
       "3           22084  Buildings, Safety Engineering & Env Department   \n",
       "4           22093  Buildings, Safety Engineering & Env Department   \n",
       "...           ...                                             ...   \n",
       "250301     325555  Buildings, Safety Engineering & Env Department   \n",
       "250302     325557  Buildings, Safety Engineering & Env Department   \n",
       "250303     325562  Buildings, Safety Engineering & Env Department   \n",
       "250304     325559  Buildings, Safety Engineering & Env Department   \n",
       "250305     325561  Buildings, Safety Engineering & Env Department   \n",
       "\n",
       "          inspector_name                      violator_name  \\\n",
       "0        Sims, Martinzie  INVESTMENT INC., MIDWEST MORTGAGE   \n",
       "1       Williams, Darrin           Michigan, Covenant House   \n",
       "2        Sims, Martinzie                    SANDERS, DERRON   \n",
       "3        Sims, Martinzie                       MOROSI, MIKE   \n",
       "4        Sims, Martinzie                    NATHANIEL, NEAL   \n",
       "...                  ...                                ...   \n",
       "250301      Bush, Wesley    WESTGATE TERRACE APARTMENTS LLC   \n",
       "250302      Bush, Wesley    WESTGATE TERRACE APARTMENTS LLC   \n",
       "250303      Bush, Wesley    WESTGATE TERRACE APARTMENTS LLC   \n",
       "250304      Bush, Wesley    WESTGATE TERRACE APARTMENTS LLC   \n",
       "250305      Bush, Wesley    WESTGATE TERRACE APARTMENTS LLC   \n",
       "\n",
       "        violation_street_number violation_street_name  violation_zip_code  \\\n",
       "0                        2900.0                 TYLER                 NaN   \n",
       "1                        4311.0               CENTRAL                 NaN   \n",
       "2                        1449.0            LONGFELLOW                 NaN   \n",
       "3                        1441.0            LONGFELLOW                 NaN   \n",
       "4                        2449.0             CHURCHILL                 NaN   \n",
       "...                         ...                   ...                 ...   \n",
       "250301                  10701.0           SANTA MARIA                 NaN   \n",
       "250302                  10701.0             MEYERS RD                 NaN   \n",
       "250303                  10701.0             MEYERS RD                 NaN   \n",
       "250304                  10701.0             MEYERS RD                 NaN   \n",
       "250305                  10701.0             MEYERS RD                 NaN   \n",
       "\n",
       "        mailing_address_str_number mailing_address_str_name     city  ...  \\\n",
       "0                              3.0                S. WICKER  CHICAGO  ...   \n",
       "1                           2959.0       Martin Luther King  Detroit  ...   \n",
       "2                          23658.0                 P.O. BOX  DETROIT  ...   \n",
       "3                              5.0                ST. CLAIR  DETROIT  ...   \n",
       "4                           7449.0                CHURCHILL  DETROIT  ...   \n",
       "...                            ...                      ...      ...  ...   \n",
       "250301                      1715.0                   MEYERS  DETROIT  ...   \n",
       "250302                      1715.0                   MEYERS  DETROIT  ...   \n",
       "250303                      1715.0                   MEYERS  DETROIT  ...   \n",
       "250304                      1715.0                   MEYERS  DETROIT  ...   \n",
       "250305                      1715.0                   MEYERS  DETROIT  ...   \n",
       "\n",
       "       clean_up_cost judgment_amount payment_amount balance_due  \\\n",
       "0                0.0           305.0            0.0       305.0   \n",
       "1                0.0           855.0          780.0        75.0   \n",
       "2                0.0             0.0            0.0         0.0   \n",
       "3                0.0             0.0            0.0         0.0   \n",
       "4                0.0             0.0            0.0         0.0   \n",
       "...              ...             ...            ...         ...   \n",
       "250301           0.0             0.0            0.0         0.0   \n",
       "250302           0.0             0.0            0.0         0.0   \n",
       "250303           0.0             0.0            0.0         0.0   \n",
       "250304           0.0             0.0            0.0         0.0   \n",
       "250305           0.0             0.0            0.0         0.0   \n",
       "\n",
       "               payment_date      payment_status collection_status  \\\n",
       "0                       NaN  NO PAYMENT APPLIED               NaN   \n",
       "1       2005-06-02 00:00:00        PAID IN FULL               NaN   \n",
       "2                       NaN  NO PAYMENT APPLIED               NaN   \n",
       "3                       NaN  NO PAYMENT APPLIED               NaN   \n",
       "4                       NaN  NO PAYMENT APPLIED               NaN   \n",
       "...                     ...                 ...               ...   \n",
       "250301                  NaN  NO PAYMENT APPLIED               NaN   \n",
       "250302                  NaN  NO PAYMENT APPLIED               NaN   \n",
       "250303                  NaN  NO PAYMENT APPLIED               NaN   \n",
       "250304                  NaN  NO PAYMENT APPLIED               NaN   \n",
       "250305                  NaN  NO PAYMENT APPLIED               NaN   \n",
       "\n",
       "       grafitti_status                         compliance_detail  compliance  \n",
       "0                  NaN               non-compliant by no payment         0.0  \n",
       "1                  NaN  compliant by late payment within 1 month         1.0  \n",
       "2                  NaN            not responsible by disposition         NaN  \n",
       "3                  NaN            not responsible by disposition         NaN  \n",
       "4                  NaN            not responsible by disposition         NaN  \n",
       "...                ...                                       ...         ...  \n",
       "250301             NaN            not responsible by disposition         NaN  \n",
       "250302             NaN            not responsible by disposition         NaN  \n",
       "250303             NaN            not responsible by disposition         NaN  \n",
       "250304             NaN            not responsible by disposition         NaN  \n",
       "250305             NaN            not responsible by disposition         NaN  \n",
       "\n",
       "[250306 rows x 34 columns]"
      ]
     },
     "execution_count": 130,
     "metadata": {},
     "output_type": "execute_result"
    }
   ],
   "source": [
    "vis_data"
   ]
  },
  {
   "cell_type": "code",
   "execution_count": 129,
   "metadata": {},
   "outputs": [
    {
     "name": "stdout",
     "output_type": "stream",
     "text": [
      "MSE = 33.02, RMSE = 5.75\n"
     ]
    }
   ],
   "source": [
    "from sklearn.metrics import mean_squared_error\n",
    "\n",
    "def print_regression_metrics(y_true, y_pred):\n",
    "    mse = mean_squared_error(y_true, y_pred)\n",
    "    rmse = np.sqrt(mse)\n",
    "    print(f'MSE = {mse:.2f}, RMSE = {rmse:.2f}')\n",
    "\n",
    "y_true = np.array([1.23, 2.35, 2.75])\n",
    "y_pred = np.array([1.01, 12.3, 2.74])\n",
    "\n",
    "print_regression_metrics(y_true, y_pred)\n"
   ]
  },
  {
   "cell_type": "markdown",
   "metadata": {},
   "source": [
    "# Задание 4.5.1\n",
    "\n",
    "Загрузите данные train.csv, оставьте в данных только признаки 'fine_amount', 'state_fee', 'late_fee', 'discount_amount', 'balance_due', затем избавьтесь от пропусков. Целевой переменной будет 'balance_due', разделите данные на обучающую и тестовую выборки в соотношении 70% / 30% без перемешивания. Обучите линейную регрессию из scikit-learn и запишите в переменную result значение метрики RMSE на тестовой выборке. RMSE означает Rooted Mean Squared Error. Rooted означает, что из значения метрики был взят корень."
   ]
  },
  {
   "cell_type": "code",
   "execution_count": 149,
   "metadata": {},
   "outputs": [],
   "source": [
    "from sklearn.linear_model import LinearRegression\n",
    "from sklearn.model_selection import train_test_split\n",
    "from sklearn.metrics import mean_squared_error\n",
    "vis_data = pd.read_csv(\"./train.csv\", encoding = 'ISO-8859-1', low_memory = False)\n",
    "# Напишите ваш код ниже"
   ]
  },
  {
   "cell_type": "code",
   "execution_count": 150,
   "metadata": {},
   "outputs": [
    {
     "data": {
      "text/plain": [
       "Index(['ticket_id', 'agency_name', 'inspector_name', 'violator_name',\n",
       "       'violation_street_number', 'violation_street_name',\n",
       "       'violation_zip_code', 'mailing_address_str_number',\n",
       "       'mailing_address_str_name', 'city', 'state', 'zip_code',\n",
       "       'non_us_str_code', 'country', 'ticket_issued_date', 'hearing_date',\n",
       "       'violation_code', 'violation_description', 'disposition', 'fine_amount',\n",
       "       'admin_fee', 'state_fee', 'late_fee', 'discount_amount',\n",
       "       'clean_up_cost', 'judgment_amount', 'payment_amount', 'balance_due',\n",
       "       'payment_date', 'payment_status', 'collection_status',\n",
       "       'grafitti_status', 'compliance_detail', 'compliance'],\n",
       "      dtype='object')"
      ]
     },
     "execution_count": 150,
     "metadata": {},
     "output_type": "execute_result"
    }
   ],
   "source": [
    "vis_data.columns"
   ]
  },
  {
   "cell_type": "code",
   "execution_count": 151,
   "metadata": {},
   "outputs": [],
   "source": [
    "for c in vis_data.columns:\n",
    "    if c !='fine_amount' and c != 'state_fee' and c != 'late_fee' and c!='discount_amount' and c!= 'balance_due':\n",
    "        vis_data = vis_data.drop(columns=[c])"
   ]
  },
  {
   "cell_type": "code",
   "execution_count": 152,
   "metadata": {},
   "outputs": [
    {
     "data": {
      "text/plain": [
       "Index(['fine_amount', 'state_fee', 'late_fee', 'discount_amount',\n",
       "       'balance_due'],\n",
       "      dtype='object')"
      ]
     },
     "execution_count": 152,
     "metadata": {},
     "output_type": "execute_result"
    }
   ],
   "source": [
    "vis_data.columns"
   ]
  },
  {
   "cell_type": "code",
   "execution_count": 154,
   "metadata": {},
   "outputs": [
    {
     "data": {
      "text/plain": [
       "fine_amount        1\n",
       "state_fee          0\n",
       "late_fee           0\n",
       "discount_amount    0\n",
       "balance_due        0\n",
       "dtype: int64"
      ]
     },
     "execution_count": 154,
     "metadata": {},
     "output_type": "execute_result"
    }
   ],
   "source": [
    "vis_data.isnull().sum()"
   ]
  },
  {
   "cell_type": "code",
   "execution_count": 159,
   "metadata": {},
   "outputs": [
    {
     "data": {
      "text/plain": [
       "(250305, 5)"
      ]
     },
     "execution_count": 159,
     "metadata": {},
     "output_type": "execute_result"
    }
   ],
   "source": [
    "vis_data.shape"
   ]
  },
  {
   "cell_type": "code",
   "execution_count": 158,
   "metadata": {},
   "outputs": [],
   "source": [
    "vis_data = vis_data.dropna(axis='rows')"
   ]
  },
  {
   "cell_type": "code",
   "execution_count": 161,
   "metadata": {},
   "outputs": [],
   "source": [
    "X = vis_data.drop(['balance_due'], axis=1)\n",
    "y = vis_data['balance_due']\n",
    "\n",
    "#train, valid = train_test_split(vis_data, test_size=0.3, shuffle=False)\n",
    "\n",
    "X_train, X_test, y_train, y_test = train_test_split(X, y, test_size=0.3, shuffle=False)"
   ]
  },
  {
   "cell_type": "code",
   "execution_count": 162,
   "metadata": {},
   "outputs": [
    {
     "data": {
      "text/plain": [
       "LinearRegression()"
      ]
     },
     "execution_count": 162,
     "metadata": {},
     "output_type": "execute_result"
    }
   ],
   "source": [
    "myModel = LinearRegression()\n",
    "myModel.fit(X_train, y_train)"
   ]
  },
  {
   "cell_type": "code",
   "execution_count": 164,
   "metadata": {},
   "outputs": [],
   "source": [
    "y_pred = myModel.predict(X_test)\n",
    "mse = mean_squared_error(y_test, y_pred)\n",
    "result = np.sqrt(mse)"
   ]
  },
  {
   "cell_type": "code",
   "execution_count": null,
   "metadata": {},
   "outputs": [],
   "source": []
  }
 ],
 "metadata": {
  "kernelspec": {
   "display_name": "Python 3",
   "language": "python",
   "name": "python3"
  },
  "language_info": {
   "codemirror_mode": {
    "name": "ipython",
    "version": 3
   },
   "file_extension": ".py",
   "mimetype": "text/x-python",
   "name": "python",
   "nbconvert_exporter": "python",
   "pygments_lexer": "ipython3",
   "version": "3.8.5"
  }
 },
 "nbformat": 4,
 "nbformat_minor": 4
}

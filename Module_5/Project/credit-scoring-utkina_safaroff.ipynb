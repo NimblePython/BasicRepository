{
 "cells": [
  {
   "cell_type": "code",
   "execution_count": 1,
   "metadata": {
    "_cell_guid": "b1076dfc-b9ad-4769-8c92-a6c4dae69d19",
    "_uuid": "8f2839f25d086af736a60e9eeb907d3b93b6e0e5",
    "execution": {
     "iopub.execute_input": "2021-03-30T17:56:08.237914Z",
     "iopub.status.busy": "2021-03-30T17:56:08.237226Z",
     "iopub.status.idle": "2021-03-30T17:56:09.781320Z",
     "shell.execute_reply": "2021-03-30T17:56:09.780552Z"
    },
    "papermill": {
     "duration": 1.583756,
     "end_time": "2021-03-30T17:56:09.781514",
     "exception": false,
     "start_time": "2021-03-30T17:56:08.197758",
     "status": "completed"
    },
    "tags": []
   },
   "outputs": [],
   "source": [
    "import warnings\n",
    "from pandas import Series\n",
    "import pandas as pd\n",
    "import numpy as np\n",
    "\n",
    "\n",
    "import matplotlib.pyplot as plt\n",
    "import seaborn as sns\n",
    "\n",
    "from sklearn.feature_selection import f_classif, mutual_info_classif\n",
    "from sklearn.preprocessing import LabelEncoder, OneHotEncoder, StandardScaler\n",
    "\n",
    "from sklearn.model_selection import train_test_split\n",
    "from sklearn.linear_model import LogisticRegression\n",
    "from sklearn.model_selection import GridSearchCV\n",
    "\n",
    "\n",
    "from sklearn.metrics import confusion_matrix\n",
    "from sklearn.metrics import plot_confusion_matrix\n",
    "from sklearn.metrics import auc, roc_auc_score, roc_curve\n",
    "from sklearn.metrics import accuracy_score, f1_score, precision_score, recall_score\n",
    "\n",
    "\n",
    "%matplotlib inline\n",
    "\n",
    "warnings.filterwarnings(\"ignore\")"
   ]
  },
  {
   "cell_type": "code",
   "execution_count": 2,
   "metadata": {
    "execution": {
     "iopub.execute_input": "2021-03-30T17:56:09.854295Z",
     "iopub.status.busy": "2021-03-30T17:56:09.853539Z",
     "iopub.status.idle": "2021-03-30T17:56:09.858388Z",
     "shell.execute_reply": "2021-03-30T17:56:09.858801Z"
    },
    "papermill": {
     "duration": 0.04307,
     "end_time": "2021-03-30T17:56:09.858971",
     "exception": false,
     "start_time": "2021-03-30T17:56:09.815901",
     "status": "completed"
    },
    "tags": []
   },
   "outputs": [
    {
     "name": "stdout",
     "output_type": "stream",
     "text": [
      "/kaggle/input/sf-dst-scoring/sample_submission.csv\n",
      "/kaggle/input/sf-dst-scoring/train.csv\n",
      "/kaggle/input/sf-dst-scoring/test.csv\n"
     ]
    }
   ],
   "source": [
    "import os\n",
    "for dirname, _, filenames in os.walk('/kaggle/input'):\n",
    "    for filename in filenames:\n",
    "        print(os.path.join(dirname, filename))"
   ]
  },
  {
   "cell_type": "code",
   "execution_count": 3,
   "metadata": {
    "execution": {
     "iopub.execute_input": "2021-03-30T17:56:09.947374Z",
     "iopub.status.busy": "2021-03-30T17:56:09.931555Z",
     "iopub.status.idle": "2021-03-30T17:56:12.666414Z",
     "shell.execute_reply": "2021-03-30T17:56:12.665822Z"
    },
    "papermill": {
     "duration": 2.773247,
     "end_time": "2021-03-30T17:56:12.666563",
     "exception": false,
     "start_time": "2021-03-30T17:56:09.893316",
     "status": "completed"
    },
    "tags": []
   },
   "outputs": [],
   "source": [
    "!pip freeze > requirements.txt"
   ]
  },
  {
   "cell_type": "code",
   "execution_count": 4,
   "metadata": {
    "execution": {
     "iopub.execute_input": "2021-03-30T17:56:12.741625Z",
     "iopub.status.busy": "2021-03-30T17:56:12.740964Z",
     "iopub.status.idle": "2021-03-30T17:56:12.744404Z",
     "shell.execute_reply": "2021-03-30T17:56:12.743906Z"
    },
    "papermill": {
     "duration": 0.043177,
     "end_time": "2021-03-30T17:56:12.744556",
     "exception": false,
     "start_time": "2021-03-30T17:56:12.701379",
     "status": "completed"
    },
    "tags": []
   },
   "outputs": [],
   "source": [
    "# Функция для построения боксплота для выбранных данных\n",
    "def get_boxplot(column, index, dataframe):\n",
    "    fig, ax = plt.subplots(figsize=(6, 4))\n",
    "    sns.boxplot(x=column, y=index,\n",
    "                data=dataframe,\n",
    "                ax=ax)\n",
    "    plt.xticks()\n",
    "    ax.set_title('Boxplot for ' + index)\n",
    "    plt.show()\n",
    "    print()"
   ]
  },
  {
   "cell_type": "code",
   "execution_count": 5,
   "metadata": {
    "execution": {
     "iopub.execute_input": "2021-03-30T17:56:12.818532Z",
     "iopub.status.busy": "2021-03-30T17:56:12.817737Z",
     "iopub.status.idle": "2021-03-30T17:56:13.210606Z",
     "shell.execute_reply": "2021-03-30T17:56:13.209983Z"
    },
    "papermill": {
     "duration": 0.432051,
     "end_time": "2021-03-30T17:56:13.210761",
     "exception": false,
     "start_time": "2021-03-30T17:56:12.778710",
     "status": "completed"
    },
    "tags": []
   },
   "outputs": [],
   "source": [
    "DATA_DIR = '/kaggle/input/sf-dst-scoring/'\n",
    "data_train = pd.read_csv(DATA_DIR+'/train.csv')\n",
    "data_test = pd.read_csv(DATA_DIR+'test.csv')\n",
    "sample_submission = pd.read_csv(DATA_DIR+'/sample_submission.csv')\n"
   ]
  },
  {
   "cell_type": "markdown",
   "metadata": {
    "papermill": {
     "duration": 0.035144,
     "end_time": "2021-03-30T17:56:13.281119",
     "exception": false,
     "start_time": "2021-03-30T17:56:13.245975",
     "status": "completed"
    },
    "tags": []
   },
   "source": [
    "# Посмотрим на данные в целом"
   ]
  },
  {
   "cell_type": "code",
   "execution_count": 6,
   "metadata": {
    "execution": {
     "iopub.execute_input": "2021-03-30T17:56:13.370578Z",
     "iopub.status.busy": "2021-03-30T17:56:13.368306Z",
     "iopub.status.idle": "2021-03-30T17:56:13.696502Z",
     "shell.execute_reply": "2021-03-30T17:56:13.695939Z"
    },
    "papermill": {
     "duration": 0.381595,
     "end_time": "2021-03-30T17:56:13.696643",
     "exception": false,
     "start_time": "2021-03-30T17:56:13.315048",
     "status": "completed"
    },
    "tags": []
   },
   "outputs": [
    {
     "data": {
      "text/html": [
       "<div>\n",
       "<style scoped>\n",
       "    .dataframe tbody tr th:only-of-type {\n",
       "        vertical-align: middle;\n",
       "    }\n",
       "\n",
       "    .dataframe tbody tr th {\n",
       "        vertical-align: top;\n",
       "    }\n",
       "\n",
       "    .dataframe thead th {\n",
       "        text-align: right;\n",
       "    }\n",
       "</style>\n",
       "<table border=\"1\" class=\"dataframe\">\n",
       "  <thead>\n",
       "    <tr style=\"text-align: right;\">\n",
       "      <th></th>\n",
       "      <th>nunique</th>\n",
       "      <th>&lt;lambda&gt;</th>\n",
       "      <th>null</th>\n",
       "      <th>dtype</th>\n",
       "    </tr>\n",
       "  </thead>\n",
       "  <tbody>\n",
       "    <tr>\n",
       "      <th>client_id</th>\n",
       "      <td>110148</td>\n",
       "      <td>[25905, 63161, 25887, 16222, 101655, 41415, 28...</td>\n",
       "      <td>0</td>\n",
       "      <td>int64</td>\n",
       "    </tr>\n",
       "    <tr>\n",
       "      <th>app_date</th>\n",
       "      <td>120</td>\n",
       "      <td>[01FEB2014, 12MAR2014, 23JAN2014, 18APR2014, 1...</td>\n",
       "      <td>0</td>\n",
       "      <td>object</td>\n",
       "    </tr>\n",
       "    <tr>\n",
       "      <th>education</th>\n",
       "      <td>5</td>\n",
       "      <td>[SCH, GRD, UGR, PGR, ACD, nan]</td>\n",
       "      <td>478</td>\n",
       "      <td>object</td>\n",
       "    </tr>\n",
       "    <tr>\n",
       "      <th>sex</th>\n",
       "      <td>2</td>\n",
       "      <td>[M, F]</td>\n",
       "      <td>0</td>\n",
       "      <td>object</td>\n",
       "    </tr>\n",
       "    <tr>\n",
       "      <th>age</th>\n",
       "      <td>52</td>\n",
       "      <td>[62, 59, 25, 53, 48, 27, 39, 50, 54, 29]</td>\n",
       "      <td>0</td>\n",
       "      <td>int64</td>\n",
       "    </tr>\n",
       "    <tr>\n",
       "      <th>car</th>\n",
       "      <td>2</td>\n",
       "      <td>[Y, N]</td>\n",
       "      <td>0</td>\n",
       "      <td>object</td>\n",
       "    </tr>\n",
       "    <tr>\n",
       "      <th>car_type</th>\n",
       "      <td>2</td>\n",
       "      <td>[Y, N]</td>\n",
       "      <td>0</td>\n",
       "      <td>object</td>\n",
       "    </tr>\n",
       "    <tr>\n",
       "      <th>decline_app_cnt</th>\n",
       "      <td>24</td>\n",
       "      <td>[0, 2, 1, 3, 4, 6, 5, 7, 8, 9]</td>\n",
       "      <td>0</td>\n",
       "      <td>int64</td>\n",
       "    </tr>\n",
       "    <tr>\n",
       "      <th>good_work</th>\n",
       "      <td>2</td>\n",
       "      <td>[0, 1]</td>\n",
       "      <td>0</td>\n",
       "      <td>int64</td>\n",
       "    </tr>\n",
       "    <tr>\n",
       "      <th>score_bki</th>\n",
       "      <td>102618</td>\n",
       "      <td>[-2.00875292, -1.53227621, -1.40814226, -2.057...</td>\n",
       "      <td>0</td>\n",
       "      <td>float64</td>\n",
       "    </tr>\n",
       "    <tr>\n",
       "      <th>bki_request_cnt</th>\n",
       "      <td>40</td>\n",
       "      <td>[1, 3, 2, 0, 4, 7, 5, 8, 6, 13]</td>\n",
       "      <td>0</td>\n",
       "      <td>int64</td>\n",
       "    </tr>\n",
       "    <tr>\n",
       "      <th>region_rating</th>\n",
       "      <td>7</td>\n",
       "      <td>[50, 80, 60, 40, 70, 20, 30]</td>\n",
       "      <td>0</td>\n",
       "      <td>int64</td>\n",
       "    </tr>\n",
       "    <tr>\n",
       "      <th>home_address</th>\n",
       "      <td>3</td>\n",
       "      <td>[1, 2, 3]</td>\n",
       "      <td>0</td>\n",
       "      <td>int64</td>\n",
       "    </tr>\n",
       "    <tr>\n",
       "      <th>work_address</th>\n",
       "      <td>3</td>\n",
       "      <td>[2, 3, 1]</td>\n",
       "      <td>0</td>\n",
       "      <td>int64</td>\n",
       "    </tr>\n",
       "    <tr>\n",
       "      <th>income</th>\n",
       "      <td>1207</td>\n",
       "      <td>[18000, 19000, 30000, 10000, 15000, 28000, 450...</td>\n",
       "      <td>0</td>\n",
       "      <td>int64</td>\n",
       "    </tr>\n",
       "    <tr>\n",
       "      <th>sna</th>\n",
       "      <td>4</td>\n",
       "      <td>[4, 1, 2, 3]</td>\n",
       "      <td>0</td>\n",
       "      <td>int64</td>\n",
       "    </tr>\n",
       "    <tr>\n",
       "      <th>first_time</th>\n",
       "      <td>4</td>\n",
       "      <td>[1, 4, 3, 2]</td>\n",
       "      <td>0</td>\n",
       "      <td>int64</td>\n",
       "    </tr>\n",
       "    <tr>\n",
       "      <th>foreign_passport</th>\n",
       "      <td>2</td>\n",
       "      <td>[N, Y]</td>\n",
       "      <td>0</td>\n",
       "      <td>object</td>\n",
       "    </tr>\n",
       "    <tr>\n",
       "      <th>default</th>\n",
       "      <td>2</td>\n",
       "      <td>[0.0, 1.0, nan]</td>\n",
       "      <td>36349</td>\n",
       "      <td>float64</td>\n",
       "    </tr>\n",
       "  </tbody>\n",
       "</table>\n",
       "</div>"
      ],
      "text/plain": [
       "                 nunique                                           <lambda>  \\\n",
       "client_id         110148  [25905, 63161, 25887, 16222, 101655, 41415, 28...   \n",
       "app_date             120  [01FEB2014, 12MAR2014, 23JAN2014, 18APR2014, 1...   \n",
       "education              5                     [SCH, GRD, UGR, PGR, ACD, nan]   \n",
       "sex                    2                                             [M, F]   \n",
       "age                   52           [62, 59, 25, 53, 48, 27, 39, 50, 54, 29]   \n",
       "car                    2                                             [Y, N]   \n",
       "car_type               2                                             [Y, N]   \n",
       "decline_app_cnt       24                     [0, 2, 1, 3, 4, 6, 5, 7, 8, 9]   \n",
       "good_work              2                                             [0, 1]   \n",
       "score_bki         102618  [-2.00875292, -1.53227621, -1.40814226, -2.057...   \n",
       "bki_request_cnt       40                    [1, 3, 2, 0, 4, 7, 5, 8, 6, 13]   \n",
       "region_rating          7                       [50, 80, 60, 40, 70, 20, 30]   \n",
       "home_address           3                                          [1, 2, 3]   \n",
       "work_address           3                                          [2, 3, 1]   \n",
       "income              1207  [18000, 19000, 30000, 10000, 15000, 28000, 450...   \n",
       "sna                    4                                       [4, 1, 2, 3]   \n",
       "first_time             4                                       [1, 4, 3, 2]   \n",
       "foreign_passport       2                                             [N, Y]   \n",
       "default                2                                    [0.0, 1.0, nan]   \n",
       "\n",
       "                   null    dtype  \n",
       "client_id             0    int64  \n",
       "app_date              0   object  \n",
       "education           478   object  \n",
       "sex                   0   object  \n",
       "age                   0    int64  \n",
       "car                   0   object  \n",
       "car_type              0   object  \n",
       "decline_app_cnt       0    int64  \n",
       "good_work             0    int64  \n",
       "score_bki             0  float64  \n",
       "bki_request_cnt       0    int64  \n",
       "region_rating         0    int64  \n",
       "home_address          0    int64  \n",
       "work_address          0    int64  \n",
       "income                0    int64  \n",
       "sna                   0    int64  \n",
       "first_time            0    int64  \n",
       "foreign_passport      0   object  \n",
       "default           36349  float64  "
      ]
     },
     "execution_count": 6,
     "metadata": {},
     "output_type": "execute_result"
    }
   ],
   "source": [
    "# by Safaroff\n",
    "# Компактное представление всех данных\n",
    "d = pd.concat([data_train, data_test], ignore_index=True) # Для представления создаем отдельный df, объединяющий train и test\n",
    "# число уник значений, выод первых 10 уник значений, кол-во значений null, type\n",
    "d.agg({'nunique', lambda s: s.unique()[:10]})\\\n",
    " .append(pd.Series(d.isnull().sum(), name='null'))\\\n",
    " .append(pd.Series(d.dtypes, name='dtype'))\\\n",
    " .transpose()"
   ]
  },
  {
   "cell_type": "code",
   "execution_count": 7,
   "metadata": {
    "collapsed": true,
    "execution": {
     "iopub.execute_input": "2021-03-30T17:56:13.778254Z",
     "iopub.status.busy": "2021-03-30T17:56:13.777183Z",
     "iopub.status.idle": "2021-03-30T17:56:13.789020Z",
     "shell.execute_reply": "2021-03-30T17:56:13.789532Z"
    },
    "papermill": {
     "duration": 0.058035,
     "end_time": "2021-03-30T17:56:13.789701",
     "exception": false,
     "start_time": "2021-03-30T17:56:13.731666",
     "status": "completed"
    },
    "tags": []
   },
   "outputs": [
    {
     "data": {
      "text/html": [
       "<div>\n",
       "<style scoped>\n",
       "    .dataframe tbody tr th:only-of-type {\n",
       "        vertical-align: middle;\n",
       "    }\n",
       "\n",
       "    .dataframe tbody tr th {\n",
       "        vertical-align: top;\n",
       "    }\n",
       "\n",
       "    .dataframe thead th {\n",
       "        text-align: right;\n",
       "    }\n",
       "</style>\n",
       "<table border=\"1\" class=\"dataframe\">\n",
       "  <thead>\n",
       "    <tr style=\"text-align: right;\">\n",
       "      <th></th>\n",
       "      <th>client_id</th>\n",
       "      <th>app_date</th>\n",
       "      <th>education</th>\n",
       "      <th>sex</th>\n",
       "      <th>age</th>\n",
       "      <th>car</th>\n",
       "      <th>car_type</th>\n",
       "      <th>decline_app_cnt</th>\n",
       "      <th>good_work</th>\n",
       "      <th>score_bki</th>\n",
       "      <th>bki_request_cnt</th>\n",
       "      <th>region_rating</th>\n",
       "      <th>home_address</th>\n",
       "      <th>work_address</th>\n",
       "      <th>income</th>\n",
       "      <th>sna</th>\n",
       "      <th>first_time</th>\n",
       "      <th>foreign_passport</th>\n",
       "      <th>default</th>\n",
       "    </tr>\n",
       "  </thead>\n",
       "  <tbody>\n",
       "    <tr>\n",
       "      <th>0</th>\n",
       "      <td>25905</td>\n",
       "      <td>01FEB2014</td>\n",
       "      <td>SCH</td>\n",
       "      <td>M</td>\n",
       "      <td>62</td>\n",
       "      <td>Y</td>\n",
       "      <td>Y</td>\n",
       "      <td>0</td>\n",
       "      <td>0</td>\n",
       "      <td>-2.008753</td>\n",
       "      <td>1</td>\n",
       "      <td>50</td>\n",
       "      <td>1</td>\n",
       "      <td>2</td>\n",
       "      <td>18000</td>\n",
       "      <td>4</td>\n",
       "      <td>1</td>\n",
       "      <td>N</td>\n",
       "      <td>0</td>\n",
       "    </tr>\n",
       "    <tr>\n",
       "      <th>1</th>\n",
       "      <td>63161</td>\n",
       "      <td>12MAR2014</td>\n",
       "      <td>SCH</td>\n",
       "      <td>F</td>\n",
       "      <td>59</td>\n",
       "      <td>N</td>\n",
       "      <td>N</td>\n",
       "      <td>0</td>\n",
       "      <td>0</td>\n",
       "      <td>-1.532276</td>\n",
       "      <td>3</td>\n",
       "      <td>50</td>\n",
       "      <td>2</td>\n",
       "      <td>3</td>\n",
       "      <td>19000</td>\n",
       "      <td>4</td>\n",
       "      <td>1</td>\n",
       "      <td>N</td>\n",
       "      <td>0</td>\n",
       "    </tr>\n",
       "    <tr>\n",
       "      <th>2</th>\n",
       "      <td>25887</td>\n",
       "      <td>01FEB2014</td>\n",
       "      <td>SCH</td>\n",
       "      <td>M</td>\n",
       "      <td>25</td>\n",
       "      <td>Y</td>\n",
       "      <td>N</td>\n",
       "      <td>2</td>\n",
       "      <td>0</td>\n",
       "      <td>-1.408142</td>\n",
       "      <td>1</td>\n",
       "      <td>80</td>\n",
       "      <td>1</td>\n",
       "      <td>2</td>\n",
       "      <td>30000</td>\n",
       "      <td>1</td>\n",
       "      <td>4</td>\n",
       "      <td>Y</td>\n",
       "      <td>0</td>\n",
       "    </tr>\n",
       "    <tr>\n",
       "      <th>3</th>\n",
       "      <td>16222</td>\n",
       "      <td>23JAN2014</td>\n",
       "      <td>SCH</td>\n",
       "      <td>F</td>\n",
       "      <td>53</td>\n",
       "      <td>N</td>\n",
       "      <td>N</td>\n",
       "      <td>0</td>\n",
       "      <td>0</td>\n",
       "      <td>-2.057471</td>\n",
       "      <td>2</td>\n",
       "      <td>50</td>\n",
       "      <td>2</td>\n",
       "      <td>3</td>\n",
       "      <td>10000</td>\n",
       "      <td>1</td>\n",
       "      <td>3</td>\n",
       "      <td>N</td>\n",
       "      <td>0</td>\n",
       "    </tr>\n",
       "    <tr>\n",
       "      <th>4</th>\n",
       "      <td>101655</td>\n",
       "      <td>18APR2014</td>\n",
       "      <td>GRD</td>\n",
       "      <td>M</td>\n",
       "      <td>48</td>\n",
       "      <td>N</td>\n",
       "      <td>N</td>\n",
       "      <td>0</td>\n",
       "      <td>1</td>\n",
       "      <td>-1.244723</td>\n",
       "      <td>1</td>\n",
       "      <td>60</td>\n",
       "      <td>2</td>\n",
       "      <td>3</td>\n",
       "      <td>30000</td>\n",
       "      <td>1</td>\n",
       "      <td>4</td>\n",
       "      <td>Y</td>\n",
       "      <td>0</td>\n",
       "    </tr>\n",
       "  </tbody>\n",
       "</table>\n",
       "</div>"
      ],
      "text/plain": [
       "   client_id   app_date education sex  age car car_type  decline_app_cnt  \\\n",
       "0      25905  01FEB2014       SCH   M   62   Y        Y                0   \n",
       "1      63161  12MAR2014       SCH   F   59   N        N                0   \n",
       "2      25887  01FEB2014       SCH   M   25   Y        N                2   \n",
       "3      16222  23JAN2014       SCH   F   53   N        N                0   \n",
       "4     101655  18APR2014       GRD   M   48   N        N                0   \n",
       "\n",
       "   good_work  score_bki  bki_request_cnt  region_rating  home_address  \\\n",
       "0          0  -2.008753                1             50             1   \n",
       "1          0  -1.532276                3             50             2   \n",
       "2          0  -1.408142                1             80             1   \n",
       "3          0  -2.057471                2             50             2   \n",
       "4          1  -1.244723                1             60             2   \n",
       "\n",
       "   work_address  income  sna  first_time foreign_passport  default  \n",
       "0             2   18000    4           1                N        0  \n",
       "1             3   19000    4           1                N        0  \n",
       "2             2   30000    1           4                Y        0  \n",
       "3             3   10000    1           3                N        0  \n",
       "4             3   30000    1           4                Y        0  "
      ]
     },
     "execution_count": 7,
     "metadata": {},
     "output_type": "execute_result"
    }
   ],
   "source": [
    "data_train.head()"
   ]
  },
  {
   "cell_type": "code",
   "execution_count": 8,
   "metadata": {
    "collapsed": true,
    "execution": {
     "iopub.execute_input": "2021-03-30T17:56:13.866168Z",
     "iopub.status.busy": "2021-03-30T17:56:13.865559Z",
     "iopub.status.idle": "2021-03-30T17:56:13.901700Z",
     "shell.execute_reply": "2021-03-30T17:56:13.901193Z"
    },
    "papermill": {
     "duration": 0.07681,
     "end_time": "2021-03-30T17:56:13.901845",
     "exception": false,
     "start_time": "2021-03-30T17:56:13.825035",
     "status": "completed"
    },
    "tags": []
   },
   "outputs": [
    {
     "name": "stdout",
     "output_type": "stream",
     "text": [
      "<class 'pandas.core.frame.DataFrame'>\n",
      "RangeIndex: 73799 entries, 0 to 73798\n",
      "Data columns (total 19 columns):\n",
      " #   Column            Non-Null Count  Dtype  \n",
      "---  ------            --------------  -----  \n",
      " 0   client_id         73799 non-null  int64  \n",
      " 1   app_date          73799 non-null  object \n",
      " 2   education         73492 non-null  object \n",
      " 3   sex               73799 non-null  object \n",
      " 4   age               73799 non-null  int64  \n",
      " 5   car               73799 non-null  object \n",
      " 6   car_type          73799 non-null  object \n",
      " 7   decline_app_cnt   73799 non-null  int64  \n",
      " 8   good_work         73799 non-null  int64  \n",
      " 9   score_bki         73799 non-null  float64\n",
      " 10  bki_request_cnt   73799 non-null  int64  \n",
      " 11  region_rating     73799 non-null  int64  \n",
      " 12  home_address      73799 non-null  int64  \n",
      " 13  work_address      73799 non-null  int64  \n",
      " 14  income            73799 non-null  int64  \n",
      " 15  sna               73799 non-null  int64  \n",
      " 16  first_time        73799 non-null  int64  \n",
      " 17  foreign_passport  73799 non-null  object \n",
      " 18  default           73799 non-null  int64  \n",
      "dtypes: float64(1), int64(12), object(6)\n",
      "memory usage: 10.7+ MB\n"
     ]
    }
   ],
   "source": [
    "data_train.info()"
   ]
  },
  {
   "cell_type": "code",
   "execution_count": 9,
   "metadata": {
    "collapsed": true,
    "execution": {
     "iopub.execute_input": "2021-03-30T17:56:13.991545Z",
     "iopub.status.busy": "2021-03-30T17:56:13.990727Z",
     "iopub.status.idle": "2021-03-30T17:56:13.995615Z",
     "shell.execute_reply": "2021-03-30T17:56:13.994949Z"
    },
    "papermill": {
     "duration": 0.058435,
     "end_time": "2021-03-30T17:56:13.995778",
     "exception": false,
     "start_time": "2021-03-30T17:56:13.937343",
     "status": "completed"
    },
    "tags": []
   },
   "outputs": [
    {
     "data": {
      "text/html": [
       "<div>\n",
       "<style scoped>\n",
       "    .dataframe tbody tr th:only-of-type {\n",
       "        vertical-align: middle;\n",
       "    }\n",
       "\n",
       "    .dataframe tbody tr th {\n",
       "        vertical-align: top;\n",
       "    }\n",
       "\n",
       "    .dataframe thead th {\n",
       "        text-align: right;\n",
       "    }\n",
       "</style>\n",
       "<table border=\"1\" class=\"dataframe\">\n",
       "  <thead>\n",
       "    <tr style=\"text-align: right;\">\n",
       "      <th></th>\n",
       "      <th>client_id</th>\n",
       "      <th>app_date</th>\n",
       "      <th>education</th>\n",
       "      <th>sex</th>\n",
       "      <th>age</th>\n",
       "      <th>car</th>\n",
       "      <th>car_type</th>\n",
       "      <th>decline_app_cnt</th>\n",
       "      <th>good_work</th>\n",
       "      <th>score_bki</th>\n",
       "      <th>bki_request_cnt</th>\n",
       "      <th>region_rating</th>\n",
       "      <th>home_address</th>\n",
       "      <th>work_address</th>\n",
       "      <th>income</th>\n",
       "      <th>sna</th>\n",
       "      <th>first_time</th>\n",
       "      <th>foreign_passport</th>\n",
       "    </tr>\n",
       "  </thead>\n",
       "  <tbody>\n",
       "    <tr>\n",
       "      <th>0</th>\n",
       "      <td>74835</td>\n",
       "      <td>22MAR2014</td>\n",
       "      <td>GRD</td>\n",
       "      <td>M</td>\n",
       "      <td>29</td>\n",
       "      <td>Y</td>\n",
       "      <td>Y</td>\n",
       "      <td>0</td>\n",
       "      <td>0</td>\n",
       "      <td>-2.271884</td>\n",
       "      <td>3</td>\n",
       "      <td>50</td>\n",
       "      <td>1</td>\n",
       "      <td>2</td>\n",
       "      <td>50000</td>\n",
       "      <td>1</td>\n",
       "      <td>4</td>\n",
       "      <td>N</td>\n",
       "    </tr>\n",
       "    <tr>\n",
       "      <th>1</th>\n",
       "      <td>17527</td>\n",
       "      <td>24JAN2014</td>\n",
       "      <td>SCH</td>\n",
       "      <td>F</td>\n",
       "      <td>39</td>\n",
       "      <td>N</td>\n",
       "      <td>N</td>\n",
       "      <td>5</td>\n",
       "      <td>0</td>\n",
       "      <td>-1.504999</td>\n",
       "      <td>2</td>\n",
       "      <td>50</td>\n",
       "      <td>1</td>\n",
       "      <td>2</td>\n",
       "      <td>5000</td>\n",
       "      <td>4</td>\n",
       "      <td>3</td>\n",
       "      <td>N</td>\n",
       "    </tr>\n",
       "    <tr>\n",
       "      <th>2</th>\n",
       "      <td>75683</td>\n",
       "      <td>23MAR2014</td>\n",
       "      <td>UGR</td>\n",
       "      <td>M</td>\n",
       "      <td>50</td>\n",
       "      <td>Y</td>\n",
       "      <td>Y</td>\n",
       "      <td>0</td>\n",
       "      <td>0</td>\n",
       "      <td>-1.691339</td>\n",
       "      <td>1</td>\n",
       "      <td>50</td>\n",
       "      <td>1</td>\n",
       "      <td>2</td>\n",
       "      <td>30000</td>\n",
       "      <td>1</td>\n",
       "      <td>3</td>\n",
       "      <td>Y</td>\n",
       "    </tr>\n",
       "    <tr>\n",
       "      <th>3</th>\n",
       "      <td>26883</td>\n",
       "      <td>03FEB2014</td>\n",
       "      <td>SCH</td>\n",
       "      <td>M</td>\n",
       "      <td>56</td>\n",
       "      <td>N</td>\n",
       "      <td>N</td>\n",
       "      <td>0</td>\n",
       "      <td>0</td>\n",
       "      <td>-2.374182</td>\n",
       "      <td>1</td>\n",
       "      <td>40</td>\n",
       "      <td>1</td>\n",
       "      <td>2</td>\n",
       "      <td>17000</td>\n",
       "      <td>1</td>\n",
       "      <td>3</td>\n",
       "      <td>N</td>\n",
       "    </tr>\n",
       "    <tr>\n",
       "      <th>4</th>\n",
       "      <td>28862</td>\n",
       "      <td>04FEB2014</td>\n",
       "      <td>GRD</td>\n",
       "      <td>F</td>\n",
       "      <td>38</td>\n",
       "      <td>N</td>\n",
       "      <td>N</td>\n",
       "      <td>0</td>\n",
       "      <td>0</td>\n",
       "      <td>-2.487502</td>\n",
       "      <td>0</td>\n",
       "      <td>80</td>\n",
       "      <td>2</td>\n",
       "      <td>3</td>\n",
       "      <td>120000</td>\n",
       "      <td>1</td>\n",
       "      <td>3</td>\n",
       "      <td>N</td>\n",
       "    </tr>\n",
       "  </tbody>\n",
       "</table>\n",
       "</div>"
      ],
      "text/plain": [
       "   client_id   app_date education sex  age car car_type  decline_app_cnt  \\\n",
       "0      74835  22MAR2014       GRD   M   29   Y        Y                0   \n",
       "1      17527  24JAN2014       SCH   F   39   N        N                5   \n",
       "2      75683  23MAR2014       UGR   M   50   Y        Y                0   \n",
       "3      26883  03FEB2014       SCH   M   56   N        N                0   \n",
       "4      28862  04FEB2014       GRD   F   38   N        N                0   \n",
       "\n",
       "   good_work  score_bki  bki_request_cnt  region_rating  home_address  \\\n",
       "0          0  -2.271884                3             50             1   \n",
       "1          0  -1.504999                2             50             1   \n",
       "2          0  -1.691339                1             50             1   \n",
       "3          0  -2.374182                1             40             1   \n",
       "4          0  -2.487502                0             80             2   \n",
       "\n",
       "   work_address  income  sna  first_time foreign_passport  \n",
       "0             2   50000    1           4                N  \n",
       "1             2    5000    4           3                N  \n",
       "2             2   30000    1           3                Y  \n",
       "3             2   17000    1           3                N  \n",
       "4             3  120000    1           3                N  "
      ]
     },
     "execution_count": 9,
     "metadata": {},
     "output_type": "execute_result"
    }
   ],
   "source": [
    "data_test.head()"
   ]
  },
  {
   "cell_type": "code",
   "execution_count": 10,
   "metadata": {
    "collapsed": true,
    "execution": {
     "iopub.execute_input": "2021-03-30T17:56:14.083787Z",
     "iopub.status.busy": "2021-03-30T17:56:14.073147Z",
     "iopub.status.idle": "2021-03-30T17:56:14.097480Z",
     "shell.execute_reply": "2021-03-30T17:56:14.096609Z"
    },
    "papermill": {
     "duration": 0.065895,
     "end_time": "2021-03-30T17:56:14.097714",
     "exception": false,
     "start_time": "2021-03-30T17:56:14.031819",
     "status": "completed"
    },
    "tags": []
   },
   "outputs": [
    {
     "name": "stdout",
     "output_type": "stream",
     "text": [
      "<class 'pandas.core.frame.DataFrame'>\n",
      "RangeIndex: 36349 entries, 0 to 36348\n",
      "Data columns (total 18 columns):\n",
      " #   Column            Non-Null Count  Dtype  \n",
      "---  ------            --------------  -----  \n",
      " 0   client_id         36349 non-null  int64  \n",
      " 1   app_date          36349 non-null  object \n",
      " 2   education         36178 non-null  object \n",
      " 3   sex               36349 non-null  object \n",
      " 4   age               36349 non-null  int64  \n",
      " 5   car               36349 non-null  object \n",
      " 6   car_type          36349 non-null  object \n",
      " 7   decline_app_cnt   36349 non-null  int64  \n",
      " 8   good_work         36349 non-null  int64  \n",
      " 9   score_bki         36349 non-null  float64\n",
      " 10  bki_request_cnt   36349 non-null  int64  \n",
      " 11  region_rating     36349 non-null  int64  \n",
      " 12  home_address      36349 non-null  int64  \n",
      " 13  work_address      36349 non-null  int64  \n",
      " 14  income            36349 non-null  int64  \n",
      " 15  sna               36349 non-null  int64  \n",
      " 16  first_time        36349 non-null  int64  \n",
      " 17  foreign_passport  36349 non-null  object \n",
      "dtypes: float64(1), int64(11), object(6)\n",
      "memory usage: 5.0+ MB\n"
     ]
    }
   ],
   "source": [
    "data_test.info()"
   ]
  },
  {
   "cell_type": "markdown",
   "metadata": {
    "papermill": {
     "duration": 0.036305,
     "end_time": "2021-03-30T17:56:14.171407",
     "exception": false,
     "start_time": "2021-03-30T17:56:14.135102",
     "status": "completed"
    },
    "tags": []
   },
   "source": [
    "В обучающем датасете 19 признаков, в тестовом датасете нет переменной \"default\". Мы должны предсказать ее значение. \n",
    "\n",
    "Для корректной обработки признаков объединим датасеты train и test. Переменную \"default\" в тестовом датасете заполним предварительно нулями. Создадим новую переменную \"train\", где укажем, какие записи относятся к датасету data_train."
   ]
  },
  {
   "cell_type": "code",
   "execution_count": 11,
   "metadata": {
    "execution": {
     "iopub.execute_input": "2021-03-30T17:56:14.247892Z",
     "iopub.status.busy": "2021-03-30T17:56:14.247283Z",
     "iopub.status.idle": "2021-03-30T17:56:14.306932Z",
     "shell.execute_reply": "2021-03-30T17:56:14.307449Z"
    },
    "papermill": {
     "duration": 0.099613,
     "end_time": "2021-03-30T17:56:14.307626",
     "exception": false,
     "start_time": "2021-03-30T17:56:14.208013",
     "status": "completed"
    },
    "tags": []
   },
   "outputs": [],
   "source": [
    "data_test['default'] = 0 # заполняем переменную нулями в тестовом датасете\n",
    "data_test['train'] = 0 # указываем, что записи не принадлежат датасету train\n",
    "data_train['train'] = 1 # указываем, что записи принадлежат датасету train\n",
    "data = data_train.append(data_test, sort=False).reset_index(drop=True) # объединяем датасеты в один"
   ]
  },
  {
   "cell_type": "code",
   "execution_count": 12,
   "metadata": {
    "execution": {
     "iopub.execute_input": "2021-03-30T17:56:14.384712Z",
     "iopub.status.busy": "2021-03-30T17:56:14.384132Z",
     "iopub.status.idle": "2021-03-30T17:56:14.410899Z",
     "shell.execute_reply": "2021-03-30T17:56:14.411487Z"
    },
    "papermill": {
     "duration": 0.067126,
     "end_time": "2021-03-30T17:56:14.411675",
     "exception": false,
     "start_time": "2021-03-30T17:56:14.344549",
     "status": "completed"
    },
    "tags": []
   },
   "outputs": [
    {
     "data": {
      "text/html": [
       "<div>\n",
       "<style scoped>\n",
       "    .dataframe tbody tr th:only-of-type {\n",
       "        vertical-align: middle;\n",
       "    }\n",
       "\n",
       "    .dataframe tbody tr th {\n",
       "        vertical-align: top;\n",
       "    }\n",
       "\n",
       "    .dataframe thead th {\n",
       "        text-align: right;\n",
       "    }\n",
       "</style>\n",
       "<table border=\"1\" class=\"dataframe\">\n",
       "  <thead>\n",
       "    <tr style=\"text-align: right;\">\n",
       "      <th></th>\n",
       "      <th>client_id</th>\n",
       "      <th>app_date</th>\n",
       "      <th>education</th>\n",
       "      <th>sex</th>\n",
       "      <th>age</th>\n",
       "      <th>car</th>\n",
       "      <th>car_type</th>\n",
       "      <th>decline_app_cnt</th>\n",
       "      <th>good_work</th>\n",
       "      <th>score_bki</th>\n",
       "      <th>bki_request_cnt</th>\n",
       "      <th>region_rating</th>\n",
       "      <th>home_address</th>\n",
       "      <th>work_address</th>\n",
       "      <th>income</th>\n",
       "      <th>sna</th>\n",
       "      <th>first_time</th>\n",
       "      <th>foreign_passport</th>\n",
       "      <th>default</th>\n",
       "      <th>train</th>\n",
       "    </tr>\n",
       "  </thead>\n",
       "  <tbody>\n",
       "    <tr>\n",
       "      <th>0</th>\n",
       "      <td>25905</td>\n",
       "      <td>01FEB2014</td>\n",
       "      <td>SCH</td>\n",
       "      <td>M</td>\n",
       "      <td>62</td>\n",
       "      <td>Y</td>\n",
       "      <td>Y</td>\n",
       "      <td>0</td>\n",
       "      <td>0</td>\n",
       "      <td>-2.008753</td>\n",
       "      <td>1</td>\n",
       "      <td>50</td>\n",
       "      <td>1</td>\n",
       "      <td>2</td>\n",
       "      <td>18000</td>\n",
       "      <td>4</td>\n",
       "      <td>1</td>\n",
       "      <td>N</td>\n",
       "      <td>0</td>\n",
       "      <td>1</td>\n",
       "    </tr>\n",
       "    <tr>\n",
       "      <th>1</th>\n",
       "      <td>63161</td>\n",
       "      <td>12MAR2014</td>\n",
       "      <td>SCH</td>\n",
       "      <td>F</td>\n",
       "      <td>59</td>\n",
       "      <td>N</td>\n",
       "      <td>N</td>\n",
       "      <td>0</td>\n",
       "      <td>0</td>\n",
       "      <td>-1.532276</td>\n",
       "      <td>3</td>\n",
       "      <td>50</td>\n",
       "      <td>2</td>\n",
       "      <td>3</td>\n",
       "      <td>19000</td>\n",
       "      <td>4</td>\n",
       "      <td>1</td>\n",
       "      <td>N</td>\n",
       "      <td>0</td>\n",
       "      <td>1</td>\n",
       "    </tr>\n",
       "    <tr>\n",
       "      <th>2</th>\n",
       "      <td>25887</td>\n",
       "      <td>01FEB2014</td>\n",
       "      <td>SCH</td>\n",
       "      <td>M</td>\n",
       "      <td>25</td>\n",
       "      <td>Y</td>\n",
       "      <td>N</td>\n",
       "      <td>2</td>\n",
       "      <td>0</td>\n",
       "      <td>-1.408142</td>\n",
       "      <td>1</td>\n",
       "      <td>80</td>\n",
       "      <td>1</td>\n",
       "      <td>2</td>\n",
       "      <td>30000</td>\n",
       "      <td>1</td>\n",
       "      <td>4</td>\n",
       "      <td>Y</td>\n",
       "      <td>0</td>\n",
       "      <td>1</td>\n",
       "    </tr>\n",
       "    <tr>\n",
       "      <th>3</th>\n",
       "      <td>16222</td>\n",
       "      <td>23JAN2014</td>\n",
       "      <td>SCH</td>\n",
       "      <td>F</td>\n",
       "      <td>53</td>\n",
       "      <td>N</td>\n",
       "      <td>N</td>\n",
       "      <td>0</td>\n",
       "      <td>0</td>\n",
       "      <td>-2.057471</td>\n",
       "      <td>2</td>\n",
       "      <td>50</td>\n",
       "      <td>2</td>\n",
       "      <td>3</td>\n",
       "      <td>10000</td>\n",
       "      <td>1</td>\n",
       "      <td>3</td>\n",
       "      <td>N</td>\n",
       "      <td>0</td>\n",
       "      <td>1</td>\n",
       "    </tr>\n",
       "    <tr>\n",
       "      <th>4</th>\n",
       "      <td>101655</td>\n",
       "      <td>18APR2014</td>\n",
       "      <td>GRD</td>\n",
       "      <td>M</td>\n",
       "      <td>48</td>\n",
       "      <td>N</td>\n",
       "      <td>N</td>\n",
       "      <td>0</td>\n",
       "      <td>1</td>\n",
       "      <td>-1.244723</td>\n",
       "      <td>1</td>\n",
       "      <td>60</td>\n",
       "      <td>2</td>\n",
       "      <td>3</td>\n",
       "      <td>30000</td>\n",
       "      <td>1</td>\n",
       "      <td>4</td>\n",
       "      <td>Y</td>\n",
       "      <td>0</td>\n",
       "      <td>1</td>\n",
       "    </tr>\n",
       "    <tr>\n",
       "      <th>...</th>\n",
       "      <td>...</td>\n",
       "      <td>...</td>\n",
       "      <td>...</td>\n",
       "      <td>...</td>\n",
       "      <td>...</td>\n",
       "      <td>...</td>\n",
       "      <td>...</td>\n",
       "      <td>...</td>\n",
       "      <td>...</td>\n",
       "      <td>...</td>\n",
       "      <td>...</td>\n",
       "      <td>...</td>\n",
       "      <td>...</td>\n",
       "      <td>...</td>\n",
       "      <td>...</td>\n",
       "      <td>...</td>\n",
       "      <td>...</td>\n",
       "      <td>...</td>\n",
       "      <td>...</td>\n",
       "      <td>...</td>\n",
       "    </tr>\n",
       "    <tr>\n",
       "      <th>110143</th>\n",
       "      <td>83775</td>\n",
       "      <td>31MAR2014</td>\n",
       "      <td>SCH</td>\n",
       "      <td>F</td>\n",
       "      <td>37</td>\n",
       "      <td>N</td>\n",
       "      <td>N</td>\n",
       "      <td>1</td>\n",
       "      <td>0</td>\n",
       "      <td>-1.744976</td>\n",
       "      <td>3</td>\n",
       "      <td>50</td>\n",
       "      <td>2</td>\n",
       "      <td>3</td>\n",
       "      <td>15000</td>\n",
       "      <td>4</td>\n",
       "      <td>1</td>\n",
       "      <td>N</td>\n",
       "      <td>0</td>\n",
       "      <td>0</td>\n",
       "    </tr>\n",
       "    <tr>\n",
       "      <th>110144</th>\n",
       "      <td>106254</td>\n",
       "      <td>25APR2014</td>\n",
       "      <td>GRD</td>\n",
       "      <td>F</td>\n",
       "      <td>64</td>\n",
       "      <td>Y</td>\n",
       "      <td>Y</td>\n",
       "      <td>0</td>\n",
       "      <td>0</td>\n",
       "      <td>-2.293781</td>\n",
       "      <td>3</td>\n",
       "      <td>60</td>\n",
       "      <td>1</td>\n",
       "      <td>2</td>\n",
       "      <td>200000</td>\n",
       "      <td>1</td>\n",
       "      <td>4</td>\n",
       "      <td>N</td>\n",
       "      <td>0</td>\n",
       "      <td>0</td>\n",
       "    </tr>\n",
       "    <tr>\n",
       "      <th>110145</th>\n",
       "      <td>81852</td>\n",
       "      <td>30MAR2014</td>\n",
       "      <td>GRD</td>\n",
       "      <td>M</td>\n",
       "      <td>31</td>\n",
       "      <td>N</td>\n",
       "      <td>N</td>\n",
       "      <td>2</td>\n",
       "      <td>0</td>\n",
       "      <td>-0.940752</td>\n",
       "      <td>1</td>\n",
       "      <td>50</td>\n",
       "      <td>1</td>\n",
       "      <td>2</td>\n",
       "      <td>60000</td>\n",
       "      <td>4</td>\n",
       "      <td>2</td>\n",
       "      <td>N</td>\n",
       "      <td>0</td>\n",
       "      <td>0</td>\n",
       "    </tr>\n",
       "    <tr>\n",
       "      <th>110146</th>\n",
       "      <td>1971</td>\n",
       "      <td>07JAN2014</td>\n",
       "      <td>UGR</td>\n",
       "      <td>F</td>\n",
       "      <td>27</td>\n",
       "      <td>N</td>\n",
       "      <td>N</td>\n",
       "      <td>1</td>\n",
       "      <td>0</td>\n",
       "      <td>-1.242392</td>\n",
       "      <td>2</td>\n",
       "      <td>80</td>\n",
       "      <td>2</td>\n",
       "      <td>3</td>\n",
       "      <td>30000</td>\n",
       "      <td>1</td>\n",
       "      <td>1</td>\n",
       "      <td>N</td>\n",
       "      <td>0</td>\n",
       "      <td>0</td>\n",
       "    </tr>\n",
       "    <tr>\n",
       "      <th>110147</th>\n",
       "      <td>69044</td>\n",
       "      <td>17MAR2014</td>\n",
       "      <td>SCH</td>\n",
       "      <td>M</td>\n",
       "      <td>38</td>\n",
       "      <td>N</td>\n",
       "      <td>N</td>\n",
       "      <td>0</td>\n",
       "      <td>0</td>\n",
       "      <td>-1.507549</td>\n",
       "      <td>2</td>\n",
       "      <td>50</td>\n",
       "      <td>1</td>\n",
       "      <td>2</td>\n",
       "      <td>15000</td>\n",
       "      <td>4</td>\n",
       "      <td>2</td>\n",
       "      <td>N</td>\n",
       "      <td>0</td>\n",
       "      <td>0</td>\n",
       "    </tr>\n",
       "  </tbody>\n",
       "</table>\n",
       "<p>110148 rows × 20 columns</p>\n",
       "</div>"
      ],
      "text/plain": [
       "        client_id   app_date education sex  age car car_type  decline_app_cnt  \\\n",
       "0           25905  01FEB2014       SCH   M   62   Y        Y                0   \n",
       "1           63161  12MAR2014       SCH   F   59   N        N                0   \n",
       "2           25887  01FEB2014       SCH   M   25   Y        N                2   \n",
       "3           16222  23JAN2014       SCH   F   53   N        N                0   \n",
       "4          101655  18APR2014       GRD   M   48   N        N                0   \n",
       "...           ...        ...       ...  ..  ...  ..      ...              ...   \n",
       "110143      83775  31MAR2014       SCH   F   37   N        N                1   \n",
       "110144     106254  25APR2014       GRD   F   64   Y        Y                0   \n",
       "110145      81852  30MAR2014       GRD   M   31   N        N                2   \n",
       "110146       1971  07JAN2014       UGR   F   27   N        N                1   \n",
       "110147      69044  17MAR2014       SCH   M   38   N        N                0   \n",
       "\n",
       "        good_work  score_bki  bki_request_cnt  region_rating  home_address  \\\n",
       "0               0  -2.008753                1             50             1   \n",
       "1               0  -1.532276                3             50             2   \n",
       "2               0  -1.408142                1             80             1   \n",
       "3               0  -2.057471                2             50             2   \n",
       "4               1  -1.244723                1             60             2   \n",
       "...           ...        ...              ...            ...           ...   \n",
       "110143          0  -1.744976                3             50             2   \n",
       "110144          0  -2.293781                3             60             1   \n",
       "110145          0  -0.940752                1             50             1   \n",
       "110146          0  -1.242392                2             80             2   \n",
       "110147          0  -1.507549                2             50             1   \n",
       "\n",
       "        work_address  income  sna  first_time foreign_passport  default  train  \n",
       "0                  2   18000    4           1                N        0      1  \n",
       "1                  3   19000    4           1                N        0      1  \n",
       "2                  2   30000    1           4                Y        0      1  \n",
       "3                  3   10000    1           3                N        0      1  \n",
       "4                  3   30000    1           4                Y        0      1  \n",
       "...              ...     ...  ...         ...              ...      ...    ...  \n",
       "110143             3   15000    4           1                N        0      0  \n",
       "110144             2  200000    1           4                N        0      0  \n",
       "110145             2   60000    4           2                N        0      0  \n",
       "110146             3   30000    1           1                N        0      0  \n",
       "110147             2   15000    4           2                N        0      0  \n",
       "\n",
       "[110148 rows x 20 columns]"
      ]
     },
     "metadata": {},
     "output_type": "display_data"
    }
   ],
   "source": [
    "display(data)"
   ]
  },
  {
   "cell_type": "code",
   "execution_count": 13,
   "metadata": {
    "execution": {
     "iopub.execute_input": "2021-03-30T17:56:14.490534Z",
     "iopub.status.busy": "2021-03-30T17:56:14.489817Z",
     "iopub.status.idle": "2021-03-30T17:56:14.535588Z",
     "shell.execute_reply": "2021-03-30T17:56:14.536063Z"
    },
    "papermill": {
     "duration": 0.086978,
     "end_time": "2021-03-30T17:56:14.536251",
     "exception": false,
     "start_time": "2021-03-30T17:56:14.449273",
     "status": "completed"
    },
    "tags": []
   },
   "outputs": [
    {
     "name": "stdout",
     "output_type": "stream",
     "text": [
      "<class 'pandas.core.frame.DataFrame'>\n",
      "RangeIndex: 110148 entries, 0 to 110147\n",
      "Data columns (total 20 columns):\n",
      " #   Column            Non-Null Count   Dtype  \n",
      "---  ------            --------------   -----  \n",
      " 0   client_id         110148 non-null  int64  \n",
      " 1   app_date          110148 non-null  object \n",
      " 2   education         109670 non-null  object \n",
      " 3   sex               110148 non-null  object \n",
      " 4   age               110148 non-null  int64  \n",
      " 5   car               110148 non-null  object \n",
      " 6   car_type          110148 non-null  object \n",
      " 7   decline_app_cnt   110148 non-null  int64  \n",
      " 8   good_work         110148 non-null  int64  \n",
      " 9   score_bki         110148 non-null  float64\n",
      " 10  bki_request_cnt   110148 non-null  int64  \n",
      " 11  region_rating     110148 non-null  int64  \n",
      " 12  home_address      110148 non-null  int64  \n",
      " 13  work_address      110148 non-null  int64  \n",
      " 14  income            110148 non-null  int64  \n",
      " 15  sna               110148 non-null  int64  \n",
      " 16  first_time        110148 non-null  int64  \n",
      " 17  foreign_passport  110148 non-null  object \n",
      " 18  default           110148 non-null  int64  \n",
      " 19  train             110148 non-null  int64  \n",
      "dtypes: float64(1), int64(13), object(6)\n",
      "memory usage: 16.8+ MB\n"
     ]
    }
   ],
   "source": [
    "data.info()"
   ]
  },
  {
   "cell_type": "code",
   "execution_count": 14,
   "metadata": {
    "collapsed": true,
    "execution": {
     "iopub.execute_input": "2021-03-30T17:56:14.617589Z",
     "iopub.status.busy": "2021-03-30T17:56:14.616606Z",
     "iopub.status.idle": "2021-03-30T17:56:14.657813Z",
     "shell.execute_reply": "2021-03-30T17:56:14.657329Z"
    },
    "papermill": {
     "duration": 0.083787,
     "end_time": "2021-03-30T17:56:14.657959",
     "exception": false,
     "start_time": "2021-03-30T17:56:14.574172",
     "status": "completed"
    },
    "tags": []
   },
   "outputs": [
    {
     "data": {
      "text/plain": [
       "client_id             0\n",
       "app_date              0\n",
       "education           478\n",
       "sex                   0\n",
       "age                   0\n",
       "car                   0\n",
       "car_type              0\n",
       "decline_app_cnt       0\n",
       "good_work             0\n",
       "score_bki             0\n",
       "bki_request_cnt       0\n",
       "region_rating         0\n",
       "home_address          0\n",
       "work_address          0\n",
       "income                0\n",
       "sna                   0\n",
       "first_time            0\n",
       "foreign_passport      0\n",
       "default               0\n",
       "train                 0\n",
       "dtype: int64"
      ]
     },
     "execution_count": 14,
     "metadata": {},
     "output_type": "execute_result"
    }
   ],
   "source": [
    "data.isnull().sum()"
   ]
  },
  {
   "cell_type": "markdown",
   "metadata": {
    "papermill": {
     "duration": 0.038204,
     "end_time": "2021-03-30T17:56:14.734378",
     "exception": false,
     "start_time": "2021-03-30T17:56:14.696174",
     "status": "completed"
    },
    "tags": []
   },
   "source": [
    "Пропуски есть только в столбце \"education\"."
   ]
  },
  {
   "cell_type": "code",
   "execution_count": 15,
   "metadata": {
    "execution": {
     "iopub.execute_input": "2021-03-30T17:56:14.816775Z",
     "iopub.status.busy": "2021-03-30T17:56:14.816180Z",
     "iopub.status.idle": "2021-03-30T17:56:14.962225Z",
     "shell.execute_reply": "2021-03-30T17:56:14.961715Z"
    },
    "papermill": {
     "duration": 0.189659,
     "end_time": "2021-03-30T17:56:14.962377",
     "exception": false,
     "start_time": "2021-03-30T17:56:14.772718",
     "status": "completed"
    },
    "tags": []
   },
   "outputs": [
    {
     "data": {
      "text/plain": [
       "<AxesSubplot:xlabel='default', ylabel='count'>"
      ]
     },
     "execution_count": 15,
     "metadata": {},
     "output_type": "execute_result"
    },
    {
     "data": {
      "image/png": "[encoded data removed]",
      "text/plain": [
       "<Figure size 432x288 with 1 Axes>"
      ]
     },
     "metadata": {
      "needs_background": "light"
     },
     "output_type": "display_data"
    }
   ],
   "source": [
    "# Посмотрим распределение целевой переменной в тренировочном датасете\n",
    "sns.countplot(x='default', data=data_train)"
   ]
  },
  {
   "cell_type": "markdown",
   "metadata": {
    "papermill": {
     "duration": 0.038956,
     "end_time": "2021-03-30T17:56:15.040707",
     "exception": false,
     "start_time": "2021-03-30T17:56:15.001751",
     "status": "completed"
    },
    "tags": []
   },
   "source": [
    "Распределение неравномерное, необходимо учитывать это при выборе модели и метрик."
   ]
  },
  {
   "cell_type": "code",
   "execution_count": 16,
   "metadata": {
    "execution": {
     "iopub.execute_input": "2021-03-30T17:56:15.124655Z",
     "iopub.status.busy": "2021-03-30T17:56:15.123999Z",
     "iopub.status.idle": "2021-03-30T17:56:15.568987Z",
     "shell.execute_reply": "2021-03-30T17:56:15.568404Z"
    },
    "papermill": {
     "duration": 0.489343,
     "end_time": "2021-03-30T17:56:15.569152",
     "exception": false,
     "start_time": "2021-03-30T17:56:15.079809",
     "status": "completed"
    },
    "tags": []
   },
   "outputs": [
    {
     "data": {
      "text/plain": [
       "<AxesSubplot:>"
      ]
     },
     "execution_count": 16,
     "metadata": {},
     "output_type": "execute_result"
    },
    {
     "data": {
      "image/png": "[encoded data removed]",
      "text/plain": [
       "<Figure size 720x576 with 2 Axes>"
      ]
     },
     "metadata": {
      "needs_background": "light"
     },
     "output_type": "display_data"
    }
   ],
   "source": [
    "# Посмотрим поверхностно на корреляции признаков\n",
    "plt.rcParams['figure.figsize'] = (10, 8)\n",
    "correlation = data.corr()\n",
    "sns.heatmap(correlation, cmap='coolwarm')"
   ]
  },
  {
   "cell_type": "markdown",
   "metadata": {
    "papermill": {
     "duration": 0.040068,
     "end_time": "2021-03-30T17:56:15.649867",
     "exception": false,
     "start_time": "2021-03-30T17:56:15.609799",
     "status": "completed"
    },
    "tags": []
   },
   "source": [
    "Между домашним и рабочим адресом довольно сильная корреляция, позже сгенерируем из двух признаков один. Довольно сильная отрицательная корреляция между признаками \"firts_time\" и \"sna\". Но, так как не очень понятен механизм присвоения категорий по этим признакам, оставим оба признака."
   ]
  },
  {
   "cell_type": "markdown",
   "metadata": {
    "papermill": {
     "duration": 0.039932,
     "end_time": "2021-03-30T17:56:15.730279",
     "exception": false,
     "start_time": "2021-03-30T17:56:15.690347",
     "status": "completed"
    },
    "tags": []
   },
   "source": [
    "## Обработка пропусков"
   ]
  },
  {
   "cell_type": "code",
   "execution_count": 17,
   "metadata": {
    "execution": {
     "iopub.execute_input": "2021-03-30T17:56:15.829583Z",
     "iopub.status.busy": "2021-03-30T17:56:15.828877Z",
     "iopub.status.idle": "2021-03-30T17:56:15.833138Z",
     "shell.execute_reply": "2021-03-30T17:56:15.832546Z"
    },
    "papermill": {
     "duration": 0.061893,
     "end_time": "2021-03-30T17:56:15.833286",
     "exception": false,
     "start_time": "2021-03-30T17:56:15.771393",
     "status": "completed"
    },
    "tags": []
   },
   "outputs": [
    {
     "data": {
      "text/plain": [
       "SCH    57998\n",
       "GRD    34768\n",
       "UGR    14748\n",
       "PGR     1865\n",
       "ACD      291\n",
       "Name: education, dtype: int64"
      ]
     },
     "execution_count": 17,
     "metadata": {},
     "output_type": "execute_result"
    }
   ],
   "source": [
    "# Пропуски встречаются только в информации об образовании клиентов. Посмотрим на признак ближе\n",
    "data.education.value_counts()"
   ]
  },
  {
   "cell_type": "code",
   "execution_count": 18,
   "metadata": {
    "execution": {
     "iopub.execute_input": "2021-03-30T17:56:15.946469Z",
     "iopub.status.busy": "2021-03-30T17:56:15.945793Z",
     "iopub.status.idle": "2021-03-30T17:56:15.969781Z",
     "shell.execute_reply": "2021-03-30T17:56:15.970306Z"
    },
    "papermill": {
     "duration": 0.096129,
     "end_time": "2021-03-30T17:56:15.970481",
     "exception": false,
     "start_time": "2021-03-30T17:56:15.874352",
     "status": "completed"
    },
    "tags": []
   },
   "outputs": [],
   "source": [
    "# by Safaroff \n",
    "# Предлагаю заполнить пропуск по частоте встречаемости каждого значения\n",
    "# Проверяю частоту встречиаемости образования, поделив ее на общее число, чтобы выявить пропорцию. \n",
    "# Далее домножаю на 10000 для наглядности\n",
    "sum = data['education'].value_counts().sum()\n",
    "ed_dict = dict(data['education'].value_counts()/sum*10000)\n",
    "\n",
    "# Создаю шкалу вероятности, чтобы генерить с помощью RANDINT число (в диапозоне этой шкалы)\n",
    "# Образование берем из ключа и заполняем пробел в образовании (пока, без фиксации seed)\n",
    "summ = 0\n",
    "for key in ed_dict:\n",
    "    ed_dict[key] += summ\n",
    "    summ = ed_dict[key]\n",
    "    \n",
    "# будем RANDINTом генерить число от 1 до 10000. Куда попадем, то значение и берем\n",
    "import random\n",
    "\n",
    "def getter_Education(option=1):\n",
    "    if option==0: # заполнить пропуск самым частым значенияем\n",
    "        return data['education'].value_counts().index[0]\n",
    "    else: # заполнить пропуск по частоте встречаемости каждого значения\n",
    "        rnd = random.randint(1,10000)\n",
    "        for key, value in ed_dict.items():\n",
    "            if rnd > value:\n",
    "                continue\n",
    "            else:\n",
    "                return key"
   ]
  },
  {
   "cell_type": "code",
   "execution_count": 19,
   "metadata": {
    "execution": {
     "iopub.execute_input": "2021-03-30T17:56:16.055385Z",
     "iopub.status.busy": "2021-03-30T17:56:16.054705Z",
     "iopub.status.idle": "2021-03-30T17:56:16.064801Z",
     "shell.execute_reply": "2021-03-30T17:56:16.065442Z"
    },
    "papermill": {
     "duration": 0.054031,
     "end_time": "2021-03-30T17:56:16.065635",
     "exception": false,
     "start_time": "2021-03-30T17:56:16.011604",
     "status": "completed"
    },
    "tags": []
   },
   "outputs": [],
   "source": [
    "# by Safaroff. \n",
    "# data.education.fillna(data.education.value_counts().index[0], inplace=True)\n",
    "# Заполняем пропуски в образовании c помощью функции с параметром:\n",
    "# 0-самое часто используемое образование, 1 - в соответсвии с вероятностями исходя из существующего распределения\n",
    "data['education'].fillna(value=getter_Education(1), inplace=True)"
   ]
  },
  {
   "cell_type": "markdown",
   "metadata": {
    "papermill": {
     "duration": 0.040884,
     "end_time": "2021-03-30T17:56:16.148235",
     "exception": false,
     "start_time": "2021-03-30T17:56:16.107351",
     "status": "completed"
    },
    "tags": []
   },
   "source": [
    "# Exploratory data analysis"
   ]
  },
  {
   "cell_type": "code",
   "execution_count": 20,
   "metadata": {
    "collapsed": true,
    "execution": {
     "iopub.execute_input": "2021-03-30T17:56:16.233877Z",
     "iopub.status.busy": "2021-03-30T17:56:16.233231Z",
     "iopub.status.idle": "2021-03-30T17:56:16.345180Z",
     "shell.execute_reply": "2021-03-30T17:56:16.344390Z"
    },
    "papermill": {
     "duration": 0.155796,
     "end_time": "2021-03-30T17:56:16.345340",
     "exception": false,
     "start_time": "2021-03-30T17:56:16.189544",
     "status": "completed"
    },
    "tags": []
   },
   "outputs": [
    {
     "data": {
      "text/plain": [
       "client_id           110148\n",
       "app_date               120\n",
       "education                5\n",
       "sex                      2\n",
       "age                     52\n",
       "car                      2\n",
       "car_type                 2\n",
       "decline_app_cnt         24\n",
       "good_work                2\n",
       "score_bki           102618\n",
       "bki_request_cnt         40\n",
       "region_rating            7\n",
       "home_address             3\n",
       "work_address             3\n",
       "income                1207\n",
       "sna                      4\n",
       "first_time               4\n",
       "foreign_passport         2\n",
       "default                  2\n",
       "train                    2\n",
       "dtype: int64"
      ]
     },
     "execution_count": 20,
     "metadata": {},
     "output_type": "execute_result"
    }
   ],
   "source": [
    "# посмотрим количество уникальных значений в каждой переменной датасета\n",
    "data.nunique()"
   ]
  },
  {
   "cell_type": "code",
   "execution_count": 21,
   "metadata": {
    "execution": {
     "iopub.execute_input": "2021-03-30T17:56:16.432400Z",
     "iopub.status.busy": "2021-03-30T17:56:16.431468Z",
     "iopub.status.idle": "2021-03-30T17:56:16.436165Z",
     "shell.execute_reply": "2021-03-30T17:56:16.436641Z"
    },
    "papermill": {
     "duration": 0.04989,
     "end_time": "2021-03-30T17:56:16.436817",
     "exception": false,
     "start_time": "2021-03-30T17:56:16.386927",
     "status": "completed"
    },
    "tags": []
   },
   "outputs": [],
   "source": [
    "# Распределим переменные по типу, client_id, default и train не учитываем\n",
    "\n",
    "time_cols = ['app_date']\n",
    "bin_cols = ['sex', 'car', 'car_type', 'good_work', 'foreign_passport']\n",
    "cat_cols = ['education', 'home_address', 'work_address', 'sna', 'first_time']\n",
    "num_cols = ['age', 'decline_app_cnt', 'score_bki',\n",
    "            'bki_request_cnt', 'region_rating', 'income']"
   ]
  },
  {
   "cell_type": "markdown",
   "metadata": {
    "papermill": {
     "duration": 0.042839,
     "end_time": "2021-03-30T17:56:16.521243",
     "exception": false,
     "start_time": "2021-03-30T17:56:16.478404",
     "status": "completed"
    },
    "tags": []
   },
   "source": [
    "## App_date"
   ]
  },
  {
   "cell_type": "code",
   "execution_count": 22,
   "metadata": {
    "execution": {
     "iopub.execute_input": "2021-03-30T17:56:16.607991Z",
     "iopub.status.busy": "2021-03-30T17:56:16.607097Z",
     "iopub.status.idle": "2021-03-30T17:56:16.638626Z",
     "shell.execute_reply": "2021-03-30T17:56:16.637945Z"
    },
    "papermill": {
     "duration": 0.075934,
     "end_time": "2021-03-30T17:56:16.638772",
     "exception": false,
     "start_time": "2021-03-30T17:56:16.562838",
     "status": "completed"
    },
    "tags": []
   },
   "outputs": [
    {
     "name": "stdout",
     "output_type": "stream",
     "text": [
      "2014-01-01 00:00:00 2014-04-30 00:00:00\n"
     ]
    }
   ],
   "source": [
    "# Преобразуем формат даты\n",
    "data.app_date = pd.to_datetime(data.app_date, format='%d%b%Y')\n",
    "\n",
    "# Определим, за какой период у нас есть наблюдения\n",
    "start = data.app_date.min()\n",
    "end = data.app_date.max()\n",
    "print(start, end)"
   ]
  },
  {
   "cell_type": "markdown",
   "metadata": {
    "papermill": {
     "duration": 0.0416,
     "end_time": "2021-03-30T17:56:16.723031",
     "exception": false,
     "start_time": "2021-03-30T17:56:16.681431",
     "status": "completed"
    },
    "tags": []
   },
   "source": [
    "Получили, что у нас есть данные с 1 января по 30 апреля 2014 года."
   ]
  },
  {
   "cell_type": "markdown",
   "metadata": {
    "papermill": {
     "duration": 0.04215,
     "end_time": "2021-03-30T17:56:16.807834",
     "exception": false,
     "start_time": "2021-03-30T17:56:16.765684",
     "status": "completed"
    },
    "tags": []
   },
   "source": [
    "## Числовые переменные"
   ]
  },
  {
   "cell_type": "code",
   "execution_count": 23,
   "metadata": {
    "execution": {
     "iopub.execute_input": "2021-03-30T17:56:16.914742Z",
     "iopub.status.busy": "2021-03-30T17:56:16.903362Z",
     "iopub.status.idle": "2021-03-30T17:56:18.157442Z",
     "shell.execute_reply": "2021-03-30T17:56:18.157918Z"
    },
    "papermill": {
     "duration": 1.308563,
     "end_time": "2021-03-30T17:56:18.158209",
     "exception": false,
     "start_time": "2021-03-30T17:56:16.849646",
     "status": "completed"
    },
    "tags": []
   },
   "outputs": [
    {
     "data": {
      "image/png": "[encoded data removed]",
      "text/plain": [
       "<Figure size 936x576 with 6 Axes>"
      ]
     },
     "metadata": {
      "needs_background": "light"
     },
     "output_type": "display_data"
    }
   ],
   "source": [
    "# Посмотрим распределение числовых переменных\n",
    "\n",
    "fig, axes = plt.subplots(3, 2, figsize=(13, 8))\n",
    "\n",
    "axes[0][0].hist(data['age'], bins=50)\n",
    "axes[0][0].set_xlabel('age')\n",
    "axes[0][0].set_ylabel('Number')\n",
    "axes[0][0].set_title('Age')\n",
    "\n",
    "axes[0][1].hist(data['decline_app_cnt'], bins=50)\n",
    "axes[0][1].set_xlabel('decline_app_cnt')\n",
    "axes[0][1].set_ylabel('Number')\n",
    "axes[0][1].set_title('Decline_app_cnt')\n",
    "\n",
    "axes[1][0].hist(data['bki_request_cnt'], bins=50)\n",
    "axes[1][0].set_xlabel('bki_request_cnt')\n",
    "axes[1][0].set_ylabel('Number')\n",
    "axes[1][0].set_title('Bki_request_cnt')\n",
    "\n",
    "axes[1][1].hist(data['income'], bins=50)\n",
    "axes[1][1].set_xlabel('income')\n",
    "axes[1][1].set_ylabel('Number')\n",
    "axes[1][1].set_title('Income')\n",
    "\n",
    "axes[2][0].hist(data['score_bki'], bins=50)\n",
    "axes[2][0].set_xlabel('score_bki')\n",
    "axes[2][0].set_ylabel('Number')\n",
    "axes[2][0].set_title('Score_bki')\n",
    "\n",
    "\"\"\"\n",
    "axes[2][1].hist(data['region_rating'], bins=50)\n",
    "axes[2][1].set_xlabel('region_rating')\n",
    "axes[2][1].set_ylabel('Number')\n",
    "axes[2][1].set_title('Region_rating') \n",
    "\"\"\"\n",
    "\n",
    "fig.tight_layout()"
   ]
  },
  {
   "cell_type": "markdown",
   "metadata": {
    "papermill": {
     "duration": 0.042791,
     "end_time": "2021-03-30T17:56:18.245271",
     "exception": false,
     "start_time": "2021-03-30T17:56:18.202480",
     "status": "completed"
    },
    "tags": []
   },
   "source": [
    "После построения гистограмм стало очевидно, что распределения всех числовых переменных age, decline_app_cnt, decline_app_cnt, income имеют тяжёлый правый хвост. Логарифмируем переменные и построим графики распределения. Score_bki оставим, как есть"
   ]
  },
  {
   "cell_type": "code",
   "execution_count": 24,
   "metadata": {
    "execution": {
     "iopub.execute_input": "2021-03-30T17:56:18.352759Z",
     "iopub.status.busy": "2021-03-30T17:56:18.341672Z",
     "iopub.status.idle": "2021-03-30T17:56:19.981391Z",
     "shell.execute_reply": "2021-03-30T17:56:19.980747Z"
    },
    "papermill": {
     "duration": 1.693159,
     "end_time": "2021-03-30T17:56:19.981565",
     "exception": false,
     "start_time": "2021-03-30T17:56:18.288406",
     "status": "completed"
    },
    "tags": []
   },
   "outputs": [
    {
     "data": {
      "image/png": "[encoded data removed]",
      "text/plain": [
       "<Figure size 720x576 with 1 Axes>"
      ]
     },
     "metadata": {
      "needs_background": "light"
     },
     "output_type": "display_data"
    },
    {
     "data": {
      "image/png": "[encoded data removed]",
      "text/plain": [
       "<Figure size 720x576 with 1 Axes>"
      ]
     },
     "metadata": {
      "needs_background": "light"
     },
     "output_type": "display_data"
    },
    {
     "data": {
      "image/png": "[encoded data removed]",
      "text/plain": [
       "<Figure size 720x576 with 1 Axes>"
      ]
     },
     "metadata": {
      "needs_background": "light"
     },
     "output_type": "display_data"
    },
    {
     "data": {
      "image/png": "[encoded data removed]",
      "text/plain": [
       "<Figure size 720x576 with 1 Axes>"
      ]
     },
     "metadata": {
      "needs_background": "light"
     },
     "output_type": "display_data"
    }
   ],
   "source": [
    "num_cols = ['age', 'decline_app_cnt',\n",
    "            'bki_request_cnt', 'income'] # 'region_rating', \n",
    "for i in num_cols:\n",
    "    data[i] = data[i].apply(lambda w: np.log(w + 1))\n",
    "\n",
    "for i in num_cols:\n",
    "    plt.figure()\n",
    "    sns.distplot(data[i][data[i] > 0].dropna(), kde=False, rug=False)\n",
    "    plt.title(i)\n",
    "    plt.show()"
   ]
  },
  {
   "cell_type": "markdown",
   "metadata": {
    "papermill": {
     "duration": 0.0474,
     "end_time": "2021-03-30T17:56:20.078221",
     "exception": false,
     "start_time": "2021-03-30T17:56:20.030821",
     "status": "completed"
    },
    "tags": []
   },
   "source": [
    "Посмотрим распределение числовых переменных в разных группах по дефолту"
   ]
  },
  {
   "cell_type": "code",
   "execution_count": 25,
   "metadata": {
    "execution": {
     "iopub.execute_input": "2021-03-30T17:56:20.181177Z",
     "iopub.status.busy": "2021-03-30T17:56:20.180558Z",
     "iopub.status.idle": "2021-03-30T17:56:20.770527Z",
     "shell.execute_reply": "2021-03-30T17:56:20.770977Z"
    },
    "papermill": {
     "duration": 0.643733,
     "end_time": "2021-03-30T17:56:20.771165",
     "exception": false,
     "start_time": "2021-03-30T17:56:20.127432",
     "status": "completed"
    },
    "tags": []
   },
   "outputs": [
    {
     "data": {
      "image/png": "[encoded data removed]",
      "text/plain": [
       "<Figure size 432x288 with 1 Axes>"
      ]
     },
     "metadata": {
      "needs_background": "light"
     },
     "output_type": "display_data"
    },
    {
     "name": "stdout",
     "output_type": "stream",
     "text": [
      "\n"
     ]
    },
    {
     "data": {
      "image/png": "[encoded data removed]",
      "text/plain": [
       "<Figure size 432x288 with 1 Axes>"
      ]
     },
     "metadata": {
      "needs_background": "light"
     },
     "output_type": "display_data"
    },
    {
     "name": "stdout",
     "output_type": "stream",
     "text": [
      "\n"
     ]
    },
    {
     "data": {
      "image/png": "[encoded data removed]",
      "text/plain": [
       "<Figure size 432x288 with 1 Axes>"
      ]
     },
     "metadata": {
      "needs_background": "light"
     },
     "output_type": "display_data"
    },
    {
     "name": "stdout",
     "output_type": "stream",
     "text": [
      "\n"
     ]
    },
    {
     "data": {
      "image/png": "[encoded data removed]",
      "text/plain": [
       "<Figure size 432x288 with 1 Axes>"
      ]
     },
     "metadata": {
      "needs_background": "light"
     },
     "output_type": "display_data"
    },
    {
     "name": "stdout",
     "output_type": "stream",
     "text": [
      "\n"
     ]
    }
   ],
   "source": [
    "for i in num_cols:\n",
    "    get_boxplot('default', i, data)"
   ]
  },
  {
   "cell_type": "markdown",
   "metadata": {
    "papermill": {
     "duration": 0.049983,
     "end_time": "2021-03-30T17:56:20.871198",
     "exception": false,
     "start_time": "2021-03-30T17:56:20.821215",
     "status": "completed"
    },
    "tags": []
   },
   "source": [
    "Во всех признаках, кроме возраста, много выбросов. Но убирать их не будем, потому что переменные могут принимать такие значения, и они могут быть важны для работы модели."
   ]
  },
  {
   "cell_type": "code",
   "execution_count": 26,
   "metadata": {
    "execution": {
     "iopub.execute_input": "2021-03-30T17:56:20.979481Z",
     "iopub.status.busy": "2021-03-30T17:56:20.978144Z",
     "iopub.status.idle": "2021-03-30T17:56:21.158265Z",
     "shell.execute_reply": "2021-03-30T17:56:21.157718Z"
    },
    "papermill": {
     "duration": 0.236086,
     "end_time": "2021-03-30T17:56:21.158409",
     "exception": false,
     "start_time": "2021-03-30T17:56:20.922323",
     "status": "completed"
    },
    "tags": []
   },
   "outputs": [
    {
     "data": {
      "text/plain": [
       "<AxesSubplot:>"
      ]
     },
     "execution_count": 26,
     "metadata": {},
     "output_type": "execute_result"
    },
    {
     "data": {
      "image/png": "[encoded data removed]",
      "text/plain": [
       "<Figure size 720x576 with 1 Axes>"
      ]
     },
     "metadata": {
      "needs_background": "light"
     },
     "output_type": "display_data"
    }
   ],
   "source": [
    "# Значимость непрерывных переменных\n",
    "imp_num = Series(f_classif(data[num_cols], data['default'])[0], index=num_cols)\n",
    "imp_num.sort_values(inplace=True)\n",
    "imp_num.plot(kind='barh')"
   ]
  },
  {
   "cell_type": "markdown",
   "metadata": {
    "papermill": {
     "duration": 0.050087,
     "end_time": "2021-03-30T17:56:21.260032",
     "exception": false,
     "start_time": "2021-03-30T17:56:21.209945",
     "status": "completed"
    },
    "tags": []
   },
   "source": [
    "Самые важные признаки: score_bki и decline_app_cnt. Самый мало значимый признак - age."
   ]
  },
  {
   "cell_type": "markdown",
   "metadata": {
    "papermill": {
     "duration": 0.049673,
     "end_time": "2021-03-30T17:56:21.359922",
     "exception": false,
     "start_time": "2021-03-30T17:56:21.310249",
     "status": "completed"
    },
    "tags": []
   },
   "source": [
    "## Бинарные переменные"
   ]
  },
  {
   "cell_type": "code",
   "execution_count": 27,
   "metadata": {
    "execution": {
     "iopub.execute_input": "2021-03-30T17:56:21.465892Z",
     "iopub.status.busy": "2021-03-30T17:56:21.464952Z",
     "iopub.status.idle": "2021-03-30T17:56:21.467890Z",
     "shell.execute_reply": "2021-03-30T17:56:21.467337Z"
    },
    "papermill": {
     "duration": 0.057667,
     "end_time": "2021-03-30T17:56:21.468024",
     "exception": false,
     "start_time": "2021-03-30T17:56:21.410357",
     "status": "completed"
    },
    "tags": []
   },
   "outputs": [],
   "source": [
    "bin_cols = ['sex', 'car', 'car_type', 'good_work', 'foreign_passport']"
   ]
  },
  {
   "cell_type": "markdown",
   "metadata": {
    "papermill": {
     "duration": 0.049167,
     "end_time": "2021-03-30T17:56:21.567423",
     "exception": false,
     "start_time": "2021-03-30T17:56:21.518256",
     "status": "completed"
    },
    "tags": []
   },
   "source": [
    "Нам нужно преобразовать в числа категории в колонках 'sex', 'car', 'car_type', 'foreign_passport'"
   ]
  },
  {
   "cell_type": "code",
   "execution_count": 28,
   "metadata": {
    "execution": {
     "iopub.execute_input": "2021-03-30T17:56:21.682646Z",
     "iopub.status.busy": "2021-03-30T17:56:21.681767Z",
     "iopub.status.idle": "2021-03-30T17:56:21.773600Z",
     "shell.execute_reply": "2021-03-30T17:56:21.774017Z"
    },
    "papermill": {
     "duration": 0.156916,
     "end_time": "2021-03-30T17:56:21.774212",
     "exception": false,
     "start_time": "2021-03-30T17:56:21.617296",
     "status": "completed"
    },
    "tags": []
   },
   "outputs": [],
   "source": [
    "# Для бинарных признаков мы будем использовать LabelEncoder\n",
    "\n",
    "label_encoder = LabelEncoder()\n",
    "\n",
    "for column in bin_cols:\n",
    "    data[column] = label_encoder.fit_transform(data[column])"
   ]
  },
  {
   "cell_type": "markdown",
   "metadata": {
    "papermill": {
     "duration": 0.050539,
     "end_time": "2021-03-30T17:56:21.875018",
     "exception": false,
     "start_time": "2021-03-30T17:56:21.824479",
     "status": "completed"
    },
    "tags": []
   },
   "source": [
    "## Категориальные переменные"
   ]
  },
  {
   "cell_type": "code",
   "execution_count": 29,
   "metadata": {
    "execution": {
     "iopub.execute_input": "2021-03-30T17:56:22.006111Z",
     "iopub.status.busy": "2021-03-30T17:56:21.991414Z",
     "iopub.status.idle": "2021-03-30T17:56:22.010414Z",
     "shell.execute_reply": "2021-03-30T17:56:22.010842Z"
    },
    "papermill": {
     "duration": 0.085575,
     "end_time": "2021-03-30T17:56:22.011017",
     "exception": false,
     "start_time": "2021-03-30T17:56:21.925442",
     "status": "completed"
    },
    "tags": []
   },
   "outputs": [],
   "source": [
    "# Необходимо заменить названия ступеней обучения на категории в признаке education\n",
    "data['education'] = label_encoder.fit_transform(data['education'])"
   ]
  },
  {
   "cell_type": "code",
   "execution_count": 30,
   "metadata": {
    "execution": {
     "iopub.execute_input": "2021-03-30T17:56:22.119042Z",
     "iopub.status.busy": "2021-03-30T17:56:22.118411Z",
     "iopub.status.idle": "2021-03-30T17:56:22.469705Z",
     "shell.execute_reply": "2021-03-30T17:56:22.470137Z"
    },
    "papermill": {
     "duration": 0.407668,
     "end_time": "2021-03-30T17:56:22.470314",
     "exception": false,
     "start_time": "2021-03-30T17:56:22.062646",
     "status": "completed"
    },
    "tags": []
   },
   "outputs": [
    {
     "data": {
      "text/plain": [
       "<AxesSubplot:>"
      ]
     },
     "execution_count": 30,
     "metadata": {},
     "output_type": "execute_result"
    },
    {
     "data": {
      "image/png": "[encoded data removed]",
      "text/plain": [
       "<Figure size 720x576 with 1 Axes>"
      ]
     },
     "metadata": {
      "needs_background": "light"
     },
     "output_type": "display_data"
    }
   ],
   "source": [
    "# Оценим значимость нечисловых переменных\n",
    "imp_cat = Series(mutual_info_classif(data[bin_cols + cat_cols], data['default'],\n",
    "                                     discrete_features=True), index=bin_cols + cat_cols)\n",
    "imp_cat.sort_values(inplace=True)\n",
    "imp_cat.plot(kind='barh')"
   ]
  },
  {
   "cell_type": "markdown",
   "metadata": {
    "papermill": {
     "duration": 0.051558,
     "end_time": "2021-03-30T17:56:22.573860",
     "exception": false,
     "start_time": "2021-03-30T17:56:22.522302",
     "status": "completed"
    },
    "tags": []
   },
   "source": [
    "Самые значимые признаки: sna, first_time, самый незначимый - sex"
   ]
  },
  {
   "cell_type": "code",
   "execution_count": 31,
   "metadata": {
    "execution": {
     "iopub.execute_input": "2021-03-30T17:56:22.679652Z",
     "iopub.status.busy": "2021-03-30T17:56:22.678708Z",
     "iopub.status.idle": "2021-03-30T17:56:23.250483Z",
     "shell.execute_reply": "2021-03-30T17:56:23.249995Z"
    },
    "papermill": {
     "duration": 0.625407,
     "end_time": "2021-03-30T17:56:23.250626",
     "exception": false,
     "start_time": "2021-03-30T17:56:22.625219",
     "status": "completed"
    },
    "tags": []
   },
   "outputs": [
    {
     "data": {
      "text/plain": [
       "<AxesSubplot:>"
      ]
     },
     "execution_count": 31,
     "metadata": {},
     "output_type": "execute_result"
    },
    {
     "data": {
      "image/png": "[encoded data removed]",
      "text/plain": [
       "<Figure size 720x576 with 2 Axes>"
      ]
     },
     "metadata": {
      "needs_background": "light"
     },
     "output_type": "display_data"
    }
   ],
   "source": [
    "# Признаки обработали, посмотрим, что у нас в итоге получилось.\n",
    "plt.rcParams['figure.figsize'] = (10, 8)\n",
    "correlation = data.corr()\n",
    "sns.heatmap(correlation, cmap='coolwarm')"
   ]
  },
  {
   "cell_type": "markdown",
   "metadata": {
    "papermill": {
     "duration": 0.053956,
     "end_time": "2021-03-30T17:56:23.358190",
     "exception": false,
     "start_time": "2021-03-30T17:56:23.304234",
     "status": "completed"
    },
    "tags": []
   },
   "source": [
    "Целевая переменная не имеет сильных линейных зависимостей с другими переменными. Есть сильные линейные зависимости между 'car' и 'car_type' и адресами."
   ]
  },
  {
   "cell_type": "markdown",
   "metadata": {
    "papermill": {
     "duration": 0.052025,
     "end_time": "2021-03-30T17:56:23.463344",
     "exception": false,
     "start_time": "2021-03-30T17:56:23.411319",
     "status": "completed"
    },
    "tags": []
   },
   "source": [
    "# Генерация новых признаков\n",
    "\n",
    "Видим, что есть зависимость между признаками 'car' и 'car_type', что ожидаемо. Сложим эти столбцы и сделаем из них один. Получится, что 0 - машины нет, 1 - есть отечественное авто, 2 - есть иномарка.\n",
    "\n",
    "Также сделаем новый признак из адресов.\n",
    "\n",
    "Создадим новый признак: порядковый номер дня с начала наблюдений."
   ]
  },
  {
   "cell_type": "code",
   "execution_count": 32,
   "metadata": {
    "execution": {
     "iopub.execute_input": "2021-03-30T17:56:23.577022Z",
     "iopub.status.busy": "2021-03-30T17:56:23.576049Z",
     "iopub.status.idle": "2021-03-30T17:56:23.610176Z",
     "shell.execute_reply": "2021-03-30T17:56:23.609659Z"
    },
    "papermill": {
     "duration": 0.093932,
     "end_time": "2021-03-30T17:56:23.610312",
     "exception": false,
     "start_time": "2021-03-30T17:56:23.516380",
     "status": "completed"
    },
    "tags": []
   },
   "outputs": [],
   "source": [
    "data['new_car'] = data[['car', 'car_type']].sum(axis=1)\n",
    "data.drop(['car', 'car_type'], axis=1, inplace=True)\n",
    "\n",
    "\"\"\" by Safaroff. Считаю, эти признаки не нужно объединять\n",
    "data['address'] = data[['work_address', 'home_address']].sum(axis=1)\n",
    "data.drop(['work_address', 'home_address'], axis=1, inplace=True)\n",
    "\"\"\"\n",
    "\n",
    "data['day'] = (data.app_date - start).dt.days.astype('int')\n",
    "\n",
    "# Уберем нечисловой признак app_date\n",
    "data.drop(['app_date'], axis=1, inplace=True)"
   ]
  },
  {
   "cell_type": "markdown",
   "metadata": {
    "papermill": {
     "duration": 0.052195,
     "end_time": "2021-03-30T17:56:23.715201",
     "exception": false,
     "start_time": "2021-03-30T17:56:23.663006",
     "status": "completed"
    },
    "tags": []
   },
   "source": [
    "## Проверим корреляции "
   ]
  },
  {
   "cell_type": "code",
   "execution_count": 33,
   "metadata": {
    "execution": {
     "iopub.execute_input": "2021-03-30T17:56:23.828253Z",
     "iopub.status.busy": "2021-03-30T17:56:23.826929Z",
     "iopub.status.idle": "2021-03-30T17:56:24.414583Z",
     "shell.execute_reply": "2021-03-30T17:56:24.414997Z"
    },
    "papermill": {
     "duration": 0.647167,
     "end_time": "2021-03-30T17:56:24.415209",
     "exception": false,
     "start_time": "2021-03-30T17:56:23.768042",
     "status": "completed"
    },
    "tags": []
   },
   "outputs": [
    {
     "data": {
      "text/plain": [
       "<AxesSubplot:>"
      ]
     },
     "execution_count": 33,
     "metadata": {},
     "output_type": "execute_result"
    },
    {
     "data": {
      "image/png": "[encoded data removed]",
      "text/plain": [
       "<Figure size 720x576 with 2 Axes>"
      ]
     },
     "metadata": {
      "needs_background": "light"
     },
     "output_type": "display_data"
    }
   ],
   "source": [
    "plt.rcParams['figure.figsize'] = (10, 8)\n",
    "correlation = data.corr()\n",
    "sns.heatmap(correlation, cmap='coolwarm')"
   ]
  },
  {
   "cell_type": "markdown",
   "metadata": {
    "papermill": {
     "duration": 0.054529,
     "end_time": "2021-03-30T17:56:24.525100",
     "exception": false,
     "start_time": "2021-03-30T17:56:24.470571",
     "status": "completed"
    },
    "tags": []
   },
   "source": [
    "Видим, что есть сильная корреляция между client_id и day, видимо, клиентам присваивали номер в порядке обращения"
   ]
  },
  {
   "cell_type": "code",
   "execution_count": 34,
   "metadata": {
    "execution": {
     "iopub.execute_input": "2021-03-30T17:56:24.637529Z",
     "iopub.status.busy": "2021-03-30T17:56:24.636621Z",
     "iopub.status.idle": "2021-03-30T17:56:24.641294Z",
     "shell.execute_reply": "2021-03-30T17:56:24.641817Z"
    },
    "papermill": {
     "duration": 0.062561,
     "end_time": "2021-03-30T17:56:24.641976",
     "exception": false,
     "start_time": "2021-03-30T17:56:24.579415",
     "status": "completed"
    },
    "tags": []
   },
   "outputs": [],
   "source": [
    "# Распределим переменные по типу\n",
    "bin_cols = ['sex', 'foreign_passport', 'good_work']\n",
    "cat_cols = ['education', 'new_car', 'work_address', 'home_address', 'sna', 'first_time', 'region_rating'] # 'address',\n",
    "num_cols = ['age', 'decline_app_cnt', 'score_bki','bki_request_cnt', 'income', 'day']"
   ]
  },
  {
   "cell_type": "markdown",
   "metadata": {
    "papermill": {
     "duration": 0.054089,
     "end_time": "2021-03-30T17:56:24.752584",
     "exception": false,
     "start_time": "2021-03-30T17:56:24.698495",
     "status": "completed"
    },
    "tags": []
   },
   "source": [
    "# Построение модели"
   ]
  },
  {
   "cell_type": "markdown",
   "metadata": {
    "papermill": {
     "duration": 0.054591,
     "end_time": "2021-03-30T17:56:24.862592",
     "exception": false,
     "start_time": "2021-03-30T17:56:24.808001",
     "status": "completed"
    },
    "tags": []
   },
   "source": [
    "## Обучим модель и подберем гиперпараметры на обучающем датасете"
   ]
  },
  {
   "cell_type": "code",
   "execution_count": 35,
   "metadata": {
    "execution": {
     "iopub.execute_input": "2021-03-30T17:56:24.977194Z",
     "iopub.status.busy": "2021-03-30T17:56:24.976283Z",
     "iopub.status.idle": "2021-03-30T17:56:25.007685Z",
     "shell.execute_reply": "2021-03-30T17:56:25.008173Z"
    },
    "papermill": {
     "duration": 0.090467,
     "end_time": "2021-03-30T17:56:25.008348",
     "exception": false,
     "start_time": "2021-03-30T17:56:24.917881",
     "status": "completed"
    },
    "tags": []
   },
   "outputs": [
    {
     "data": {
      "text/html": [
       "<div>\n",
       "<style scoped>\n",
       "    .dataframe tbody tr th:only-of-type {\n",
       "        vertical-align: middle;\n",
       "    }\n",
       "\n",
       "    .dataframe tbody tr th {\n",
       "        vertical-align: top;\n",
       "    }\n",
       "\n",
       "    .dataframe thead th {\n",
       "        text-align: right;\n",
       "    }\n",
       "</style>\n",
       "<table border=\"1\" class=\"dataframe\">\n",
       "  <thead>\n",
       "    <tr style=\"text-align: right;\">\n",
       "      <th></th>\n",
       "      <th>client_id</th>\n",
       "      <th>education</th>\n",
       "      <th>sex</th>\n",
       "      <th>age</th>\n",
       "      <th>decline_app_cnt</th>\n",
       "      <th>good_work</th>\n",
       "      <th>score_bki</th>\n",
       "      <th>bki_request_cnt</th>\n",
       "      <th>region_rating</th>\n",
       "      <th>home_address</th>\n",
       "      <th>work_address</th>\n",
       "      <th>income</th>\n",
       "      <th>sna</th>\n",
       "      <th>first_time</th>\n",
       "      <th>foreign_passport</th>\n",
       "      <th>default</th>\n",
       "      <th>new_car</th>\n",
       "      <th>day</th>\n",
       "    </tr>\n",
       "  </thead>\n",
       "  <tbody>\n",
       "    <tr>\n",
       "      <th>0</th>\n",
       "      <td>25905</td>\n",
       "      <td>3</td>\n",
       "      <td>1</td>\n",
       "      <td>4.143135</td>\n",
       "      <td>0.000000</td>\n",
       "      <td>0</td>\n",
       "      <td>-2.008753</td>\n",
       "      <td>0.693147</td>\n",
       "      <td>50</td>\n",
       "      <td>1</td>\n",
       "      <td>2</td>\n",
       "      <td>9.798183</td>\n",
       "      <td>4</td>\n",
       "      <td>1</td>\n",
       "      <td>0</td>\n",
       "      <td>0</td>\n",
       "      <td>2</td>\n",
       "      <td>31</td>\n",
       "    </tr>\n",
       "    <tr>\n",
       "      <th>1</th>\n",
       "      <td>63161</td>\n",
       "      <td>3</td>\n",
       "      <td>0</td>\n",
       "      <td>4.094345</td>\n",
       "      <td>0.000000</td>\n",
       "      <td>0</td>\n",
       "      <td>-1.532276</td>\n",
       "      <td>1.386294</td>\n",
       "      <td>50</td>\n",
       "      <td>2</td>\n",
       "      <td>3</td>\n",
       "      <td>9.852247</td>\n",
       "      <td>4</td>\n",
       "      <td>1</td>\n",
       "      <td>0</td>\n",
       "      <td>0</td>\n",
       "      <td>0</td>\n",
       "      <td>70</td>\n",
       "    </tr>\n",
       "    <tr>\n",
       "      <th>2</th>\n",
       "      <td>25887</td>\n",
       "      <td>3</td>\n",
       "      <td>1</td>\n",
       "      <td>3.258097</td>\n",
       "      <td>1.098612</td>\n",
       "      <td>0</td>\n",
       "      <td>-1.408142</td>\n",
       "      <td>0.693147</td>\n",
       "      <td>80</td>\n",
       "      <td>1</td>\n",
       "      <td>2</td>\n",
       "      <td>10.308986</td>\n",
       "      <td>1</td>\n",
       "      <td>4</td>\n",
       "      <td>1</td>\n",
       "      <td>0</td>\n",
       "      <td>1</td>\n",
       "      <td>31</td>\n",
       "    </tr>\n",
       "    <tr>\n",
       "      <th>3</th>\n",
       "      <td>16222</td>\n",
       "      <td>3</td>\n",
       "      <td>0</td>\n",
       "      <td>3.988984</td>\n",
       "      <td>0.000000</td>\n",
       "      <td>0</td>\n",
       "      <td>-2.057471</td>\n",
       "      <td>1.098612</td>\n",
       "      <td>50</td>\n",
       "      <td>2</td>\n",
       "      <td>3</td>\n",
       "      <td>9.210440</td>\n",
       "      <td>1</td>\n",
       "      <td>3</td>\n",
       "      <td>0</td>\n",
       "      <td>0</td>\n",
       "      <td>0</td>\n",
       "      <td>22</td>\n",
       "    </tr>\n",
       "    <tr>\n",
       "      <th>4</th>\n",
       "      <td>101655</td>\n",
       "      <td>1</td>\n",
       "      <td>1</td>\n",
       "      <td>3.891820</td>\n",
       "      <td>0.000000</td>\n",
       "      <td>1</td>\n",
       "      <td>-1.244723</td>\n",
       "      <td>0.693147</td>\n",
       "      <td>60</td>\n",
       "      <td>2</td>\n",
       "      <td>3</td>\n",
       "      <td>10.308986</td>\n",
       "      <td>1</td>\n",
       "      <td>4</td>\n",
       "      <td>1</td>\n",
       "      <td>0</td>\n",
       "      <td>0</td>\n",
       "      <td>107</td>\n",
       "    </tr>\n",
       "  </tbody>\n",
       "</table>\n",
       "</div>"
      ],
      "text/plain": [
       "   client_id  education  sex       age  decline_app_cnt  good_work  score_bki  \\\n",
       "0      25905          3    1  4.143135         0.000000          0  -2.008753   \n",
       "1      63161          3    0  4.094345         0.000000          0  -1.532276   \n",
       "2      25887          3    1  3.258097         1.098612          0  -1.408142   \n",
       "3      16222          3    0  3.988984         0.000000          0  -2.057471   \n",
       "4     101655          1    1  3.891820         0.000000          1  -1.244723   \n",
       "\n",
       "   bki_request_cnt  region_rating  home_address  work_address     income  sna  \\\n",
       "0         0.693147             50             1             2   9.798183    4   \n",
       "1         1.386294             50             2             3   9.852247    4   \n",
       "2         0.693147             80             1             2  10.308986    1   \n",
       "3         1.098612             50             2             3   9.210440    1   \n",
       "4         0.693147             60             2             3  10.308986    1   \n",
       "\n",
       "   first_time  foreign_passport  default  new_car  day  \n",
       "0           1                 0        0        2   31  \n",
       "1           1                 0        0        0   70  \n",
       "2           4                 1        0        1   31  \n",
       "3           3                 0        0        0   22  \n",
       "4           4                 1        0        0  107  "
      ]
     },
     "metadata": {},
     "output_type": "display_data"
    }
   ],
   "source": [
    "# выделяем тренировочный датасет из датасета data\n",
    "data_train = data[data['train'] == 1]\n",
    "data_train = data_train.drop(['train'], axis=1)\n",
    "\n",
    "# проверяем тренировочный датасет\n",
    "display(data_train.head(5))"
   ]
  },
  {
   "cell_type": "code",
   "execution_count": 36,
   "metadata": {
    "collapsed": true,
    "execution": {
     "iopub.execute_input": "2021-03-30T17:56:25.122529Z",
     "iopub.status.busy": "2021-03-30T17:56:25.121909Z",
     "iopub.status.idle": "2021-03-30T17:56:25.139918Z",
     "shell.execute_reply": "2021-03-30T17:56:25.139146Z"
    },
    "papermill": {
     "duration": 0.075787,
     "end_time": "2021-03-30T17:56:25.140136",
     "exception": false,
     "start_time": "2021-03-30T17:56:25.064349",
     "status": "completed"
    },
    "tags": []
   },
   "outputs": [
    {
     "name": "stdout",
     "output_type": "stream",
     "text": [
      "<class 'pandas.core.frame.DataFrame'>\n",
      "Int64Index: 73799 entries, 0 to 73798\n",
      "Data columns (total 18 columns):\n",
      " #   Column            Non-Null Count  Dtype  \n",
      "---  ------            --------------  -----  \n",
      " 0   client_id         73799 non-null  int64  \n",
      " 1   education         73799 non-null  int64  \n",
      " 2   sex               73799 non-null  int64  \n",
      " 3   age               73799 non-null  float64\n",
      " 4   decline_app_cnt   73799 non-null  float64\n",
      " 5   good_work         73799 non-null  int64  \n",
      " 6   score_bki         73799 non-null  float64\n",
      " 7   bki_request_cnt   73799 non-null  float64\n",
      " 8   region_rating     73799 non-null  int64  \n",
      " 9   home_address      73799 non-null  int64  \n",
      " 10  work_address      73799 non-null  int64  \n",
      " 11  income            73799 non-null  float64\n",
      " 12  sna               73799 non-null  int64  \n",
      " 13  first_time        73799 non-null  int64  \n",
      " 14  foreign_passport  73799 non-null  int64  \n",
      " 15  default           73799 non-null  int64  \n",
      " 16  new_car           73799 non-null  int64  \n",
      " 17  day               73799 non-null  int64  \n",
      "dtypes: float64(5), int64(13)\n",
      "memory usage: 10.7 MB\n"
     ]
    }
   ],
   "source": [
    "data_train.info()"
   ]
  },
  {
   "cell_type": "code",
   "execution_count": 37,
   "metadata": {
    "execution": {
     "iopub.execute_input": "2021-03-30T17:56:25.259960Z",
     "iopub.status.busy": "2021-03-30T17:56:25.259328Z",
     "iopub.status.idle": "2021-03-30T17:56:25.329581Z",
     "shell.execute_reply": "2021-03-30T17:56:25.330145Z"
    },
    "papermill": {
     "duration": 0.133512,
     "end_time": "2021-03-30T17:56:25.330315",
     "exception": false,
     "start_time": "2021-03-30T17:56:25.196803",
     "status": "completed"
    },
    "tags": []
   },
   "outputs": [
    {
     "data": {
      "text/plain": [
       "array([[0., 0., 0., ..., 0., 0., 0.],\n",
       "       [0., 0., 0., ..., 0., 0., 0.],\n",
       "       [0., 0., 0., ..., 0., 0., 1.],\n",
       "       ...,\n",
       "       [0., 0., 0., ..., 0., 0., 1.],\n",
       "       [0., 0., 0., ..., 0., 0., 0.],\n",
       "       [0., 1., 0., ..., 0., 0., 0.]])"
      ]
     },
     "execution_count": 37,
     "metadata": {},
     "output_type": "execute_result"
    }
   ],
   "source": [
    "# преобразуем категориальные переменные методом One-Hot Encoding\n",
    "data_train_cat = OneHotEncoder(sparse=False).fit_transform(\n",
    "    data_train[cat_cols].values)\n",
    "data_train_cat"
   ]
  },
  {
   "cell_type": "code",
   "execution_count": 38,
   "metadata": {
    "execution": {
     "iopub.execute_input": "2021-03-30T17:56:25.449924Z",
     "iopub.status.busy": "2021-03-30T17:56:25.449320Z",
     "iopub.status.idle": "2021-03-30T17:56:25.476102Z",
     "shell.execute_reply": "2021-03-30T17:56:25.475533Z"
    },
    "papermill": {
     "duration": 0.089491,
     "end_time": "2021-03-30T17:56:25.476248",
     "exception": false,
     "start_time": "2021-03-30T17:56:25.386757",
     "status": "completed"
    },
    "tags": []
   },
   "outputs": [],
   "source": [
    "# стандартизируем числовые переменные\n",
    "data_train_num = StandardScaler().fit_transform(data_train[num_cols].values)\n",
    "\n",
    "# объединяем категориальные, бинарные, числовые признаки в одно признаковое пространство\n",
    "X = np.hstack([data_train_num, data_train[bin_cols].values, data_train_cat])\n",
    "y = data_train['default'].values"
   ]
  },
  {
   "cell_type": "code",
   "execution_count": 39,
   "metadata": {
    "execution": {
     "iopub.execute_input": "2021-03-30T17:56:25.594878Z",
     "iopub.status.busy": "2021-03-30T17:56:25.594296Z",
     "iopub.status.idle": "2021-03-30T17:56:25.614679Z",
     "shell.execute_reply": "2021-03-30T17:56:25.614104Z"
    },
    "papermill": {
     "duration": 0.081462,
     "end_time": "2021-03-30T17:56:25.614815",
     "exception": false,
     "start_time": "2021-03-30T17:56:25.533353",
     "status": "completed"
    },
    "tags": []
   },
   "outputs": [
    {
     "data": {
      "text/plain": [
       "((59039, 38), (14760, 38), (59039,), (14760,))"
      ]
     },
     "execution_count": 39,
     "metadata": {},
     "output_type": "execute_result"
    }
   ],
   "source": [
    "# Разделим данные для обучения следующим образом:\n",
    "X_train, X_test, y_train, y_test = train_test_split(\n",
    "    X, y, test_size=0.20, random_state=42)\n",
    "\n",
    "# Проверим\n",
    "X_train.shape, X_test.shape, y_train.shape, y_test.shape"
   ]
  },
  {
   "cell_type": "code",
   "execution_count": 40,
   "metadata": {
    "execution": {
     "iopub.execute_input": "2021-03-30T17:56:25.731259Z",
     "iopub.status.busy": "2021-03-30T17:56:25.730604Z",
     "iopub.status.idle": "2021-03-30T17:56:26.765443Z",
     "shell.execute_reply": "2021-03-30T17:56:26.764798Z"
    },
    "papermill": {
     "duration": 1.094867,
     "end_time": "2021-03-30T17:56:26.765591",
     "exception": false,
     "start_time": "2021-03-30T17:56:25.670724",
     "status": "completed"
    },
    "tags": []
   },
   "outputs": [
    {
     "data": {
      "text/plain": [
       "LogisticRegression()"
      ]
     },
     "execution_count": 40,
     "metadata": {},
     "output_type": "execute_result"
    }
   ],
   "source": [
    "model = LogisticRegression()\n",
    "model.fit(X_train, y_train)"
   ]
  },
  {
   "cell_type": "code",
   "execution_count": 41,
   "metadata": {
    "execution": {
     "iopub.execute_input": "2021-03-30T17:56:26.886545Z",
     "iopub.status.busy": "2021-03-30T17:56:26.885829Z",
     "iopub.status.idle": "2021-03-30T17:56:27.125017Z",
     "shell.execute_reply": "2021-03-30T17:56:27.124397Z"
    },
    "papermill": {
     "duration": 0.302855,
     "end_time": "2021-03-30T17:56:27.125177",
     "exception": false,
     "start_time": "2021-03-30T17:56:26.822322",
     "status": "completed"
    },
    "tags": []
   },
   "outputs": [
    {
     "data": {
      "image/png": "[encoded data removed]",
      "text/plain": [
       "<Figure size 720x576 with 1 Axes>"
      ]
     },
     "metadata": {
      "needs_background": "light"
     },
     "output_type": "display_data"
    }
   ],
   "source": [
    "# считаем метрики обучающей (X_train, y_train) выборки\n",
    "y_train_probs = model.predict_proba(X_train)\n",
    "y_train_probs = y_train_probs[:, 1]\n",
    "y_train_pred = model.predict(X_train)\n",
    "fpr_train, tpr_train, threshold_train = roc_curve(y_train, y_train_probs)\n",
    "roc_auc_train = roc_auc_score(y_train, y_train_probs)\n",
    "\n",
    "# считаем метрики тестовой (X_test, y_test) выборки\n",
    "y_test_probs = model.predict_proba(X_test)\n",
    "y_test_probs = y_test_probs[:, 1]\n",
    "y_test_pred = model.predict(X_test)\n",
    "fpr_test, tpr_test, threshold_test = roc_curve(y_test, y_test_probs)\n",
    "roc_auc_test = roc_auc_score(y_test, y_test_probs)\n",
    "\n",
    "# строим графики ROC AUC\n",
    "plt.figure()\n",
    "plt.plot([0, 1], label='Baseline', linestyle='--')\n",
    "plt.plot(fpr_train, tpr_train, label='Train')\n",
    "plt.plot(fpr_test, tpr_test, label='Test')\n",
    "plt.title('Logistic Regression ROC AUC Train = {a} \\n Logistic Regression ROC AUC Test = {b}'\n",
    "          .format(a=roc_auc_train.round(3), b=roc_auc_test.round(3)))\n",
    "plt.ylabel('True Positive Rate')\n",
    "plt.xlabel('False Positive Rate')\n",
    "plt.legend(loc='lower right')\n",
    "plt.show()"
   ]
  },
  {
   "cell_type": "code",
   "execution_count": 42,
   "metadata": {
    "execution": {
     "iopub.execute_input": "2021-03-30T17:56:27.249040Z",
     "iopub.status.busy": "2021-03-30T17:56:27.248427Z",
     "iopub.status.idle": "2021-03-30T17:56:27.323070Z",
     "shell.execute_reply": "2021-03-30T17:56:27.322549Z"
    },
    "papermill": {
     "duration": 0.139517,
     "end_time": "2021-03-30T17:56:27.323227",
     "exception": false,
     "start_time": "2021-03-30T17:56:27.183710",
     "status": "completed"
    },
    "tags": []
   },
   "outputs": [
    {
     "name": "stdout",
     "output_type": "stream",
     "text": [
      "Accuracy: 0.872 0.875\n",
      "F1_score: 0.056 0.043\n",
      "Precision: 0.483 0.402\n",
      "Recall: 0.03 0.022\n"
     ]
    }
   ],
   "source": [
    "# Считаем метрики для обучающей и тестовой выборок\n",
    "accuracy_train = accuracy_score(y_train, y_train_pred)\n",
    "f1_score_train = f1_score(y_train, y_train_pred)\n",
    "precision_train = precision_score(y_train, y_train_pred)\n",
    "recall_train = recall_score(y_train, y_train_pred)\n",
    "\n",
    "accuracy_test = accuracy_score(y_test, y_test_pred)\n",
    "f1_score_test = f1_score(y_test, y_test_pred)\n",
    "precision_test = precision_score(y_test, y_test_pred)\n",
    "recall_test = recall_score(y_test, y_test_pred)\n",
    "\n",
    "print('Accuracy:', round(accuracy_train, 3), round(accuracy_test, 3))\n",
    "print('F1_score:', round(f1_score_train, 3), round(f1_score_test, 3))\n",
    "print('Precision:', round(precision_train, 3), round(precision_test, 3))\n",
    "print('Recall:', round(recall_train, 3), round(recall_test, 3))"
   ]
  },
  {
   "cell_type": "code",
   "execution_count": 43,
   "metadata": {
    "execution": {
     "iopub.execute_input": "2021-03-30T17:56:27.446886Z",
     "iopub.status.busy": "2021-03-30T17:56:27.445891Z",
     "iopub.status.idle": "2021-03-30T17:56:27.977995Z",
     "shell.execute_reply": "2021-03-30T17:56:27.977369Z"
    },
    "papermill": {
     "duration": 0.596187,
     "end_time": "2021-03-30T17:56:27.978156",
     "exception": false,
     "start_time": "2021-03-30T17:56:27.381969",
     "status": "completed"
    },
    "tags": []
   },
   "outputs": [
    {
     "name": "stdout",
     "output_type": "stream",
     "text": [
      "Confusion matrix, without normalization\n",
      "[[12872    61]\n",
      " [ 1786    41]]\n",
      "Normalized confusion matrix\n",
      "[[0.99528338 0.00471662]\n",
      " [0.97755884 0.02244116]]\n"
     ]
    },
    {
     "data": {
      "image/png": "[encoded data removed]",
      "text/plain": [
       "<Figure size 720x576 with 2 Axes>"
      ]
     },
     "metadata": {
      "needs_background": "light"
     },
     "output_type": "display_data"
    },
    {
     "data": {
      "image/png": "[encoded data removed]",
      "text/plain": [
       "<Figure size 720x576 with 2 Axes>"
      ]
     },
     "metadata": {
      "needs_background": "light"
     },
     "output_type": "display_data"
    }
   ],
   "source": [
    "# Оценим confusion matrix\n",
    "titles_options = [(\"Confusion matrix, without normalization\", None),\n",
    "                  (\"Normalized confusion matrix\", 'true')]\n",
    "for title, normalize in titles_options:\n",
    "    disp = plot_confusion_matrix(model, X_test, y_test,\n",
    "                                 display_labels=['no_def', 'def'],\n",
    "                                 cmap=plt.cm.Blues,\n",
    "                                 normalize=normalize)\n",
    "    disp.ax_.set_title(title)\n",
    "\n",
    "    print(title)\n",
    "    print(disp.confusion_matrix)\n",
    "\n",
    "plt.show()"
   ]
  },
  {
   "cell_type": "markdown",
   "metadata": {
    "papermill": {
     "duration": 0.061762,
     "end_time": "2021-03-30T17:56:28.101474",
     "exception": false,
     "start_time": "2021-03-30T17:56:28.039712",
     "status": "completed"
    },
    "tags": []
   },
   "source": [
    "Как видно, несмотря на довольно хороший показатель ROC, модель очень плохо предсказывает дефолтных клиентов. Это очевидно из метрик f1-score, recall, а также confusion matrix.\n",
    "Модель выдаст всем кредиты, их не вернут, банк разорен."
   ]
  },
  {
   "cell_type": "markdown",
   "metadata": {
    "papermill": {
     "duration": 0.060771,
     "end_time": "2021-03-30T17:56:28.222900",
     "exception": false,
     "start_time": "2021-03-30T17:56:28.162129",
     "status": "completed"
    },
    "tags": []
   },
   "source": [
    "## Подбор гиперпараметров"
   ]
  },
  {
   "cell_type": "code",
   "execution_count": 44,
   "metadata": {
    "execution": {
     "iopub.execute_input": "2021-03-30T17:56:28.352674Z",
     "iopub.status.busy": "2021-03-30T17:56:28.352007Z",
     "iopub.status.idle": "2021-03-30T18:01:16.688641Z",
     "shell.execute_reply": "2021-03-30T18:01:16.689127Z"
    },
    "papermill": {
     "duration": 288.405593,
     "end_time": "2021-03-30T18:01:16.689309",
     "exception": false,
     "start_time": "2021-03-30T17:56:28.283716",
     "status": "completed"
    },
    "tags": []
   },
   "outputs": [
    {
     "name": "stdout",
     "output_type": "stream",
     "text": [
      "C 1.0 \n",
      "\n",
      "class_weight balanced \n",
      "\n",
      "dual False \n",
      "\n",
      "fit_intercept True \n",
      "\n",
      "intercept_scaling 1 \n",
      "\n",
      "l1_ratio None \n",
      "\n",
      "max_iter 100 \n",
      "\n",
      "multi_class auto \n",
      "\n",
      "n_jobs None \n",
      "\n",
      "penalty none \n",
      "\n",
      "random_state None \n",
      "\n",
      "solver sag \n",
      "\n",
      "tol 0.0001 \n",
      "\n",
      "verbose 0 \n",
      "\n",
      "warm_start False \n",
      "\n"
     ]
    }
   ],
   "source": [
    "model = LogisticRegression()\n",
    "param_grid = [\n",
    "    {'penalty': ['l1'],\n",
    "     'solver': ['liblinear', 'lbfgs'],\n",
    "     'class_weight':['none', 'balanced'],\n",
    "     'multi_class': ['auto', 'ovr']},\n",
    "    {'penalty': ['l2'],\n",
    "     'solver': ['newton-cg', 'lbfgs', 'liblinear', 'sag', 'saga'],\n",
    "     'class_weight':['none', 'balanced'],\n",
    "     'multi_class': ['auto', 'ovr']},\n",
    "    {'penalty': ['none'],\n",
    "     'solver': ['newton-cg', 'lbfgs', 'sag', 'saga'],\n",
    "     'class_weight':['none', 'balanced'],\n",
    "     'multi_class': ['auto', 'ovr']}\n",
    "]\n",
    "gridsearch = GridSearchCV(model, param_grid, scoring='f1', n_jobs=-1, cv=10)\n",
    "gridsearch.fit(X_train, y_train)\n",
    "model = gridsearch.best_estimator_\n",
    "\n",
    "# печатаем параметры\n",
    "best_parameters = model.get_params()\n",
    "for param_name in best_parameters:\n",
    "    print(param_name, best_parameters[param_name], '\\n')"
   ]
  },
  {
   "cell_type": "markdown",
   "metadata": {
    "papermill": {
     "duration": 0.060626,
     "end_time": "2021-03-30T18:01:16.811510",
     "exception": false,
     "start_time": "2021-03-30T18:01:16.750884",
     "status": "completed"
    },
    "tags": []
   },
   "source": [
    "## Обучение новой модели"
   ]
  },
  {
   "cell_type": "code",
   "execution_count": 45,
   "metadata": {
    "execution": {
     "iopub.execute_input": "2021-03-30T18:01:16.943791Z",
     "iopub.status.busy": "2021-03-30T18:01:16.943157Z",
     "iopub.status.idle": "2021-03-30T18:01:16.962348Z",
     "shell.execute_reply": "2021-03-30T18:01:16.961687Z"
    },
    "papermill": {
     "duration": 0.088792,
     "end_time": "2021-03-30T18:01:16.962488",
     "exception": false,
     "start_time": "2021-03-30T18:01:16.873696",
     "status": "completed"
    },
    "tags": []
   },
   "outputs": [
    {
     "data": {
      "text/plain": [
       "((59039, 38), (14760, 38), (59039,), (14760,))"
      ]
     },
     "execution_count": 45,
     "metadata": {},
     "output_type": "execute_result"
    }
   ],
   "source": [
    "# Разделим данные для обучения следующим образом:\n",
    "X_train, X_test, y_train, y_test = train_test_split(\n",
    "    X, y, test_size=0.20, random_state=42)\n",
    "\n",
    "# Проверим\n",
    "X_train.shape, X_test.shape, y_train.shape, y_test.shape"
   ]
  },
  {
   "cell_type": "code",
   "execution_count": 46,
   "metadata": {
    "execution": {
     "iopub.execute_input": "2021-03-30T18:01:17.093187Z",
     "iopub.status.busy": "2021-03-30T18:01:17.092454Z",
     "iopub.status.idle": "2021-03-30T18:01:23.129862Z",
     "shell.execute_reply": "2021-03-30T18:01:23.129338Z"
    },
    "papermill": {
     "duration": 6.105839,
     "end_time": "2021-03-30T18:01:23.130007",
     "exception": false,
     "start_time": "2021-03-30T18:01:17.024168",
     "status": "completed"
    },
    "tags": []
   },
   "outputs": [
    {
     "data": {
      "text/plain": [
       "LogisticRegression(class_weight='balanced', penalty='l1', solver='liblinear')"
      ]
     },
     "execution_count": 46,
     "metadata": {},
     "output_type": "execute_result"
    }
   ],
   "source": [
    "new_model = LogisticRegression(penalty='l1',\n",
    "                               dual=False,\n",
    "                               tol=0.0001,\n",
    "                               C=1.0,\n",
    "                               fit_intercept=True,\n",
    "                               intercept_scaling=1,\n",
    "                               class_weight='balanced',\n",
    "                               random_state=None,\n",
    "                               solver='liblinear',\n",
    "                               max_iter=100,\n",
    "                               multi_class='auto',\n",
    "                               verbose=0,\n",
    "                               warm_start=False,\n",
    "                               n_jobs=None,\n",
    "                               l1_ratio=None)\n",
    "new_model.fit(X_train, y_train)"
   ]
  },
  {
   "cell_type": "markdown",
   "metadata": {
    "papermill": {
     "duration": 0.061331,
     "end_time": "2021-03-30T18:01:23.252986",
     "exception": false,
     "start_time": "2021-03-30T18:01:23.191655",
     "status": "completed"
    },
    "tags": []
   },
   "source": [
    "## Проверим качество новой модели"
   ]
  },
  {
   "cell_type": "code",
   "execution_count": 47,
   "metadata": {
    "execution": {
     "iopub.execute_input": "2021-03-30T18:01:23.385574Z",
     "iopub.status.busy": "2021-03-30T18:01:23.384553Z",
     "iopub.status.idle": "2021-03-30T18:01:23.625389Z",
     "shell.execute_reply": "2021-03-30T18:01:23.624851Z"
    },
    "papermill": {
     "duration": 0.31051,
     "end_time": "2021-03-30T18:01:23.625544",
     "exception": false,
     "start_time": "2021-03-30T18:01:23.315034",
     "status": "completed"
    },
    "tags": []
   },
   "outputs": [
    {
     "data": {
      "image/png": "[encoded data removed]",
      "text/plain": [
       "<Figure size 720x576 with 1 Axes>"
      ]
     },
     "metadata": {
      "needs_background": "light"
     },
     "output_type": "display_data"
    }
   ],
   "source": [
    "# считаем метрики обучающей (X_train, y_train) выборки\n",
    "y_train_probs = new_model.predict_proba(X_train)\n",
    "y_train_probs = y_train_probs[:, 1]\n",
    "y_train_pred = new_model.predict(X_train)\n",
    "fpr_train, tpr_train, threshold_train = roc_curve(y_train, y_train_probs)\n",
    "roc_auc_train = roc_auc_score(y_train, y_train_probs)\n",
    "\n",
    "# считаем метрики тестовой (X_test, y_test) выборки\n",
    "y_test_probs = new_model.predict_proba(X_test)\n",
    "y_test_probs = y_test_probs[:, 1]\n",
    "y_test_pred = new_model.predict(X_test)\n",
    "fpr_test, tpr_test, threshold_test = roc_curve(y_test, y_test_probs)\n",
    "roc_auc_test = roc_auc_score(y_test, y_test_probs)\n",
    "\n",
    "# строим графики ROC AUC\n",
    "plt.figure()\n",
    "plt.plot([0, 1], label='Baseline', linestyle='--')\n",
    "plt.plot(fpr_train, tpr_train, label='Train')\n",
    "plt.plot(fpr_test, tpr_test, label='Test')\n",
    "plt.title('Logistic Regression ROC AUC Train = {a} \\n Logistic Regression ROC AUC Test = {b}'\n",
    "          .format(a=roc_auc_train.round(3), b=roc_auc_test.round(3)))\n",
    "plt.ylabel('True Positive Rate')\n",
    "plt.xlabel('False Positive Rate')\n",
    "plt.legend(loc='lower right')\n",
    "plt.show()"
   ]
  },
  {
   "cell_type": "code",
   "execution_count": 48,
   "metadata": {
    "execution": {
     "iopub.execute_input": "2021-03-30T18:01:23.760721Z",
     "iopub.status.busy": "2021-03-30T18:01:23.760049Z",
     "iopub.status.idle": "2021-03-30T18:01:23.850978Z",
     "shell.execute_reply": "2021-03-30T18:01:23.851686Z"
    },
    "papermill": {
     "duration": 0.162123,
     "end_time": "2021-03-30T18:01:23.851868",
     "exception": false,
     "start_time": "2021-03-30T18:01:23.689745",
     "status": "completed"
    },
    "tags": []
   },
   "outputs": [
    {
     "name": "stdout",
     "output_type": "stream",
     "text": [
      "Accuracy: 0.669 0.671\n",
      "F1_score: 0.342 0.341\n",
      "Precision: 0.229 0.227\n",
      "Recall: 0.672 0.687\n"
     ]
    }
   ],
   "source": [
    "# Считаем метрики для обучающей и тестовой выборок\n",
    "accuracy_train = accuracy_score(y_train, y_train_pred)\n",
    "f1_score_train = f1_score(y_train, y_train_pred)\n",
    "precision_train = precision_score(y_train, y_train_pred)\n",
    "recall_train = recall_score(y_train, y_train_pred)\n",
    "\n",
    "accuracy_test = accuracy_score(y_test, y_test_pred)\n",
    "f1_score_test = f1_score(y_test, y_test_pred)\n",
    "precision_test = precision_score(y_test, y_test_pred)\n",
    "recall_test = recall_score(y_test, y_test_pred)\n",
    "\n",
    "print('Accuracy:', round(accuracy_train, 3), round(accuracy_test, 3))\n",
    "print('F1_score:', round(f1_score_train, 3), round(f1_score_test, 3))\n",
    "print('Precision:', round(precision_train, 3), round(precision_test, 3))\n",
    "print('Recall:', round(recall_train, 3), round(recall_test, 3))"
   ]
  },
  {
   "cell_type": "code",
   "execution_count": 49,
   "metadata": {
    "execution": {
     "iopub.execute_input": "2021-03-30T18:01:23.985556Z",
     "iopub.status.busy": "2021-03-30T18:01:23.984864Z",
     "iopub.status.idle": "2021-03-30T18:01:24.406715Z",
     "shell.execute_reply": "2021-03-30T18:01:24.406113Z"
    },
    "papermill": {
     "duration": 0.491209,
     "end_time": "2021-03-30T18:01:24.406850",
     "exception": false,
     "start_time": "2021-03-30T18:01:23.915641",
     "status": "completed"
    },
    "tags": []
   },
   "outputs": [
    {
     "name": "stdout",
     "output_type": "stream",
     "text": [
      "Confusion matrix, without normalization\n",
      "[[8649 4284]\n",
      " [ 571 1256]]\n",
      "Normalized confusion matrix\n",
      "[[0.66875435 0.33124565]\n",
      " [0.31253421 0.68746579]]\n"
     ]
    },
    {
     "data": {
      "image/png": "[encoded data removed]",
      "text/plain": [
       "<Figure size 720x576 with 2 Axes>"
      ]
     },
     "metadata": {
      "needs_background": "light"
     },
     "output_type": "display_data"
    },
    {
     "data": {
      "image/png": "[encoded data removed]",
      "text/plain": [
       "<Figure size 720x576 with 2 Axes>"
      ]
     },
     "metadata": {
      "needs_background": "light"
     },
     "output_type": "display_data"
    }
   ],
   "source": [
    "# Оценим confusion matrix\n",
    "titles_options = [(\"Confusion matrix, without normalization\", None),\n",
    "                  (\"Normalized confusion matrix\", 'true')]\n",
    "for title, normalize in titles_options:\n",
    "    disp = plot_confusion_matrix(new_model, X_test, y_test,\n",
    "                                 display_labels=['no_def', 'def'],\n",
    "                                 cmap=plt.cm.Blues,\n",
    "                                 normalize=normalize)\n",
    "    disp.ax_.set_title(title)\n",
    "\n",
    "    print(title)\n",
    "    print(disp.confusion_matrix)\n",
    "\n",
    "plt.show()"
   ]
  },
  {
   "cell_type": "markdown",
   "metadata": {
    "papermill": {
     "duration": 0.066129,
     "end_time": "2021-03-30T18:01:24.539639",
     "exception": false,
     "start_time": "2021-03-30T18:01:24.473510",
     "status": "completed"
    },
    "tags": []
   },
   "source": [
    "Настройка модели не повлияла на метрику ROC-AUC, но существенно увеличила f1-score и recall. Значительно уменьшилось число дефолтных клиентов, которым модель была готова выдать кредит, и увеличилось число дефолтных клиентов, которые модель определила правильно. При этом выросло число клиентов, которым модель в кредите отказала, хотя они недефолтные.\n",
    "\n",
    "В целом, модель стала более сбалансированной."
   ]
  },
  {
   "cell_type": "markdown",
   "metadata": {
    "papermill": {
     "duration": 0.069382,
     "end_time": "2021-03-30T18:01:24.675266",
     "exception": false,
     "start_time": "2021-03-30T18:01:24.605884",
     "status": "completed"
    },
    "tags": []
   },
   "source": [
    "# Предсказание дефолтных клиентов"
   ]
  },
  {
   "cell_type": "code",
   "execution_count": 50,
   "metadata": {
    "execution": {
     "iopub.execute_input": "2021-03-30T18:01:24.817144Z",
     "iopub.status.busy": "2021-03-30T18:01:24.816398Z",
     "iopub.status.idle": "2021-03-30T18:01:24.826203Z",
     "shell.execute_reply": "2021-03-30T18:01:24.825687Z"
    },
    "papermill": {
     "duration": 0.083347,
     "end_time": "2021-03-30T18:01:24.826359",
     "exception": false,
     "start_time": "2021-03-30T18:01:24.743012",
     "status": "completed"
    },
    "tags": []
   },
   "outputs": [],
   "source": [
    "# выделяем тестовый датасет из датасета data\n",
    "data_test = data[data['train'] == 0]\n",
    "data_test = data_test.drop(['train'], axis=1)"
   ]
  },
  {
   "cell_type": "code",
   "execution_count": 51,
   "metadata": {
    "execution": {
     "iopub.execute_input": "2021-03-30T18:01:24.977225Z",
     "iopub.status.busy": "2021-03-30T18:01:24.970443Z",
     "iopub.status.idle": "2021-03-30T18:01:24.982138Z",
     "shell.execute_reply": "2021-03-30T18:01:24.981654Z"
    },
    "papermill": {
     "duration": 0.089306,
     "end_time": "2021-03-30T18:01:24.982284",
     "exception": false,
     "start_time": "2021-03-30T18:01:24.892978",
     "status": "completed"
    },
    "tags": []
   },
   "outputs": [
    {
     "data": {
      "text/html": [
       "<div>\n",
       "<style scoped>\n",
       "    .dataframe tbody tr th:only-of-type {\n",
       "        vertical-align: middle;\n",
       "    }\n",
       "\n",
       "    .dataframe tbody tr th {\n",
       "        vertical-align: top;\n",
       "    }\n",
       "\n",
       "    .dataframe thead th {\n",
       "        text-align: right;\n",
       "    }\n",
       "</style>\n",
       "<table border=\"1\" class=\"dataframe\">\n",
       "  <thead>\n",
       "    <tr style=\"text-align: right;\">\n",
       "      <th></th>\n",
       "      <th>client_id</th>\n",
       "      <th>education</th>\n",
       "      <th>sex</th>\n",
       "      <th>age</th>\n",
       "      <th>decline_app_cnt</th>\n",
       "      <th>good_work</th>\n",
       "      <th>score_bki</th>\n",
       "      <th>bki_request_cnt</th>\n",
       "      <th>region_rating</th>\n",
       "      <th>home_address</th>\n",
       "      <th>work_address</th>\n",
       "      <th>income</th>\n",
       "      <th>sna</th>\n",
       "      <th>first_time</th>\n",
       "      <th>foreign_passport</th>\n",
       "      <th>default</th>\n",
       "      <th>new_car</th>\n",
       "      <th>day</th>\n",
       "    </tr>\n",
       "  </thead>\n",
       "  <tbody>\n",
       "    <tr>\n",
       "      <th>73799</th>\n",
       "      <td>74835</td>\n",
       "      <td>1</td>\n",
       "      <td>1</td>\n",
       "      <td>3.401197</td>\n",
       "      <td>0.000000</td>\n",
       "      <td>0</td>\n",
       "      <td>-2.271884</td>\n",
       "      <td>1.386294</td>\n",
       "      <td>50</td>\n",
       "      <td>1</td>\n",
       "      <td>2</td>\n",
       "      <td>10.819798</td>\n",
       "      <td>1</td>\n",
       "      <td>4</td>\n",
       "      <td>0</td>\n",
       "      <td>0</td>\n",
       "      <td>2</td>\n",
       "      <td>80</td>\n",
       "    </tr>\n",
       "    <tr>\n",
       "      <th>73800</th>\n",
       "      <td>17527</td>\n",
       "      <td>3</td>\n",
       "      <td>0</td>\n",
       "      <td>3.688879</td>\n",
       "      <td>1.791759</td>\n",
       "      <td>0</td>\n",
       "      <td>-1.504999</td>\n",
       "      <td>1.098612</td>\n",
       "      <td>50</td>\n",
       "      <td>1</td>\n",
       "      <td>2</td>\n",
       "      <td>8.517393</td>\n",
       "      <td>4</td>\n",
       "      <td>3</td>\n",
       "      <td>0</td>\n",
       "      <td>0</td>\n",
       "      <td>0</td>\n",
       "      <td>23</td>\n",
       "    </tr>\n",
       "    <tr>\n",
       "      <th>73801</th>\n",
       "      <td>75683</td>\n",
       "      <td>4</td>\n",
       "      <td>1</td>\n",
       "      <td>3.931826</td>\n",
       "      <td>0.000000</td>\n",
       "      <td>0</td>\n",
       "      <td>-1.691339</td>\n",
       "      <td>0.693147</td>\n",
       "      <td>50</td>\n",
       "      <td>1</td>\n",
       "      <td>2</td>\n",
       "      <td>10.308986</td>\n",
       "      <td>1</td>\n",
       "      <td>3</td>\n",
       "      <td>1</td>\n",
       "      <td>0</td>\n",
       "      <td>2</td>\n",
       "      <td>81</td>\n",
       "    </tr>\n",
       "    <tr>\n",
       "      <th>73802</th>\n",
       "      <td>26883</td>\n",
       "      <td>3</td>\n",
       "      <td>1</td>\n",
       "      <td>4.043051</td>\n",
       "      <td>0.000000</td>\n",
       "      <td>0</td>\n",
       "      <td>-2.374182</td>\n",
       "      <td>0.693147</td>\n",
       "      <td>40</td>\n",
       "      <td>1</td>\n",
       "      <td>2</td>\n",
       "      <td>9.741027</td>\n",
       "      <td>1</td>\n",
       "      <td>3</td>\n",
       "      <td>0</td>\n",
       "      <td>0</td>\n",
       "      <td>0</td>\n",
       "      <td>33</td>\n",
       "    </tr>\n",
       "    <tr>\n",
       "      <th>73803</th>\n",
       "      <td>28862</td>\n",
       "      <td>1</td>\n",
       "      <td>0</td>\n",
       "      <td>3.663562</td>\n",
       "      <td>0.000000</td>\n",
       "      <td>0</td>\n",
       "      <td>-2.487502</td>\n",
       "      <td>0.000000</td>\n",
       "      <td>80</td>\n",
       "      <td>2</td>\n",
       "      <td>3</td>\n",
       "      <td>11.695255</td>\n",
       "      <td>1</td>\n",
       "      <td>3</td>\n",
       "      <td>0</td>\n",
       "      <td>0</td>\n",
       "      <td>0</td>\n",
       "      <td>34</td>\n",
       "    </tr>\n",
       "  </tbody>\n",
       "</table>\n",
       "</div>"
      ],
      "text/plain": [
       "       client_id  education  sex       age  decline_app_cnt  good_work  \\\n",
       "73799      74835          1    1  3.401197         0.000000          0   \n",
       "73800      17527          3    0  3.688879         1.791759          0   \n",
       "73801      75683          4    1  3.931826         0.000000          0   \n",
       "73802      26883          3    1  4.043051         0.000000          0   \n",
       "73803      28862          1    0  3.663562         0.000000          0   \n",
       "\n",
       "       score_bki  bki_request_cnt  region_rating  home_address  work_address  \\\n",
       "73799  -2.271884         1.386294             50             1             2   \n",
       "73800  -1.504999         1.098612             50             1             2   \n",
       "73801  -1.691339         0.693147             50             1             2   \n",
       "73802  -2.374182         0.693147             40             1             2   \n",
       "73803  -2.487502         0.000000             80             2             3   \n",
       "\n",
       "          income  sna  first_time  foreign_passport  default  new_car  day  \n",
       "73799  10.819798    1           4                 0        0        2   80  \n",
       "73800   8.517393    4           3                 0        0        0   23  \n",
       "73801  10.308986    1           3                 1        0        2   81  \n",
       "73802   9.741027    1           3                 0        0        0   33  \n",
       "73803  11.695255    1           3                 0        0        0   34  "
      ]
     },
     "execution_count": 51,
     "metadata": {},
     "output_type": "execute_result"
    }
   ],
   "source": [
    "data_test.head()"
   ]
  },
  {
   "cell_type": "code",
   "execution_count": 52,
   "metadata": {
    "execution": {
     "iopub.execute_input": "2021-03-30T18:01:25.122622Z",
     "iopub.status.busy": "2021-03-30T18:01:25.121967Z",
     "iopub.status.idle": "2021-03-30T18:01:25.135443Z",
     "shell.execute_reply": "2021-03-30T18:01:25.135918Z"
    },
    "papermill": {
     "duration": 0.086495,
     "end_time": "2021-03-30T18:01:25.136100",
     "exception": false,
     "start_time": "2021-03-30T18:01:25.049605",
     "status": "completed"
    },
    "tags": []
   },
   "outputs": [
    {
     "name": "stdout",
     "output_type": "stream",
     "text": [
      "<class 'pandas.core.frame.DataFrame'>\n",
      "Int64Index: 36349 entries, 73799 to 110147\n",
      "Data columns (total 18 columns):\n",
      " #   Column            Non-Null Count  Dtype  \n",
      "---  ------            --------------  -----  \n",
      " 0   client_id         36349 non-null  int64  \n",
      " 1   education         36349 non-null  int64  \n",
      " 2   sex               36349 non-null  int64  \n",
      " 3   age               36349 non-null  float64\n",
      " 4   decline_app_cnt   36349 non-null  float64\n",
      " 5   good_work         36349 non-null  int64  \n",
      " 6   score_bki         36349 non-null  float64\n",
      " 7   bki_request_cnt   36349 non-null  float64\n",
      " 8   region_rating     36349 non-null  int64  \n",
      " 9   home_address      36349 non-null  int64  \n",
      " 10  work_address      36349 non-null  int64  \n",
      " 11  income            36349 non-null  float64\n",
      " 12  sna               36349 non-null  int64  \n",
      " 13  first_time        36349 non-null  int64  \n",
      " 14  foreign_passport  36349 non-null  int64  \n",
      " 15  default           36349 non-null  int64  \n",
      " 16  new_car           36349 non-null  int64  \n",
      " 17  day               36349 non-null  int64  \n",
      "dtypes: float64(5), int64(13)\n",
      "memory usage: 5.3 MB\n"
     ]
    }
   ],
   "source": [
    "data_test.info()"
   ]
  },
  {
   "cell_type": "code",
   "execution_count": 53,
   "metadata": {
    "execution": {
     "iopub.execute_input": "2021-03-30T18:01:25.277771Z",
     "iopub.status.busy": "2021-03-30T18:01:25.276759Z",
     "iopub.status.idle": "2021-03-30T18:01:25.305015Z",
     "shell.execute_reply": "2021-03-30T18:01:25.304463Z"
    },
    "papermill": {
     "duration": 0.102079,
     "end_time": "2021-03-30T18:01:25.305174",
     "exception": false,
     "start_time": "2021-03-30T18:01:25.203095",
     "status": "completed"
    },
    "tags": []
   },
   "outputs": [
    {
     "data": {
      "text/plain": [
       "array([[0., 1., 0., ..., 0., 0., 0.],\n",
       "       [0., 0., 0., ..., 0., 0., 0.],\n",
       "       [0., 0., 0., ..., 0., 0., 0.],\n",
       "       ...,\n",
       "       [0., 1., 0., ..., 0., 0., 0.],\n",
       "       [0., 0., 0., ..., 0., 0., 1.],\n",
       "       [0., 0., 0., ..., 0., 0., 0.]])"
      ]
     },
     "execution_count": 53,
     "metadata": {},
     "output_type": "execute_result"
    }
   ],
   "source": [
    "# преобразуем категориальные переменные методом One-Hot Encoding\n",
    "data_test_cat = OneHotEncoder(sparse=False).fit_transform(\n",
    "    data_test[cat_cols].values)\n",
    "data_test_cat"
   ]
  },
  {
   "cell_type": "code",
   "execution_count": 54,
   "metadata": {
    "execution": {
     "iopub.execute_input": "2021-03-30T18:01:25.449901Z",
     "iopub.status.busy": "2021-03-30T18:01:25.449269Z",
     "iopub.status.idle": "2021-03-30T18:01:25.463996Z",
     "shell.execute_reply": "2021-03-30T18:01:25.463348Z"
    },
    "papermill": {
     "duration": 0.088942,
     "end_time": "2021-03-30T18:01:25.464157",
     "exception": false,
     "start_time": "2021-03-30T18:01:25.375215",
     "status": "completed"
    },
    "tags": []
   },
   "outputs": [],
   "source": [
    "# стандартизируем числовые переменные\n",
    "data_test_num = StandardScaler().fit_transform(data_test[num_cols].values)\n",
    "\n",
    "# объединяем категориальные, бинарные, числовые признаки в одно признаковое пространство\n",
    "X = np.hstack([data_test_num, data_test[bin_cols].values, data_test_cat])\n",
    "y = data_test['default'].values"
   ]
  },
  {
   "cell_type": "code",
   "execution_count": 55,
   "metadata": {
    "execution": {
     "iopub.execute_input": "2021-03-30T18:01:25.603666Z",
     "iopub.status.busy": "2021-03-30T18:01:25.603003Z",
     "iopub.status.idle": "2021-03-30T18:01:25.612154Z",
     "shell.execute_reply": "2021-03-30T18:01:25.611480Z"
    },
    "papermill": {
     "duration": 0.079264,
     "end_time": "2021-03-30T18:01:25.612299",
     "exception": false,
     "start_time": "2021-03-30T18:01:25.533035",
     "status": "completed"
    },
    "tags": []
   },
   "outputs": [],
   "source": [
    "# делаем расчет\n",
    "y = new_model.predict_proba(X)\n",
    "y = y[:, 1]"
   ]
  },
  {
   "cell_type": "code",
   "execution_count": 56,
   "metadata": {
    "execution": {
     "iopub.execute_input": "2021-03-30T18:01:25.753051Z",
     "iopub.status.busy": "2021-03-30T18:01:25.752393Z",
     "iopub.status.idle": "2021-03-30T18:01:25.847894Z",
     "shell.execute_reply": "2021-03-30T18:01:25.848430Z"
    },
    "papermill": {
     "duration": 0.167193,
     "end_time": "2021-03-30T18:01:25.848607",
     "exception": false,
     "start_time": "2021-03-30T18:01:25.681414",
     "status": "completed"
    },
    "tags": []
   },
   "outputs": [],
   "source": [
    "# Создаем файл\n",
    "submit = pd.DataFrame(data_test.client_id)\n",
    "submit['default'] = y\n",
    "submit.to_csv('submission.csv', index=False)"
   ]
  },
  {
   "cell_type": "markdown",
   "metadata": {
    "papermill": {
     "duration": 0.067642,
     "end_time": "2021-03-30T18:01:25.983768",
     "exception": false,
     "start_time": "2021-03-30T18:01:25.916126",
     "status": "completed"
    },
    "tags": []
   },
   "source": [
    "Выводы.\n",
    "\n",
    "Значение метрики ROC AUC - 0.743.\n",
    "\n",
    "При этом низкие значения метрик f1-score и precision указывают на то, что модель часто отказывает в выдаче кредита надежным клиентам.\n"
   ]
  }
 ],
 "metadata": {
  "kernelspec": {
   "display_name": "Python 3",
   "language": "python",
   "name": "python3"
  },
  "language_info": {
   "codemirror_mode": {
    "name": "ipython",
    "version": 3
   },
   "file_extension": ".py",
   "mimetype": "text/x-python",
   "name": "python",
   "nbconvert_exporter": "python",
   "pygments_lexer": "ipython3",
   "version": "3.7.9"
  },
  "papermill": {
   "default_parameters": {},
   "duration": 324.395074,
   "end_time": "2021-03-30T18:01:26.964252",
   "environment_variables": {},
   "exception": null,
   "input_path": "__notebook__.ipynb",
   "output_path": "__notebook__.ipynb",
   "parameters": {},
   "start_time": "2021-03-30T17:56:02.569178",
   "version": "2.2.2"
  }
 },
 "nbformat": 4,
 "nbformat_minor": 4
}

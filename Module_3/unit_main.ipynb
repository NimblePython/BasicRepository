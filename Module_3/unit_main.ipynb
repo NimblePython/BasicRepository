{
 "cells": [
  {
   "cell_type": "code",
   "execution_count": 1,
   "metadata": {},
   "outputs": [],
   "source": [
    "import pandas as pd"
   ]
  },
  {
   "cell_type": "code",
   "execution_count": 2,
   "metadata": {},
   "outputs": [],
   "source": [
    "df = pd.read_csv('/Users/ruslansafarov/Documents/GitHub/BasicRepository/Unit_3/main_task.csv')"
   ]
  },
  {
   "cell_type": "code",
   "execution_count": 3,
   "metadata": {},
   "outputs": [
    {
     "name": "stdout",
     "output_type": "stream",
     "text": [
      "Restaurant_id 0\n",
      "City 0\n",
      "Cuisine Style 9283\n",
      "Ranking 0\n",
      "Rating 0\n",
      "Price Range 13886\n",
      "Number of Reviews 2543\n",
      "Reviews 0\n",
      "URL_TA 0\n",
      "ID_TA 0\n"
     ]
    }
   ],
   "source": [
    "# посчитаем число пустых ячеек в каждой колонке\n",
    "for col in df.columns:\n",
    "    print(col, df[col].isna().sum())"
   ]
  },
  {
   "cell_type": "code",
   "execution_count": 4,
   "metadata": {
    "collapsed": true
   },
   "outputs": [
    {
     "name": "stdout",
     "output_type": "stream",
     "text": [
      "<class 'pandas.core.frame.DataFrame'>\n",
      "RangeIndex: 40000 entries, 0 to 39999\n",
      "Data columns (total 10 columns):\n",
      " #   Column             Non-Null Count  Dtype  \n",
      "---  ------             --------------  -----  \n",
      " 0   Restaurant_id      40000 non-null  object \n",
      " 1   City               40000 non-null  object \n",
      " 2   Cuisine Style      30717 non-null  object \n",
      " 3   Ranking            40000 non-null  float64\n",
      " 4   Rating             40000 non-null  float64\n",
      " 5   Price Range        26114 non-null  object \n",
      " 6   Number of Reviews  37457 non-null  float64\n",
      " 7   Reviews            40000 non-null  object \n",
      " 8   URL_TA             40000 non-null  object \n",
      " 9   ID_TA              40000 non-null  object \n",
      "dtypes: float64(3), object(7)\n",
      "memory usage: 3.1+ MB\n"
     ]
    }
   ],
   "source": [
    "df.info()"
   ]
  },
  {
   "cell_type": "code",
   "execution_count": 4,
   "metadata": {},
   "outputs": [
    {
     "name": "stdout",
     "output_type": "stream",
     "text": [
      "<class 'str'>\n",
      "<class 'str'>\n",
      "<class 'str'>\n",
      "<class 'numpy.float64'>\n",
      "<class 'numpy.float64'>\n",
      "<class 'str'>\n",
      "<class 'numpy.float64'>\n",
      "<class 'str'>\n",
      "<class 'str'>\n",
      "<class 'str'>\n"
     ]
    }
   ],
   "source": [
    "# узнаем типы значений в колонках\n",
    "for col in df.columns:\n",
    "    print(type(df[col].iloc[0]))"
   ]
  },
  {
   "cell_type": "code",
   "execution_count": 39,
   "metadata": {},
   "outputs": [],
   "source": [
    "# Разбиваем датафрейм на части, необходимые для обучения и тестирования модели  \n",
    "# Х - данные с информацией о ресторанах, у - целевая переменная (рейтинги ресторанов)  \n",
    "X = df.drop(['Restaurant_id', \n",
    "             'Rating', \n",
    "             'City',\n",
    "             'Cuisine Style',\n",
    "             'CuisineList',\n",
    "             'Price Range',\n",
    "             'Reviews',\n",
    "             'DateTime1',\n",
    "             'DateTime2',\n",
    "             'URL_TA',\n",
    "             'ID_TA'], axis = 1) "
   ]
  },
  {
   "cell_type": "code",
   "execution_count": 40,
   "metadata": {},
   "outputs": [
    {
     "data": {
      "text/html": [
       "<div>\n",
       "<style scoped>\n",
       "    .dataframe tbody tr th:only-of-type {\n",
       "        vertical-align: middle;\n",
       "    }\n",
       "\n",
       "    .dataframe tbody tr th {\n",
       "        vertical-align: top;\n",
       "    }\n",
       "\n",
       "    .dataframe thead th {\n",
       "        text-align: right;\n",
       "    }\n",
       "</style>\n",
       "<table border=\"1\" class=\"dataframe\">\n",
       "  <thead>\n",
       "    <tr style=\"text-align: right;\">\n",
       "      <th></th>\n",
       "      <th>Ranking</th>\n",
       "      <th>Number of Reviews</th>\n",
       "      <th>high_price</th>\n",
       "      <th>low_price</th>\n",
       "      <th>middle_price</th>\n",
       "      <th>unknown_price</th>\n",
       "      <th>Berlin</th>\n",
       "      <th>London</th>\n",
       "      <th>Madrid</th>\n",
       "      <th>Milan</th>\n",
       "      <th>...</th>\n",
       "      <th>CuisineCnt</th>\n",
       "      <th>UnknownCausine</th>\n",
       "      <th>c_European</th>\n",
       "      <th>c_Gluten Free Options</th>\n",
       "      <th>c_Italian</th>\n",
       "      <th>c_Mediterranean</th>\n",
       "      <th>c_Other</th>\n",
       "      <th>c_Vegan Options</th>\n",
       "      <th>c_Vegetarian Friendly</th>\n",
       "      <th>DaysBetween</th>\n",
       "    </tr>\n",
       "  </thead>\n",
       "  <tbody>\n",
       "    <tr>\n",
       "      <th>0</th>\n",
       "      <td>5570.0</td>\n",
       "      <td>194.0</td>\n",
       "      <td>0</td>\n",
       "      <td>0</td>\n",
       "      <td>1</td>\n",
       "      <td>0</td>\n",
       "      <td>0</td>\n",
       "      <td>0</td>\n",
       "      <td>0</td>\n",
       "      <td>0</td>\n",
       "      <td>...</td>\n",
       "      <td>3</td>\n",
       "      <td>0</td>\n",
       "      <td>1</td>\n",
       "      <td>0</td>\n",
       "      <td>0</td>\n",
       "      <td>0</td>\n",
       "      <td>1</td>\n",
       "      <td>0</td>\n",
       "      <td>0</td>\n",
       "      <td>41.0</td>\n",
       "    </tr>\n",
       "    <tr>\n",
       "      <th>1</th>\n",
       "      <td>1537.0</td>\n",
       "      <td>10.0</td>\n",
       "      <td>0</td>\n",
       "      <td>0</td>\n",
       "      <td>0</td>\n",
       "      <td>1</td>\n",
       "      <td>0</td>\n",
       "      <td>0</td>\n",
       "      <td>0</td>\n",
       "      <td>0</td>\n",
       "      <td>...</td>\n",
       "      <td>0</td>\n",
       "      <td>1</td>\n",
       "      <td>0</td>\n",
       "      <td>0</td>\n",
       "      <td>0</td>\n",
       "      <td>0</td>\n",
       "      <td>0</td>\n",
       "      <td>0</td>\n",
       "      <td>0</td>\n",
       "      <td>382.0</td>\n",
       "    </tr>\n",
       "  </tbody>\n",
       "</table>\n",
       "<p>2 rows × 23 columns</p>\n",
       "</div>"
      ],
      "text/plain": [
       "   Ranking  Number of Reviews  high_price  low_price  middle_price  \\\n",
       "0   5570.0              194.0           0          0             1   \n",
       "1   1537.0               10.0           0          0             0   \n",
       "\n",
       "   unknown_price  Berlin  London  Madrid  Milan  ...  CuisineCnt  \\\n",
       "0              0       0       0       0      0  ...           3   \n",
       "1              1       0       0       0      0  ...           0   \n",
       "\n",
       "   UnknownCausine  c_European  c_Gluten Free Options  c_Italian  \\\n",
       "0               0           1                      0          0   \n",
       "1               1           0                      0          0   \n",
       "\n",
       "   c_Mediterranean  c_Other  c_Vegan Options  c_Vegetarian Friendly  \\\n",
       "0                0        1                0                      0   \n",
       "1                0        0                0                      0   \n",
       "\n",
       "   DaysBetween  \n",
       "0         41.0  \n",
       "1        382.0  \n",
       "\n",
       "[2 rows x 23 columns]"
      ]
     },
     "execution_count": 40,
     "metadata": {},
     "output_type": "execute_result"
    }
   ],
   "source": [
    "X.head(2)"
   ]
  },
  {
   "cell_type": "code",
   "execution_count": 41,
   "metadata": {
    "scrolled": true
   },
   "outputs": [],
   "source": [
    "# заполняем все пропуски средними значениями\n",
    "# понимая, что в даммис переменных прпусков нет\n",
    "for col in X.columns:\n",
    "    val = X[col].mean()\n",
    "    X[col].fillna(val, inplace=True)\n",
    "\n",
    "y = df['Rating']  \n",
    "  \n",
    "# Загружаем специальный инструмент для разбивки:  \n",
    "from sklearn.model_selection import train_test_split  \n",
    "  \n",
    "# Наборы данных с меткой \"train\" будут использоваться для обучения модели, \"test\" - для тестирования.  \n",
    "# Для тестирования мы будем использовать 25% от исходного датасета.  \n",
    "X_train, X_test, y_train, y_test = train_test_split(X, y, test_size=0.25)  "
   ]
  },
  {
   "cell_type": "code",
   "execution_count": 42,
   "metadata": {},
   "outputs": [
    {
     "data": {
      "text/plain": [
       "0"
      ]
     },
     "execution_count": 42,
     "metadata": {},
     "output_type": "execute_result"
    }
   ],
   "source": [
    "X['Number of Reviews'].isna().sum()"
   ]
  },
  {
   "cell_type": "code",
   "execution_count": 43,
   "metadata": {},
   "outputs": [
    {
     "data": {
      "text/plain": [
       "0"
      ]
     },
     "execution_count": 43,
     "metadata": {},
     "output_type": "execute_result"
    }
   ],
   "source": [
    "X['Ranking'].isna().sum()"
   ]
  },
  {
   "cell_type": "code",
   "execution_count": 44,
   "metadata": {},
   "outputs": [],
   "source": [
    "# Импортируем необходимые библиотеки:  \n",
    "from sklearn.ensemble import RandomForestRegressor # инструмент для создания и обучения модели  \n",
    "from sklearn import metrics # инструменты для оценки точности модели  \n",
    "  \n",
    "# Создаём модель  \n",
    "regr = RandomForestRegressor(n_estimators=100)  \n",
    "  \n",
    "# Обучаем модель на тестовом наборе данных  \n",
    "regr.fit(X_train, y_train)  \n",
    "  \n",
    "# Используем обученную модель для предсказания рейтинга ресторанов в тестовой выборке.  \n",
    "# Предсказанные значения записываем в переменную y_pred  \n",
    "y_pred = regr.predict(X_test) "
   ]
  },
  {
   "cell_type": "code",
   "execution_count": 45,
   "metadata": {},
   "outputs": [
    {
     "name": "stdout",
     "output_type": "stream",
     "text": [
      "MAE: 0.2810001202380953\n"
     ]
    }
   ],
   "source": [
    "# Сравниваем предсказанные значения (y_pred) с реальными (y_test), и смотрим насколько они в среднем отличаются  \n",
    "# Метрика называется Mean Absolute Error (MAE) и показывает среднее отклонение предсказанных значений от фактических.  \n",
    "print('MAE:', metrics.mean_absolute_error(y_test, y_pred))  "
   ]
  },
  {
   "cell_type": "markdown",
   "metadata": {},
   "source": [
    "# НАЧИНАЕМ ПОДГОТОВКУ ДАННЫХ И ФИЧАИНЖИНИРИНГ"
   ]
  },
  {
   "cell_type": "code",
   "execution_count": 7,
   "metadata": {},
   "outputs": [
    {
     "data": {
      "text/plain": [
       "$$ - $$$    18412\n",
       "$            6279\n",
       "$$$$         1423\n",
       "Name: Price Range, dtype: int64"
      ]
     },
     "execution_count": 7,
     "metadata": {},
     "output_type": "execute_result"
    }
   ],
   "source": [
    "df['Price Range'].value_counts()"
   ]
  },
  {
   "cell_type": "code",
   "execution_count": 8,
   "metadata": {},
   "outputs": [
    {
     "data": {
      "text/plain": [
       "18412"
      ]
     },
     "execution_count": 8,
     "metadata": {},
     "output_type": "execute_result"
    }
   ],
   "source": [
    "len(df[df['Price Range'] == '$$ - $$$'])"
   ]
  },
  {
   "cell_type": "code",
   "execution_count": 9,
   "metadata": {},
   "outputs": [],
   "source": [
    "def renprice(cell):\n",
    "    if cell=='$':\n",
    "        return 'low_price'\n",
    "    elif cell=='$$ - $$$':\n",
    "        return 'middle_price'\n",
    "    elif cell=='$$$$':\n",
    "        return 'high_price'\n",
    "    else:\n",
    "        return 'unknown_price'\n",
    "\n",
    "df['Price Range'] = df['Price Range'].apply(renprice)"
   ]
  },
  {
   "cell_type": "code",
   "execution_count": 10,
   "metadata": {},
   "outputs": [],
   "source": [
    "df = df.join(pd.get_dummies(df['Price Range']))"
   ]
  },
  {
   "cell_type": "code",
   "execution_count": 11,
   "metadata": {},
   "outputs": [
    {
     "data": {
      "text/plain": [
       "array(['Paris', 'Stockholm', 'London', 'Berlin', 'Munich', 'Oporto',\n",
       "       'Milan', 'Bratislava', 'Vienna', 'Rome', 'Barcelona', 'Madrid',\n",
       "       'Dublin', 'Brussels', 'Zurich', 'Warsaw', 'Budapest', 'Copenhagen',\n",
       "       'Amsterdam', 'Lyon', 'Hamburg', 'Lisbon', 'Prague', 'Oslo',\n",
       "       'Helsinki', 'Edinburgh', 'Geneva', 'Ljubljana', 'Athens',\n",
       "       'Luxembourg', 'Krakow'], dtype=object)"
      ]
     },
     "execution_count": 11,
     "metadata": {},
     "output_type": "execute_result"
    }
   ],
   "source": [
    "df.City.unique()"
   ]
  },
  {
   "cell_type": "code",
   "execution_count": 12,
   "metadata": {},
   "outputs": [],
   "source": [
    "import numpy as np\n",
    "cities_freq = list(df.City.value_counts())"
   ]
  },
  {
   "cell_type": "code",
   "execution_count": 13,
   "metadata": {},
   "outputs": [
    {
     "data": {
      "text/plain": [
       "2734"
      ]
     },
     "execution_count": 13,
     "metadata": {},
     "output_type": "execute_result"
    }
   ],
   "source": [
    "# ‘linear’, ‘lower’, ‘higher’, ‘midpoint’, ‘nearest’\n",
    "np.percentile(cities_freq, 90, interpolation='nearest')"
   ]
  },
  {
   "cell_type": "code",
   "execution_count": 14,
   "metadata": {},
   "outputs": [
    {
     "data": {
      "text/plain": [
       "2078"
      ]
     },
     "execution_count": 14,
     "metadata": {},
     "output_type": "execute_result"
    }
   ],
   "source": [
    "top_cities_count = int(np.percentile(cities_freq, 80))\n",
    "top_cities_count"
   ]
  },
  {
   "cell_type": "code",
   "execution_count": 15,
   "metadata": {},
   "outputs": [],
   "source": [
    "all_cities = df.City.value_counts().index\n",
    "vcounts_cities = df.City.value_counts() \n",
    "top_cities = vcounts_cities[vcounts_cities>=top_cities_count].index\n",
    "#cities_to_trow_away = list(set(all_cities) - set(top_cities))\n",
    "df.loc[~df['City'].isin(top_cities), 'City'] = \"UnknownCity\""
   ]
  },
  {
   "cell_type": "code",
   "execution_count": 16,
   "metadata": {},
   "outputs": [],
   "source": [
    "df = df.join(pd.get_dummies(df.City, drop_first=True))"
   ]
  },
  {
   "cell_type": "code",
   "execution_count": 17,
   "metadata": {},
   "outputs": [],
   "source": [
    "def str_to_list(cell):\n",
    "    bad_chars = \"[/\\.<>]'\"\n",
    "    lst = ['UnknownCausine']\n",
    "\n",
    "    if not isinstance(cell, float):\n",
    "        for ch in bad_chars:\n",
    "            cell = cell.replace(ch, '')\n",
    "        lst = cell.split(', ')\n",
    "        \n",
    "        #добавим префикс, чтобы не путать визуально с городами\n",
    "        for i in range(len(lst)):\n",
    "            newstr = \"c_\" + lst[i] \n",
    "            lst[i] = newstr \n",
    "\n",
    "    return lst\n",
    "\n",
    "cuisine_list = df['Cuisine Style'].apply(str_to_list)\n",
    "df['CuisineList'] = cuisine_list"
   ]
  },
  {
   "cell_type": "code",
   "execution_count": 18,
   "metadata": {},
   "outputs": [],
   "source": [
    "lst = []\n",
    "for itm in cuisine_list:\n",
    "    if itm[0] !='UnknownCausine':\n",
    "        lst.append(len(itm))\n",
    "    else:\n",
    "        lst.append(0)\n",
    "df['CuisineCnt'] = lst"
   ]
  },
  {
   "cell_type": "code",
   "execution_count": 19,
   "metadata": {},
   "outputs": [],
   "source": [
    "import collections\n",
    "c = collections.Counter()\n",
    "for lst in cuisine_list:\n",
    "    for itm in lst:\n",
    "        c[itm] += 1"
   ]
  },
  {
   "cell_type": "code",
   "execution_count": 20,
   "metadata": {},
   "outputs": [
    {
     "data": {
      "text/plain": [
       "[('c_Vegetarian Friendly', 11189),\n",
       " ('c_European', 10060),\n",
       " ('UnknownCausine', 9283),\n",
       " ('c_Mediterranean', 6277),\n",
       " ('c_Italian', 5964),\n",
       " ('c_Vegan Options', 4486),\n",
       " ('c_Gluten Free Options', 4113),\n",
       " ('c_Bar', 3297),\n",
       " ('c_French', 3190),\n",
       " ('c_Asian', 3011),\n",
       " ('c_Pizza', 2849),\n",
       " ('c_Spanish', 2798),\n",
       " ('c_Pub', 2449),\n",
       " ('c_Cafe', 2325),\n",
       " ('c_Fast Food', 1705),\n",
       " ('c_British', 1595),\n",
       " ('c_International', 1584),\n",
       " ('c_Seafood', 1505),\n",
       " ('c_Japanese', 1464),\n",
       " ('c_Central European', 1393),\n",
       " ('c_American', 1315),\n",
       " ('c_Sushi', 1156),\n",
       " ('c_Chinese', 1145),\n",
       " ('c_Portuguese', 1107),\n",
       " ('c_Indian', 1041),\n",
       " ('c_Middle Eastern', 782),\n",
       " ('c_Thai', 743),\n",
       " ('c_Wine Bar', 697),\n",
       " ('c_German', 662),\n",
       " ('c_Healthy', 620),\n",
       " ('c_Greek', 604),\n",
       " ('c_Halal', 598),\n",
       " ('c_Czech', 595),\n",
       " ('c_Fusion', 577),\n",
       " ('c_Steakhouse', 573),\n",
       " ('c_Barbecue', 555),\n",
       " ('c_Contemporary', 523),\n",
       " ('c_Vietnamese', 513),\n",
       " ('c_Eastern European', 496),\n",
       " ('c_Soups', 494),\n",
       " ('c_Grill', 490),\n",
       " ('c_Gastropub', 471),\n",
       " ('c_Mexican', 445),\n",
       " ('c_Turkish', 444),\n",
       " ('c_Delicatessen', 392),\n",
       " ('c_Austrian', 380),\n",
       " ('c_South American', 372),\n",
       " ('c_Polish', 365),\n",
       " ('c_Hungarian', 352),\n",
       " ('c_Scandinavian', 342),\n",
       " ('c_Lebanese', 329),\n",
       " ('c_Latin', 302),\n",
       " ('c_Diner', 295),\n",
       " ('c_Dutch', 294),\n",
       " ('c_Irish', 284),\n",
       " ('c_Belgian', 270),\n",
       " ('c_Street Food', 263),\n",
       " ('c_Brew Pub', 225),\n",
       " ('c_Swiss', 178),\n",
       " ('c_Danish', 177),\n",
       " ('c_Swedish', 171),\n",
       " ('c_Argentinean', 169),\n",
       " ('c_Korean', 167),\n",
       " ('c_Scottish', 163),\n",
       " ('c_African', 154),\n",
       " ('c_Moroccan', 141),\n",
       " ('c_Central American', 135),\n",
       " ('c_Brazilian', 127),\n",
       " ('c_Pakistani', 123),\n",
       " ('c_Peruvian', 94),\n",
       " ('c_Caribbean', 93),\n",
       " ('c_Nepali', 83),\n",
       " ('c_Balti', 83),\n",
       " ('c_Bangladeshi', 76),\n",
       " ('c_Norwegian', 75),\n",
       " ('c_Israeli', 74),\n",
       " ('c_Slovenian', 68),\n",
       " ('c_Indonesian', 59),\n",
       " ('c_Russian', 58),\n",
       " ('c_Persian', 53),\n",
       " ('c_Arabic', 51),\n",
       " ('c_Kosher', 48),\n",
       " ('c_Ethiopian', 42),\n",
       " ('c_Venezuelan', 40),\n",
       " ('c_Malaysian', 31),\n",
       " ('c_Croatian', 27),\n",
       " ('c_Jamaican', 25),\n",
       " ('c_Sri Lankan', 25),\n",
       " ('c_Tibetan', 24),\n",
       " ('c_Australian', 24),\n",
       " ('c_Cuban', 23),\n",
       " ('c_Taiwanese', 22),\n",
       " ('c_Afghani', 22),\n",
       " ('c_Hawaiian', 21),\n",
       " ('c_Tunisian', 21),\n",
       " ('c_Egyptian', 20),\n",
       " ('c_Colombian', 20),\n",
       " ('c_Cambodian', 20),\n",
       " ('c_Cajun & Creole', 20),\n",
       " ('c_Singaporean', 19),\n",
       " ('c_Ukrainian', 18),\n",
       " ('c_Southwestern', 17),\n",
       " ('c_Georgian', 17),\n",
       " ('c_Mongolian', 14),\n",
       " ('c_Armenian', 14),\n",
       " ('c_Central Asian', 12),\n",
       " ('c_Filipino', 12),\n",
       " ('c_Minority Chinese', 11),\n",
       " ('c_Romanian', 10),\n",
       " ('c_Chilean', 8),\n",
       " ('c_Albanian', 8),\n",
       " ('c_New Zealand', 6),\n",
       " ('c_Uzbek', 5),\n",
       " ('c_Canadian', 5),\n",
       " ('c_Ecuadorean', 4),\n",
       " ('c_Caucasian', 4),\n",
       " ('c_Native American', 4),\n",
       " ('c_Polynesian', 2),\n",
       " ('c_Azerbaijani', 2),\n",
       " ('c_Fujian', 2),\n",
       " ('c_Welsh', 2),\n",
       " ('c_Salvadoran', 1),\n",
       " ('c_Yunnan', 1),\n",
       " ('c_Xinjiang', 1),\n",
       " ('c_Burmese', 1),\n",
       " ('c_Latvian', 1)]"
      ]
     },
     "execution_count": 20,
     "metadata": {},
     "output_type": "execute_result"
    }
   ],
   "source": [
    "c.most_common()"
   ]
  },
  {
   "cell_type": "code",
   "execution_count": 21,
   "metadata": {},
   "outputs": [],
   "source": [
    "set_of_causines = set(c)\n",
    "val_of_causines = list(c.values())"
   ]
  },
  {
   "cell_type": "code",
   "execution_count": 22,
   "metadata": {},
   "outputs": [],
   "source": [
    "# создадим дамми переменные для кухонь мира встречающихся в 95% случаях выборки\n",
    "# ‘linear’, ‘lower’, ‘higher’, ‘midpoint’, ‘nearest’\n",
    "perc = np.percentile(val_of_causines, 95, interpolation='nearest')\n",
    "\n",
    "most_popular_causine = []\n",
    "for itm in c:\n",
    "    if c[itm]>=perc:\n",
    "        most_popular_causine.append(itm)\n",
    "\n",
    "df['CuisineList'] = df['CuisineList'].map(lambda x: list(set([i if i in most_popular_causine else 'c_Other' for i in x])))\n",
    "        \n"
   ]
  },
  {
   "cell_type": "code",
   "execution_count": 23,
   "metadata": {},
   "outputs": [],
   "source": [
    "df = df.join(pd.get_dummies(df['CuisineList'].apply(pd.Series).stack()).sum(level=0))"
   ]
  },
  {
   "cell_type": "code",
   "execution_count": 24,
   "metadata": {},
   "outputs": [
    {
     "data": {
      "text/html": [
       "<div>\n",
       "<style scoped>\n",
       "    .dataframe tbody tr th:only-of-type {\n",
       "        vertical-align: middle;\n",
       "    }\n",
       "\n",
       "    .dataframe tbody tr th {\n",
       "        vertical-align: top;\n",
       "    }\n",
       "\n",
       "    .dataframe thead th {\n",
       "        text-align: right;\n",
       "    }\n",
       "</style>\n",
       "<table border=\"1\" class=\"dataframe\">\n",
       "  <thead>\n",
       "    <tr style=\"text-align: right;\">\n",
       "      <th></th>\n",
       "      <th>Restaurant_id</th>\n",
       "      <th>City</th>\n",
       "      <th>Cuisine Style</th>\n",
       "      <th>Ranking</th>\n",
       "      <th>Rating</th>\n",
       "      <th>Price Range</th>\n",
       "      <th>Number of Reviews</th>\n",
       "      <th>Reviews</th>\n",
       "      <th>URL_TA</th>\n",
       "      <th>ID_TA</th>\n",
       "      <th>...</th>\n",
       "      <th>CuisineList</th>\n",
       "      <th>CuisineCnt</th>\n",
       "      <th>UnknownCausine</th>\n",
       "      <th>c_European</th>\n",
       "      <th>c_Gluten Free Options</th>\n",
       "      <th>c_Italian</th>\n",
       "      <th>c_Mediterranean</th>\n",
       "      <th>c_Other</th>\n",
       "      <th>c_Vegan Options</th>\n",
       "      <th>c_Vegetarian Friendly</th>\n",
       "    </tr>\n",
       "  </thead>\n",
       "  <tbody>\n",
       "    <tr>\n",
       "      <th>0</th>\n",
       "      <td>id_5569</td>\n",
       "      <td>Paris</td>\n",
       "      <td>['European', 'French', 'International']</td>\n",
       "      <td>5570.0</td>\n",
       "      <td>3.5</td>\n",
       "      <td>middle_price</td>\n",
       "      <td>194.0</td>\n",
       "      <td>[['Good food at your doorstep', 'A good hotel ...</td>\n",
       "      <td>/Restaurant_Review-g187147-d1912643-Reviews-R_...</td>\n",
       "      <td>d1912643</td>\n",
       "      <td>...</td>\n",
       "      <td>[c_European, c_Other]</td>\n",
       "      <td>3</td>\n",
       "      <td>0</td>\n",
       "      <td>1</td>\n",
       "      <td>0</td>\n",
       "      <td>0</td>\n",
       "      <td>0</td>\n",
       "      <td>1</td>\n",
       "      <td>0</td>\n",
       "      <td>0</td>\n",
       "    </tr>\n",
       "    <tr>\n",
       "      <th>1</th>\n",
       "      <td>id_1535</td>\n",
       "      <td>UnknownCity</td>\n",
       "      <td>NaN</td>\n",
       "      <td>1537.0</td>\n",
       "      <td>4.0</td>\n",
       "      <td>unknown_price</td>\n",
       "      <td>10.0</td>\n",
       "      <td>[['Unique cuisine', 'Delicious Nepalese food']...</td>\n",
       "      <td>/Restaurant_Review-g189852-d7992032-Reviews-Bu...</td>\n",
       "      <td>d7992032</td>\n",
       "      <td>...</td>\n",
       "      <td>[UnknownCausine]</td>\n",
       "      <td>0</td>\n",
       "      <td>1</td>\n",
       "      <td>0</td>\n",
       "      <td>0</td>\n",
       "      <td>0</td>\n",
       "      <td>0</td>\n",
       "      <td>0</td>\n",
       "      <td>0</td>\n",
       "      <td>0</td>\n",
       "    </tr>\n",
       "    <tr>\n",
       "      <th>2</th>\n",
       "      <td>id_352</td>\n",
       "      <td>London</td>\n",
       "      <td>['Japanese', 'Sushi', 'Asian', 'Grill', 'Veget...</td>\n",
       "      <td>353.0</td>\n",
       "      <td>4.5</td>\n",
       "      <td>high_price</td>\n",
       "      <td>688.0</td>\n",
       "      <td>[['Catch up with friends', 'Not exceptional'],...</td>\n",
       "      <td>/Restaurant_Review-g186338-d8632781-Reviews-RO...</td>\n",
       "      <td>d8632781</td>\n",
       "      <td>...</td>\n",
       "      <td>[c_Other, c_Gluten Free Options, c_Vegetarian ...</td>\n",
       "      <td>7</td>\n",
       "      <td>0</td>\n",
       "      <td>0</td>\n",
       "      <td>1</td>\n",
       "      <td>0</td>\n",
       "      <td>0</td>\n",
       "      <td>1</td>\n",
       "      <td>1</td>\n",
       "      <td>1</td>\n",
       "    </tr>\n",
       "    <tr>\n",
       "      <th>3</th>\n",
       "      <td>id_3456</td>\n",
       "      <td>Berlin</td>\n",
       "      <td>NaN</td>\n",
       "      <td>3458.0</td>\n",
       "      <td>5.0</td>\n",
       "      <td>unknown_price</td>\n",
       "      <td>3.0</td>\n",
       "      <td>[[], []]</td>\n",
       "      <td>/Restaurant_Review-g187323-d1358776-Reviews-Es...</td>\n",
       "      <td>d1358776</td>\n",
       "      <td>...</td>\n",
       "      <td>[UnknownCausine]</td>\n",
       "      <td>0</td>\n",
       "      <td>1</td>\n",
       "      <td>0</td>\n",
       "      <td>0</td>\n",
       "      <td>0</td>\n",
       "      <td>0</td>\n",
       "      <td>0</td>\n",
       "      <td>0</td>\n",
       "      <td>0</td>\n",
       "    </tr>\n",
       "    <tr>\n",
       "      <th>4</th>\n",
       "      <td>id_615</td>\n",
       "      <td>UnknownCity</td>\n",
       "      <td>['German', 'Central European', 'Vegetarian Fri...</td>\n",
       "      <td>621.0</td>\n",
       "      <td>4.0</td>\n",
       "      <td>middle_price</td>\n",
       "      <td>84.0</td>\n",
       "      <td>[['Best place to try a Bavarian food', 'Nice b...</td>\n",
       "      <td>/Restaurant_Review-g187309-d6864963-Reviews-Au...</td>\n",
       "      <td>d6864963</td>\n",
       "      <td>...</td>\n",
       "      <td>[c_Other, c_Vegetarian Friendly]</td>\n",
       "      <td>3</td>\n",
       "      <td>0</td>\n",
       "      <td>0</td>\n",
       "      <td>0</td>\n",
       "      <td>0</td>\n",
       "      <td>0</td>\n",
       "      <td>1</td>\n",
       "      <td>0</td>\n",
       "      <td>1</td>\n",
       "    </tr>\n",
       "    <tr>\n",
       "      <th>5</th>\n",
       "      <td>id_1418</td>\n",
       "      <td>UnknownCity</td>\n",
       "      <td>NaN</td>\n",
       "      <td>1419.0</td>\n",
       "      <td>3.0</td>\n",
       "      <td>unknown_price</td>\n",
       "      <td>2.0</td>\n",
       "      <td>[['There are better 3 star hotel bars', 'Amazi...</td>\n",
       "      <td>/Restaurant_Review-g189180-d12503536-Reviews-D...</td>\n",
       "      <td>d12503536</td>\n",
       "      <td>...</td>\n",
       "      <td>[UnknownCausine]</td>\n",
       "      <td>0</td>\n",
       "      <td>1</td>\n",
       "      <td>0</td>\n",
       "      <td>0</td>\n",
       "      <td>0</td>\n",
       "      <td>0</td>\n",
       "      <td>0</td>\n",
       "      <td>0</td>\n",
       "      <td>0</td>\n",
       "    </tr>\n",
       "    <tr>\n",
       "      <th>6</th>\n",
       "      <td>id_1720</td>\n",
       "      <td>Milan</td>\n",
       "      <td>['Italian', 'Pizza']</td>\n",
       "      <td>1722.0</td>\n",
       "      <td>4.0</td>\n",
       "      <td>low_price</td>\n",
       "      <td>50.0</td>\n",
       "      <td>[['Excellent simple local eatery.', 'Excellent...</td>\n",
       "      <td>/Restaurant_Review-g187849-d5808504-Reviews-Pi...</td>\n",
       "      <td>d5808504</td>\n",
       "      <td>...</td>\n",
       "      <td>[c_Other, c_Italian]</td>\n",
       "      <td>2</td>\n",
       "      <td>0</td>\n",
       "      <td>0</td>\n",
       "      <td>0</td>\n",
       "      <td>1</td>\n",
       "      <td>0</td>\n",
       "      <td>1</td>\n",
       "      <td>0</td>\n",
       "      <td>0</td>\n",
       "    </tr>\n",
       "    <tr>\n",
       "      <th>7</th>\n",
       "      <td>id_825</td>\n",
       "      <td>UnknownCity</td>\n",
       "      <td>['Italian']</td>\n",
       "      <td>826.0</td>\n",
       "      <td>3.0</td>\n",
       "      <td>unknown_price</td>\n",
       "      <td>9.0</td>\n",
       "      <td>[['Wasting of money', 'excellent cuisine'], ['...</td>\n",
       "      <td>/Restaurant_Review-g274924-d3199765-Reviews-Ri...</td>\n",
       "      <td>d3199765</td>\n",
       "      <td>...</td>\n",
       "      <td>[c_Italian]</td>\n",
       "      <td>1</td>\n",
       "      <td>0</td>\n",
       "      <td>0</td>\n",
       "      <td>0</td>\n",
       "      <td>1</td>\n",
       "      <td>0</td>\n",
       "      <td>0</td>\n",
       "      <td>0</td>\n",
       "      <td>0</td>\n",
       "    </tr>\n",
       "  </tbody>\n",
       "</table>\n",
       "<p>8 rows × 31 columns</p>\n",
       "</div>"
      ],
      "text/plain": [
       "  Restaurant_id         City  \\\n",
       "0       id_5569        Paris   \n",
       "1       id_1535  UnknownCity   \n",
       "2        id_352       London   \n",
       "3       id_3456       Berlin   \n",
       "4        id_615  UnknownCity   \n",
       "5       id_1418  UnknownCity   \n",
       "6       id_1720        Milan   \n",
       "7        id_825  UnknownCity   \n",
       "\n",
       "                                       Cuisine Style  Ranking  Rating  \\\n",
       "0            ['European', 'French', 'International']   5570.0     3.5   \n",
       "1                                                NaN   1537.0     4.0   \n",
       "2  ['Japanese', 'Sushi', 'Asian', 'Grill', 'Veget...    353.0     4.5   \n",
       "3                                                NaN   3458.0     5.0   \n",
       "4  ['German', 'Central European', 'Vegetarian Fri...    621.0     4.0   \n",
       "5                                                NaN   1419.0     3.0   \n",
       "6                               ['Italian', 'Pizza']   1722.0     4.0   \n",
       "7                                        ['Italian']    826.0     3.0   \n",
       "\n",
       "     Price Range  Number of Reviews  \\\n",
       "0   middle_price              194.0   \n",
       "1  unknown_price               10.0   \n",
       "2     high_price              688.0   \n",
       "3  unknown_price                3.0   \n",
       "4   middle_price               84.0   \n",
       "5  unknown_price                2.0   \n",
       "6      low_price               50.0   \n",
       "7  unknown_price                9.0   \n",
       "\n",
       "                                             Reviews  \\\n",
       "0  [['Good food at your doorstep', 'A good hotel ...   \n",
       "1  [['Unique cuisine', 'Delicious Nepalese food']...   \n",
       "2  [['Catch up with friends', 'Not exceptional'],...   \n",
       "3                                           [[], []]   \n",
       "4  [['Best place to try a Bavarian food', 'Nice b...   \n",
       "5  [['There are better 3 star hotel bars', 'Amazi...   \n",
       "6  [['Excellent simple local eatery.', 'Excellent...   \n",
       "7  [['Wasting of money', 'excellent cuisine'], ['...   \n",
       "\n",
       "                                              URL_TA      ID_TA  ...  \\\n",
       "0  /Restaurant_Review-g187147-d1912643-Reviews-R_...   d1912643  ...   \n",
       "1  /Restaurant_Review-g189852-d7992032-Reviews-Bu...   d7992032  ...   \n",
       "2  /Restaurant_Review-g186338-d8632781-Reviews-RO...   d8632781  ...   \n",
       "3  /Restaurant_Review-g187323-d1358776-Reviews-Es...   d1358776  ...   \n",
       "4  /Restaurant_Review-g187309-d6864963-Reviews-Au...   d6864963  ...   \n",
       "5  /Restaurant_Review-g189180-d12503536-Reviews-D...  d12503536  ...   \n",
       "6  /Restaurant_Review-g187849-d5808504-Reviews-Pi...   d5808504  ...   \n",
       "7  /Restaurant_Review-g274924-d3199765-Reviews-Ri...   d3199765  ...   \n",
       "\n",
       "                                         CuisineList  CuisineCnt  \\\n",
       "0                              [c_European, c_Other]           3   \n",
       "1                                   [UnknownCausine]           0   \n",
       "2  [c_Other, c_Gluten Free Options, c_Vegetarian ...           7   \n",
       "3                                   [UnknownCausine]           0   \n",
       "4                   [c_Other, c_Vegetarian Friendly]           3   \n",
       "5                                   [UnknownCausine]           0   \n",
       "6                               [c_Other, c_Italian]           2   \n",
       "7                                        [c_Italian]           1   \n",
       "\n",
       "   UnknownCausine  c_European  c_Gluten Free Options  c_Italian  \\\n",
       "0               0           1                      0          0   \n",
       "1               1           0                      0          0   \n",
       "2               0           0                      1          0   \n",
       "3               1           0                      0          0   \n",
       "4               0           0                      0          0   \n",
       "5               1           0                      0          0   \n",
       "6               0           0                      0          1   \n",
       "7               0           0                      0          1   \n",
       "\n",
       "   c_Mediterranean  c_Other  c_Vegan Options  c_Vegetarian Friendly  \n",
       "0                0        1                0                      0  \n",
       "1                0        0                0                      0  \n",
       "2                0        1                1                      1  \n",
       "3                0        0                0                      0  \n",
       "4                0        1                0                      1  \n",
       "5                0        0                0                      0  \n",
       "6                0        1                0                      0  \n",
       "7                0        0                0                      0  \n",
       "\n",
       "[8 rows x 31 columns]"
      ]
     },
     "execution_count": 24,
     "metadata": {},
     "output_type": "execute_result"
    }
   ],
   "source": [
    "df.head(8)"
   ]
  },
  {
   "cell_type": "code",
   "execution_count": 25,
   "metadata": {},
   "outputs": [
    {
     "data": {
      "text/plain": [
       "2.390325"
      ]
     },
     "execution_count": 25,
     "metadata": {},
     "output_type": "execute_result"
    }
   ],
   "source": [
    "df['CuisineCnt'].sum()/40000"
   ]
  },
  {
   "cell_type": "code",
   "execution_count": 26,
   "metadata": {},
   "outputs": [],
   "source": [
    "import re\n",
    "reg = re.compile(r'\\d{2}/\\d{2}/\\d{4}')\n",
    "\n",
    "reviews = df['Reviews'].dropna().apply(lambda x: ['default'] if pd.isnull(x) else reg.findall(x))"
   ]
  },
  {
   "cell_type": "code",
   "execution_count": 27,
   "metadata": {},
   "outputs": [
    {
     "data": {
      "text/plain": [
       "40000"
      ]
     },
     "execution_count": 27,
     "metadata": {},
     "output_type": "execute_result"
    }
   ],
   "source": [
    "len(reviews)"
   ]
  },
  {
   "cell_type": "code",
   "execution_count": 28,
   "metadata": {},
   "outputs": [],
   "source": [
    "df['DaysBetween'] = abs(pd.to_datetime(reviews.str[1]) - pd.to_datetime(reviews.str[0])).dropna()"
   ]
  },
  {
   "cell_type": "code",
   "execution_count": 29,
   "metadata": {},
   "outputs": [],
   "source": [
    "df['DaysBetween'] = df['DaysBetween'].apply(lambda x: x.days)"
   ]
  },
  {
   "cell_type": "code",
   "execution_count": 30,
   "metadata": {},
   "outputs": [
    {
     "data": {
      "text/plain": [
       "0          41.0\n",
       "1         382.0\n",
       "2           2.0\n",
       "3           NaN\n",
       "4         272.0\n",
       "          ...  \n",
       "39995      34.0\n",
       "39996       9.0\n",
       "39997    3127.0\n",
       "39998      23.0\n",
       "39999    1306.0\n",
       "Name: DaysBetween, Length: 40000, dtype: float64"
      ]
     },
     "execution_count": 30,
     "metadata": {},
     "output_type": "execute_result"
    }
   ],
   "source": [
    "df['DaysBetween']"
   ]
  },
  {
   "cell_type": "code",
   "execution_count": 31,
   "metadata": {},
   "outputs": [
    {
     "ename": "AttributeError",
     "evalue": "Can only use .dt accessor with datetimelike values",
     "output_type": "error",
     "traceback": [
      "\u001b[0;31m---------------------------------------------------------------------------\u001b[0m",
      "\u001b[0;31mAttributeError\u001b[0m                            Traceback (most recent call last)",
      "\u001b[0;32m<ipython-input-31-eda89f529814>\u001b[0m in \u001b[0;36m<module>\u001b[0;34m\u001b[0m\n\u001b[1;32m      7\u001b[0m \u001b[0;34m\u001b[0m\u001b[0m\n\u001b[1;32m      8\u001b[0m \u001b[0;34m\u001b[0m\u001b[0m\n\u001b[0;32m----> 9\u001b[0;31m \u001b[0mdf\u001b[0m\u001b[0;34m[\u001b[0m\u001b[0;34m'Pastdays'\u001b[0m\u001b[0;34m]\u001b[0m \u001b[0;34m=\u001b[0m \u001b[0mdf\u001b[0m\u001b[0;34m[\u001b[0m\u001b[0;34m'DateTime1'\u001b[0m\u001b[0;34m]\u001b[0m \u001b[0;32mif\u001b[0m \u001b[0;34m(\u001b[0m\u001b[0mdf\u001b[0m\u001b[0;34m[\u001b[0m\u001b[0;34m'DateTime1'\u001b[0m\u001b[0;34m]\u001b[0m\u001b[0;34m-\u001b[0m\u001b[0mdf\u001b[0m\u001b[0;34m[\u001b[0m\u001b[0;34m'DateTime1'\u001b[0m\u001b[0;34m]\u001b[0m\u001b[0;34m)\u001b[0m\u001b[0;34m.\u001b[0m\u001b[0mdt\u001b[0m\u001b[0;34m.\u001b[0m\u001b[0mdays\u001b[0m\u001b[0;34m>\u001b[0m\u001b[0;36m0\u001b[0m \u001b[0;32melse\u001b[0m \u001b[0mdf\u001b[0m\u001b[0;34m[\u001b[0m\u001b[0;34m'DateTime2'\u001b[0m\u001b[0;34m]\u001b[0m\u001b[0;34m\u001b[0m\u001b[0;34m\u001b[0m\u001b[0m\n\u001b[0m",
      "\u001b[0;32m~/opt/anaconda3/lib/python3.8/site-packages/pandas/core/generic.py\u001b[0m in \u001b[0;36m__getattr__\u001b[0;34m(self, name)\u001b[0m\n\u001b[1;32m   5133\u001b[0m             \u001b[0;32mor\u001b[0m \u001b[0mname\u001b[0m \u001b[0;32min\u001b[0m \u001b[0mself\u001b[0m\u001b[0;34m.\u001b[0m\u001b[0m_accessors\u001b[0m\u001b[0;34m\u001b[0m\u001b[0;34m\u001b[0m\u001b[0m\n\u001b[1;32m   5134\u001b[0m         ):\n\u001b[0;32m-> 5135\u001b[0;31m             \u001b[0;32mreturn\u001b[0m \u001b[0mobject\u001b[0m\u001b[0;34m.\u001b[0m\u001b[0m__getattribute__\u001b[0m\u001b[0;34m(\u001b[0m\u001b[0mself\u001b[0m\u001b[0;34m,\u001b[0m \u001b[0mname\u001b[0m\u001b[0;34m)\u001b[0m\u001b[0;34m\u001b[0m\u001b[0;34m\u001b[0m\u001b[0m\n\u001b[0m\u001b[1;32m   5136\u001b[0m         \u001b[0;32melse\u001b[0m\u001b[0;34m:\u001b[0m\u001b[0;34m\u001b[0m\u001b[0;34m\u001b[0m\u001b[0m\n\u001b[1;32m   5137\u001b[0m             \u001b[0;32mif\u001b[0m \u001b[0mself\u001b[0m\u001b[0;34m.\u001b[0m\u001b[0m_info_axis\u001b[0m\u001b[0;34m.\u001b[0m\u001b[0m_can_hold_identifiers_and_holds_name\u001b[0m\u001b[0;34m(\u001b[0m\u001b[0mname\u001b[0m\u001b[0;34m)\u001b[0m\u001b[0;34m:\u001b[0m\u001b[0;34m\u001b[0m\u001b[0;34m\u001b[0m\u001b[0m\n",
      "\u001b[0;32m~/opt/anaconda3/lib/python3.8/site-packages/pandas/core/accessor.py\u001b[0m in \u001b[0;36m__get__\u001b[0;34m(self, obj, cls)\u001b[0m\n\u001b[1;32m    185\u001b[0m             \u001b[0;31m# we're accessing the attribute of the class, i.e., Dataset.geo\u001b[0m\u001b[0;34m\u001b[0m\u001b[0;34m\u001b[0m\u001b[0;34m\u001b[0m\u001b[0m\n\u001b[1;32m    186\u001b[0m             \u001b[0;32mreturn\u001b[0m \u001b[0mself\u001b[0m\u001b[0;34m.\u001b[0m\u001b[0m_accessor\u001b[0m\u001b[0;34m\u001b[0m\u001b[0;34m\u001b[0m\u001b[0m\n\u001b[0;32m--> 187\u001b[0;31m         \u001b[0maccessor_obj\u001b[0m \u001b[0;34m=\u001b[0m \u001b[0mself\u001b[0m\u001b[0;34m.\u001b[0m\u001b[0m_accessor\u001b[0m\u001b[0;34m(\u001b[0m\u001b[0mobj\u001b[0m\u001b[0;34m)\u001b[0m\u001b[0;34m\u001b[0m\u001b[0;34m\u001b[0m\u001b[0m\n\u001b[0m\u001b[1;32m    188\u001b[0m         \u001b[0;31m# Replace the property with the accessor object. Inspired by:\u001b[0m\u001b[0;34m\u001b[0m\u001b[0;34m\u001b[0m\u001b[0;34m\u001b[0m\u001b[0m\n\u001b[1;32m    189\u001b[0m         \u001b[0;31m# https://www.pydanny.com/cached-property.html\u001b[0m\u001b[0;34m\u001b[0m\u001b[0;34m\u001b[0m\u001b[0;34m\u001b[0m\u001b[0m\n",
      "\u001b[0;32m~/opt/anaconda3/lib/python3.8/site-packages/pandas/core/indexes/accessors.py\u001b[0m in \u001b[0;36m__new__\u001b[0;34m(cls, data)\u001b[0m\n\u001b[1;32m    478\u001b[0m             \u001b[0;32mreturn\u001b[0m \u001b[0mPeriodProperties\u001b[0m\u001b[0;34m(\u001b[0m\u001b[0mdata\u001b[0m\u001b[0;34m,\u001b[0m \u001b[0morig\u001b[0m\u001b[0;34m)\u001b[0m\u001b[0;34m\u001b[0m\u001b[0;34m\u001b[0m\u001b[0m\n\u001b[1;32m    479\u001b[0m \u001b[0;34m\u001b[0m\u001b[0m\n\u001b[0;32m--> 480\u001b[0;31m         \u001b[0;32mraise\u001b[0m \u001b[0mAttributeError\u001b[0m\u001b[0;34m(\u001b[0m\u001b[0;34m\"Can only use .dt accessor with datetimelike values\"\u001b[0m\u001b[0;34m)\u001b[0m\u001b[0;34m\u001b[0m\u001b[0;34m\u001b[0m\u001b[0m\n\u001b[0m",
      "\u001b[0;31mAttributeError\u001b[0m: Can only use .dt accessor with datetimelike values"
     ]
    }
   ],
   "source": [
    "from datetime import datetime\n",
    "df['DateTime1'] = pd.to_datetime(reviews.str[0])\n",
    "df['DateTime2'] = pd.to_datetime(reviews.str[1])\n",
    "# готовим данные, чтобы произвести вычисления\n",
    "df['DateTime1'].fillna(-1, inplace=True)\n",
    "df['DateTime2'].fillna(-1, inplace=True)\n",
    "\n",
    "\n",
    "df['Pastdays'] = df['DateTime1'] if (df['DateTime1']-df['DateTime1']).dt.days>0 else df['DateTime2']"
   ]
  },
  {
   "cell_type": "code",
   "execution_count": 32,
   "metadata": {},
   "outputs": [
    {
     "data": {
      "text/plain": [
       "5465     [11/19/2017, 11/11/2017]\n",
       "33002    [01/09/2018, 08/17/2017]\n",
       "14583    [03/09/2017, 10/14/2016]\n",
       "7492                           []\n",
       "16222    [02/18/2018, 11/20/2017]\n",
       "18035    [05/14/2017, 04/24/2017]\n",
       "36264    [09/06/2017, 08/09/2017]\n",
       "19612                          []\n",
       "19242    [09/20/2017, 05/26/2017]\n",
       "10866                          []\n",
       "444      [07/04/2017, 09/05/2016]\n",
       "7729     [01/01/2018, 11/27/2017]\n",
       "12858    [09/30/2017, 01/11/2017]\n",
       "30878    [11/10/2015, 03/28/2015]\n",
       "39765    [12/22/2017, 10/11/2017]\n",
       "Name: Reviews, dtype: object"
      ]
     },
     "execution_count": 32,
     "metadata": {},
     "output_type": "execute_result"
    }
   ],
   "source": [
    "reviews.sample(15)"
   ]
  },
  {
   "cell_type": "code",
   "execution_count": 33,
   "metadata": {},
   "outputs": [],
   "source": [
    "c=pd.to_datetime(reviews.str[0]).dropna()\n",
    "d=pd.to_datetime(reviews.str[1]).dropna()"
   ]
  },
  {
   "cell_type": "code",
   "execution_count": 34,
   "metadata": {},
   "outputs": [
    {
     "data": {
      "text/plain": [
       "33529"
      ]
     },
     "execution_count": 34,
     "metadata": {},
     "output_type": "execute_result"
    }
   ],
   "source": [
    "len(c)"
   ]
  },
  {
   "cell_type": "code",
   "execution_count": 35,
   "metadata": {},
   "outputs": [
    {
     "data": {
      "text/plain": [
       "Timestamp('2018-02-26 00:00:00')"
      ]
     },
     "execution_count": 35,
     "metadata": {},
     "output_type": "execute_result"
    }
   ],
   "source": [
    "d.max()"
   ]
  },
  {
   "cell_type": "code",
   "execution_count": 36,
   "metadata": {},
   "outputs": [
    {
     "data": {
      "text/plain": [
       "Timestamp('2018-02-26 00:00:00')"
      ]
     },
     "execution_count": 36,
     "metadata": {},
     "output_type": "execute_result"
    }
   ],
   "source": [
    "c.max()"
   ]
  },
  {
   "cell_type": "code",
   "execution_count": 37,
   "metadata": {},
   "outputs": [
    {
     "data": {
      "text/plain": [
       "Timedelta('3207 days 00:00:00')"
      ]
     },
     "execution_count": 37,
     "metadata": {},
     "output_type": "execute_result"
    }
   ],
   "source": [
    "f=c-d\n",
    "#f.sort_values(ascending=False)\n",
    "f.max()"
   ]
  },
  {
   "cell_type": "code",
   "execution_count": 38,
   "metadata": {},
   "outputs": [
    {
     "data": {
      "text/plain": [
       "0        [12/31/2017, 11/20/2017]\n",
       "1        [07/06/2017, 06/19/2016]\n",
       "2        [01/08/2018, 01/06/2018]\n",
       "3                              []\n",
       "4        [11/18/2017, 02/19/2017]\n",
       "                   ...           \n",
       "39995    [12/16/2017, 11/12/2017]\n",
       "39996    [12/21/2017, 12/12/2017]\n",
       "39997    [11/03/2016, 04/12/2008]\n",
       "39998    [07/11/2017, 06/18/2017]\n",
       "39999    [01/31/2016, 07/04/2012]\n",
       "Name: Reviews, Length: 40000, dtype: object"
      ]
     },
     "execution_count": 38,
     "metadata": {},
     "output_type": "execute_result"
    }
   ],
   "source": [
    "reviews"
   ]
  },
  {
   "cell_type": "code",
   "execution_count": null,
   "metadata": {},
   "outputs": [],
   "source": []
  }
 ],
 "metadata": {
  "kernelspec": {
   "display_name": "Python 3",
   "language": "python",
   "name": "python3"
  },
  "language_info": {
   "codemirror_mode": {
    "name": "ipython",
    "version": 3
   },
   "file_extension": ".py",
   "mimetype": "text/x-python",
   "name": "python",
   "nbconvert_exporter": "python",
   "pygments_lexer": "ipython3",
   "version": "3.8.5"
  }
 },
 "nbformat": 4,
 "nbformat_minor": 4
}
